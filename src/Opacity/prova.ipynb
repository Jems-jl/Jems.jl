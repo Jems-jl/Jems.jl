{
 "cells": [
  {
   "cell_type": "code",
   "execution_count": 2,
   "metadata": {},
   "outputs": [],
   "source": [
    "import numpy as np\n",
    "import matplotlib.pyplot as plt"
   ]
  },
  {
   "cell_type": "code",
   "execution_count": 40,
   "metadata": {},
   "outputs": [],
   "source": [
    "def kramer(lnrho,lnT,X):\n",
    "    return 3.8 * 10**(22)* (1 + 0.7) * np.exp(lnrho) * np.exp(lnT)**(-7/2) + 0.2 * (1+X)\n",
    "def hminus(lnrho,lnT,Z):\n",
    "    return 2.5*10**(-31)*(Z/0.02)*np.exp(lnrho)**(1/2)*np.exp(lnT)**(9)"
   ]
  },
  {
   "cell_type": "code",
   "execution_count": 43,
   "metadata": {},
   "outputs": [
    {
     "data": {
      "text/plain": [
       "[<matplotlib.lines.Line2D at 0x7fcca04549d0>]"
      ]
     },
     "execution_count": 43,
     "metadata": {},
     "output_type": "execute_result"
    },
    {
     "data": {
      "image/png": "[encoded data removed]",
      "text/plain": [
       "<Figure size 432x288 with 1 Axes>"
      ]
     },
     "metadata": {
      "needs_background": "light"
     },
     "output_type": "display_data"
    }
   ],
   "source": [
    "lnT=np.linspace(0.25,15,100)\n",
    "# lnrho=np.linspace(-5,-1.3,100)\n",
    "lnrho=np.linspace(-4,-4,100)\n",
    "uno=plt.subplot(111)\n",
    "plt.plot(lnT/np.log(10),np.log10(kramer(lnrho,lnT,0.7)))\n",
    "plt.plot(lnT/np.log(10),np.log10(hminus(lnrho,lnT,0.0001)))\n",
    "# uno.invert_xaxis()\n",
    "plt.ylim(-10,10)\n",
    "plt.plot(lnT/np.log(10),np.log10((1/(hminus(lnrho,lnT,0.0001))+1/(kramer(lnrho,lnT,0.7)))**(-1)+0.0001*0.1))"
   ]
  },
  {
   "cell_type": "code",
   "execution_count": 5,
   "metadata": {},
   "outputs": [
    {
     "data": {
      "text/plain": [
       "array([0.10857362, 0.17327911, 0.2379846 , 0.30269009, 0.36739558,\n",
       "       0.43210108, 0.49680657, 0.56151206, 0.62621755, 0.69092304,\n",
       "       0.75562853, 0.82033402, 0.88503951, 0.949745  , 1.01445049,\n",
       "       1.07915599, 1.14386148, 1.20856697, 1.27327246, 1.33797795,\n",
       "       1.40268344, 1.46738893, 1.53209442, 1.59679991, 1.6615054 ,\n",
       "       1.7262109 , 1.79091639, 1.85562188, 1.92032737, 1.98503286,\n",
       "       2.04973835, 2.11444384, 2.17914933, 2.24385482, 2.30856031,\n",
       "       2.37326581, 2.4379713 , 2.50267679, 2.56738228, 2.63208777,\n",
       "       2.69679326, 2.76149875, 2.82620424, 2.89090973, 2.95561522,\n",
       "       3.02032072, 3.08502621, 3.1497317 , 3.21443719, 3.27914268,\n",
       "       3.34384817, 3.40855366, 3.47325915, 3.53796464, 3.60267013,\n",
       "       3.66737562, 3.73208112, 3.79678661, 3.8614921 , 3.92619759,\n",
       "       3.99090308, 4.05560857, 4.12031406, 4.18501955, 4.24972504,\n",
       "       4.31443053, 4.37913603, 4.44384152, 4.50854701, 4.5732525 ,\n",
       "       4.63795799, 4.70266348, 4.76736897, 4.83207446, 4.89677995,\n",
       "       4.96148544, 5.02619094, 5.09089643, 5.15560192, 5.22030741,\n",
       "       5.2850129 , 5.34971839, 5.41442388, 5.47912937, 5.54383486,\n",
       "       5.60854035, 5.67324585, 5.73795134, 5.80265683, 5.86736232,\n",
       "       5.93206781, 5.9967733 , 6.06147879, 6.12618428, 6.19088977,\n",
       "       6.25559526, 6.32030076, 6.38500625, 6.44971174, 6.51441723])"
      ]
     },
     "execution_count": 5,
     "metadata": {},
     "output_type": "execute_result"
    }
   ],
   "source": [
    "lnT/np.log(10)"
   ]
  },
  {
   "cell_type": "code",
   "execution_count": null,
   "metadata": {},
   "outputs": [],
   "source": []
  }
 ],
 "metadata": {
  "kernelspec": {
   "display_name": "Python 3",
   "language": "python",
   "name": "python3"
  },
  "language_info": {
   "codemirror_mode": {
    "name": "ipython",
    "version": 3
   },
   "file_extension": ".py",
   "mimetype": "text/x-python",
   "name": "python",
   "nbconvert_exporter": "python",
   "pygments_lexer": "ipython3",
   "version": "3.8.10"
  }
 },
 "nbformat": 4,
 "nbformat_minor": 2
}

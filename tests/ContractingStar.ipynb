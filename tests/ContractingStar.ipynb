{
 "cells": [
  {
   "cell_type": "code",
   "execution_count": 1,
   "id": "1ebebc11",
   "metadata": {},
   "outputs": [],
   "source": [
    "using BenchmarkTools\n",
    "using StellarChem\n",
    "using StellarConstants\n",
    "using StellarEOS\n",
    "using StellarOpacity\n",
    "using StellarEvolution"
   ]
  },
  {
   "cell_type": "code",
   "execution_count": 2,
   "id": "54b2b111",
   "metadata": {},
   "outputs": [
    {
     "data": {
      "text/plain": [
       "equationHe4 (generic function with 1 method)"
      ]
     },
     "metadata": {},
     "output_type": "display_data"
    }
   ],
   "source": [
    "function equationHSE(sm, k, varm1::Vector{<:TT}, var00::Vector{<:TT}, varp1::Vector{<:TT},\n",
    "                            eosm1::Vector{<:TT}, eos00::Vector{<:TT}, eosp1::Vector{<:TT},\n",
    "                            κm1::TT, κ00::TT, κp1::TT)::TT where{TT<:Real}\n",
    "    if k==sm.nz\n",
    "        lnP₀ = var00[sm.vari[:lnP]]\n",
    "        r₀ = exp(var00[sm.vari[:lnr]])\n",
    "        g₀ = CGRAV*sm.mstar/r₀^2\n",
    "        return lnP₀ -log(2g₀/(3κ00)) # Eddington gray, ignoring radiation pressure term\n",
    "    end\n",
    "    lnP₊ = varp1[sm.vari[:lnP]]\n",
    "    lnP₀ = var00[sm.vari[:lnP]]\n",
    "    lnPface = (sm.dm[k]*lnP₀ + sm.dm[k+1]*lnP₊)/(sm.dm[k]+sm.dm[k+1])\n",
    "    r₀ = exp(var00[sm.vari[:lnr]])\n",
    "    dm = (sm.m[k+1]-sm.m[k])\n",
    "    \n",
    "    return (exp(lnPface)*(lnP₊ - lnP₀)/dm + CGRAV*sm.m[k]/(4π*r₀^4))/(CGRAV*sm.m[k]/(4π*r₀^4))\n",
    "end\n",
    "\n",
    "function equationT(sm, k, varm1::Vector{<:TT}, var00::Vector{<:TT}, varp1::Vector{<:TT},\n",
    "                          eosm1::Vector{<:TT}, eos00::Vector{<:TT}, eosp1::Vector{<:TT},\n",
    "                          κm1::TT, κ00::TT, κp1::TT)::TT where{TT<:Real}\n",
    "    if k==sm.nz\n",
    "        lnT₀ = var00[sm.vari[:lnT]]\n",
    "        L₀ = var00[sm.vari[:lum]]*LSUN\n",
    "        r₀ = exp(var00[sm.vari[:lnr]])\n",
    "        return lnT₀ - log(L₀/(BOLTZ_SIGMA*4π*r₀^2))/4 # Eddington gray, ignoring radiation pressure term\n",
    "    end\n",
    "    κface = exp((sm.dm[k]*log(κ00) + sm.dm[k+1]*log(κp1))/(sm.dm[k]+sm.dm[k+1]))\n",
    "    L₀ = var00[sm.vari[:lum]]*LSUN\n",
    "    r₀ = exp(var00[sm.vari[:lnr]])\n",
    "    Pface = exp((sm.dm[k]*var00[sm.vari[:lnP]] + sm.dm[k+1]*varp1[sm.vari[:lnP]])/(sm.dm[k]+sm.dm[k+1]))\n",
    "    lnT₊ = varp1[sm.vari[:lnT]]\n",
    "    lnT₀ = var00[sm.vari[:lnT]]\n",
    "    Tface = exp((sm.dm[k]*lnT₀ + sm.dm[k+1]*lnT₊)/(sm.dm[k]+sm.dm[k+1]))\n",
    "\n",
    "    ∇ᵣ = 3κface*L₀*Pface/(16π*CRAD*CLIGHT*CGRAV*sm.m[k]*Tface^4)\n",
    "\n",
    "    return (Tface*(lnT₊ - lnT₀)/sm.dm[k] + CGRAV*sm.m[k]*Tface/(4π*r₀^4*Pface)*∇ᵣ)/(CGRAV*sm.m[k]*Tface/(4π*r₀^4*Pface)) # only radiative transport\n",
    "end\n",
    "\n",
    "function equationLuminosity(sm, k, varm1::Vector{<:TT}, var00::Vector{<:TT}, varp1::Vector{<:TT},\n",
    "                          eosm1::Vector{<:TT}, eos00::Vector{<:TT}, eosp1::Vector{<:TT},\n",
    "                          κm1::TT, κ00::TT, κp1::TT)::TT where{TT<:Real}\n",
    "    L₋::TT = 0 # central luminosity is zero at first cell\n",
    "    if k>1\n",
    "        L₋ = varm1[sm.vari[:lum]]*LSUN # change it if not at first cell\n",
    "    end\n",
    "    L₀ = var00[sm.vari[:lum]]*LSUN\n",
    "    ρ₀ = eos00[1]\n",
    "    cₚ = eos00[5]\n",
    "    δ = eos00[6]\n",
    "    dTdt = (exp(var00[sm.vari[:lnT]]) - exp(sm.ssi.lnT_old[k]))/sm.ssi.dt\n",
    "    dPdt = (exp(var00[sm.vari[:lnP]]) - exp(sm.ssi.lnP_old[k]))/sm.ssi.dt\n",
    "    return ((L₀-L₋)/sm.dm[k]+cₚ*dTdt -(δ/ρ₀)*dPdt) # no nuclear reactions or neutrinos\n",
    "end\n",
    "\n",
    "function equationContinuity(sm, k, varm1::Vector{<:TT}, var00::Vector{<:TT}, varp1::Vector{<:TT},\n",
    "                                   eosm1::Vector{<:TT}, eos00::Vector{<:TT}, eosp1::Vector{<:TT},\n",
    "                                   κm1::TT, κ00::TT, κp1::TT)::TT where{TT<:Real}\n",
    "    ρ₀ = eos00[1]\n",
    "    r₀ = exp(var00[sm.vari[:lnr]])\n",
    "    r₋::TT = 0 # central radius is zero at first cell\n",
    "    if k>1\n",
    "        r₋ = exp(varm1[sm.vari[:lnr]]) # change it if not at first cell\n",
    "    end\n",
    "    \n",
    "    dm = sm.m[k] # this is only valid for k=1\n",
    "    if k>1\n",
    "        dm = dm-sm.m[k-1]\n",
    "    end\n",
    "\n",
    "    #expected_r₀ = r₋ + dm/(4π*r₋^2*ρ)\n",
    "    expected_dr³_dm = 3/(4π*ρ₀)\n",
    "    actual_dr³_dm = (r₀^3-r₋^3)/dm\n",
    "    \n",
    "    return (expected_dr³_dm - actual_dr³_dm)*ρ₀\n",
    "end\n",
    "\n",
    "function equationH1(sm, k, varm1::Vector{<:TT}, var00::Vector{<:TT}, varp1::Vector{<:TT},\n",
    "                                    eosm1::Vector{<:TT}, eos00::Vector{<:TT}, eosp1::Vector{<:TT},\n",
    "                                    κm1::TT, κ00::TT, κp1::TT)::TT where{TT<:Real}\n",
    "    return var00[sm.vari[:H1]] - 1.0\n",
    "end\n",
    "\n",
    "function equationHe4(sm, k, varm1::Vector{<:TT}, var00::Vector{<:TT}, varp1::Vector{<:TT},\n",
    "                                    eosm1::Vector{<:TT}, eos00::Vector{<:TT}, eosp1::Vector{<:TT},\n",
    "                                    κm1::TT, κ00::TT, κp1::TT)::TT where{TT<:Real}\n",
    "    return var00[sm.vari[:He4]] - 1.0\n",
    "end"
   ]
  },
  {
   "cell_type": "code",
   "execution_count": 3,
   "id": "67a989b0",
   "metadata": {},
   "outputs": [],
   "source": [
    "nvars = 5\n",
    "nspecies = 1\n",
    "varnames = [:lnP,:lnT,:lnr,:lum,:H1]\n",
    "structure_equations=[equationHSE, equationT,\n",
    "                        equationContinuity, equationLuminosity,\n",
    "                        equationH1, equationHe4]\n",
    "nz = 1000\n",
    "eos = StellarEOS.IdealEOS(true)\n",
    "opacity = StellarOpacity.SimpleElectronScatteringOpacity()\n",
    "sm = StellarModel(varnames, structure_equations, nvars, nspecies, nz, eos, opacity);"
   ]
  },
  {
   "cell_type": "code",
   "execution_count": 4,
   "id": "ed25db5d",
   "metadata": {},
   "outputs": [
    {
     "data": {
      "text/plain": [
       "T_const_ρ (generic function with 1 method)"
      ]
     },
     "metadata": {},
     "output_type": "display_data"
    }
   ],
   "source": [
    "sm.mstar = MSUN\n",
    "function r_const_ρ(m,ρ)\n",
    "    return @. (3m/(4π*ρ))^(1/3)\n",
    "end\n",
    "function P_const_ρ(m,ρ,M)\n",
    "    Pc = 3*CGRAV/(8π)*(4π*ρ/3)^(4/3)*M^(2/3)\n",
    "    return @. -3*CGRAV/(8π)*(4π*ρ/3)^(4/3)*m^(2/3) + Pc\n",
    "end\n",
    "function T_const_ρ(m,ρ,M, XH1, XHe4, isotope_data)\n",
    "    P = P_const_ρ(m,ρ,M)\n",
    "    μ = StellarEOS.get_μ_IdealEOS(isotope_data,[XH1,XHe4], [:H1,:He4])\n",
    "    return @. P*μ/(CGAS*ρ)\n",
    "end"
   ]
  },
  {
   "cell_type": "code",
   "execution_count": 5,
   "id": "5d41b5a1",
   "metadata": {},
   "outputs": [],
   "source": [
    "# create a profile for composition that better resolves edges\n",
    "function get_logdq(k, nz, logdq_low, logdq_high, numregion)\n",
    "    if k<numregion\n",
    "        return logdq_low+(k-1)*(logdq_high - logdq_low)/(numregion-1)\n",
    "    elseif k<nz-numregion\n",
    "        return logdq_high\n",
    "    else\n",
    "        k0 = nz-numregion\n",
    "        k1 = nz\n",
    "        return logdq_high+(logdq_low-logdq_high)*(k-k0)/(k1-k0)\n",
    "    end\n",
    "end\n",
    "logdqs = get_logdq.(1:sm.nz,sm.nz,-3.0,0.0,100)\n",
    "dqs = 10 .^ logdqs\n",
    "dqs = dqs./sum(dqs)\n",
    "dms = dqs.*MSUN\n",
    "m_face = cumsum(dms)\n",
    "m_cell = cumsum(dms)\n",
    "#correct m_center\n",
    "for i in 1:sm.nz\n",
    "    if i==1\n",
    "        m_cell[i] = 0\n",
    "    elseif i!=sm.nz\n",
    "        m_cell[i] = m_cell[i] - 0.5*dms[i]\n",
    "    end\n",
    "end"
   ]
  },
  {
   "cell_type": "code",
   "execution_count": 6,
   "id": "c8a8ee0d",
   "metadata": {},
   "outputs": [
    {
     "data": {
      "text/plain": [
       "1.0"
      ]
     },
     "metadata": {},
     "output_type": "display_data"
    }
   ],
   "source": [
    "isotope_list = StellarChem.get_isotope_list()\n",
    "\n",
    "#values at cell center\n",
    "for i in 1:sm.nz\n",
    "    ρ = 0.01\n",
    "    XH = 1.0\n",
    "    #XHe = 0.3\n",
    "    sm.ind_vars[(i-1)*sm.nvars+sm.vari[:lnr]] = log(r_const_ρ(m_cell[i],ρ))\n",
    "    sm.ind_vars[(i-1)*sm.nvars+sm.vari[:lnP]] = log(P_const_ρ(m_cell[i],ρ,MSUN))\n",
    "    sm.ind_vars[(i-1)*sm.nvars+sm.vari[:lnT]] = log(T_const_ρ(m_cell[i],ρ,MSUN,1.0,0.0,isotope_list))\n",
    "    sm.ind_vars[(i-1)*sm.nvars+sm.vari[:H1]] = XH\n",
    "    #sm.ind_vars[(i-1)*sm.nvars+sm.vari[:He4]] = XHe\n",
    "    sm.ind_vars[(i-1)*sm.nvars+sm.vari[:lum]] = 1\n",
    "end\n",
    "\n",
    "#set dm and m at cell face\n",
    "sm.dm = dms\n",
    "sm.m = m_face\n",
    "#evaluate radius\n",
    "for i in 1:sm.nz\n",
    "    ρ = 0.01\n",
    "    XH = 1.0\n",
    "    sm.ind_vars[(i-1)*sm.nvars+sm.vari[:lnr]] = log(r_const_ρ(m_face[i],ρ))\n",
    "end\n",
    "\n",
    "#special cases, just copy values at edges\n",
    "sm.ind_vars[(1-1)*sm.nvars+sm.vari[:lnP]] = sm.ind_vars[(2-1)*sm.nvars+sm.vari[:lnP]]\n",
    "sm.ind_vars[(1-1)*sm.nvars+sm.vari[:lnT]] = sm.ind_vars[(2-1)*sm.nvars+sm.vari[:lnT]]\n",
    "sm.ind_vars[(1-1)*sm.nvars+sm.vari[:lum]] = 0\n",
    "sm.ind_vars[(sm.nz-1)*sm.nvars+sm.vari[:lnP]] = sm.ind_vars[(sm.nz-2)*sm.nvars+sm.vari[:lnP]]\n",
    "sm.ind_vars[(sm.nz-1)*sm.nvars+sm.vari[:lnT]] = sm.ind_vars[(sm.nz-2)*sm.nvars+sm.vari[:lnT]]\n",
    "sm.ind_vars[(sm.nz-1)*sm.nvars+sm.vari[:lum]] = sm.ind_vars[(sm.nz-2)*sm.nvars+sm.vari[:lum]]"
   ]
  },
  {
   "cell_type": "code",
   "execution_count": 7,
   "id": "f6ae4505",
   "metadata": {},
   "outputs": [],
   "source": [
    "sm.ssi.dt = 365.25*24*3600\n",
    "sm.ssi.lnT_old = zeros(sm.nz)\n",
    "sm.ssi.lnP_old = zeros(sm.nz)\n",
    "for i in 1:sm.nz\n",
    "    sm.ssi.lnT_old[i] = sm.ind_vars[(i-1)*sm.nvars+sm.vari[:lnT]]\n",
    "    sm.ssi.lnP_old[i] = sm.ind_vars[(i-1)*sm.nvars+sm.vari[:lnP]]\n",
    "end"
   ]
  },
  {
   "cell_type": "code",
   "execution_count": 8,
   "id": "67106858",
   "metadata": {},
   "outputs": [],
   "source": [
    "#@benchmark StellarEvolution.eval_jacobian_row!(sm,1)"
   ]
  },
  {
   "cell_type": "code",
   "execution_count": 9,
   "id": "9f07653c",
   "metadata": {},
   "outputs": [],
   "source": [
    "#@benchmark StellarEvolution.eval_jacobian!(sm)"
   ]
  },
  {
   "cell_type": "code",
   "execution_count": 10,
   "id": "da4e3795",
   "metadata": {},
   "outputs": [
    {
     "name": "stdout",
     "output_type": "stream",
     "text": [
      "(i, maximum(corr), real_max_corr) = (100, 0.1, 4.496054386697812)\n"
     ]
    },
    {
     "name": "stdout",
     "output_type": "stream",
     "text": [
      "(i, maximum(corr), real_max_corr) = (200, 0.1, 0.8952461507727102)\n"
     ]
    },
    {
     "name": "stdout",
     "output_type": "stream",
     "text": [
      "Found first model\n"
     ]
    },
    {
     "name": "stdout",
     "output_type": "stream",
     "text": [
      "(k, i, real_max_corr) = (200, 3, 1.4162793112059357e-11)\n"
     ]
    },
    {
     "name": "stdout",
     "output_type": "stream",
     "text": [
      "(k, i, real_max_corr) = (400, 3, 2.872928741715858e-11)\n"
     ]
    },
    {
     "name": "stdout",
     "output_type": "stream",
     "text": [
      "(k, i, real_max_corr) = (600, 4, 8.686674665794325e-12)\n"
     ]
    },
    {
     "name": "stdout",
     "output_type": "stream",
     "text": [
      "(i, maximum(corr), real_max_corr) = (100, 0.5, 5.275141977809744)\n"
     ]
    },
    {
     "name": "stdout",
     "output_type": "stream",
     "text": [
      "(i, maximum(corr), real_max_corr) = (100, 0.5, 7.88520406201635)\n"
     ]
    },
    {
     "name": "stdout",
     "output_type": "stream",
     "text": [
      "(i, maximum(corr), real_max_corr) = (100, 0.5, 6.950449669963175)\n"
     ]
    },
    {
     "name": "stdout",
     "output_type": "stream",
     "text": [
      "(k, i, real_max_corr) = (800, 4, 1.9696099347049494e-14)\n"
     ]
    },
    {
     "name": "stdout",
     "output_type": "stream",
     "text": [
      "(k, i, real_max_corr) = (1000, 3, 2.0587880606928892e-13)\n"
     ]
    },
    {
     "name": "stdout",
     "output_type": "stream",
     "text": [
      "(k, i, real_max_corr) = (1200, 3, 3.858237752417596e-13)\n"
     ]
    },
    {
     "name": "stdout",
     "output_type": "stream",
     "text": [
      "(k, i, real_max_corr) = (1400, 3, 3.891907682882101e-13)\n"
     ]
    },
    {
     "name": "stdout",
     "output_type": "stream",
     "text": [
      "(k, i, real_max_corr) = (1600, 3, 4.399793168144372e-13)\n"
     ]
    },
    {
     "name": "stdout",
     "output_type": "stream",
     "text": [
      "(k, i, real_max_corr) = (1800, 3, 4.4945303545506e-13)\n"
     ]
    },
    {
     "name": "stdout",
     "output_type": "stream",
     "text": [
      "(k, i, real_max_corr) = (2000, 3, 4.3675965658155e-13)\n"
     ]
    },
    {
     "name": "stdout",
     "output_type": "stream",
     "text": [
      "(k, i, real_max_corr) = (2200, 3, 4.06867283145517e-13)\n"
     ]
    },
    {
     "name": "stdout",
     "output_type": "stream",
     "text": [
      "(k, i, real_max_corr) = (2400, 3, 3.698487534101293e-13)\n"
     ]
    },
    {
     "name": "stdout",
     "output_type": "stream",
     "text": [
      "(k, i, real_max_corr) = (2600, 3, 3.3984604017665967e-13)\n"
     ]
    },
    {
     "name": "stdout",
     "output_type": "stream",
     "text": [
      "(k, i, real_max_corr) = (2800, 3, 3.032629307280836e-13)\n"
     ]
    },
    {
     "name": "stdout",
     "output_type": "stream",
     "text": [
      "(k, i, real_max_corr) = (3000, 3, 2.7146900491840465e-13)\n"
     ]
    },
    {
     "name": "stdout",
     "output_type": "stream",
     "text": [
      "(k, i, real_max_corr) = (3200, 3, 2.4282644657917434e-13)\n"
     ]
    },
    {
     "name": "stdout",
     "output_type": "stream",
     "text": [
      "(k, i, real_max_corr) = (3400, 3, 2.2043966973103126e-13)\n"
     ]
    },
    {
     "name": "stdout",
     "output_type": "stream",
     "text": [
      "(k, i, real_max_corr) = (3600, 3, 1.9205674113901695e-13)\n"
     ]
    },
    {
     "name": "stdout",
     "output_type": "stream",
     "text": [
      "(k, i, real_max_corr) = (3800, 3, 1.774452771180321e-13)\n"
     ]
    },
    {
     "name": "stdout",
     "output_type": "stream",
     "text": [
      "(k, i, real_max_corr) = (4000, 3, 1.564975426764298e-13)\n"
     ]
    },
    {
     "name": "stdout",
     "output_type": "stream",
     "text": [
      "(k, i, real_max_corr) = (4200, 3, 1.403272379520775e-13)\n"
     ]
    },
    {
     "name": "stdout",
     "output_type": "stream",
     "text": [
      "(k, i, real_max_corr) = (4400, 3, 1.2567361810095703e-13)\n"
     ]
    },
    {
     "name": "stdout",
     "output_type": "stream",
     "text": [
      "(k, i, real_max_corr) = (4600, 3, 1.1055978860161074e-13)\n"
     ]
    },
    {
     "name": "stdout",
     "output_type": "stream",
     "text": [
      "(k, i, real_max_corr) = (4800, 3, 9.562511010707048e-14)\n"
     ]
    },
    {
     "name": "stdout",
     "output_type": "stream",
     "text": [
      "(k, i, real_max_corr) = (5000, 3, 9.662333480213104e-14)\n"
     ]
    },
    {
     "name": "stdout",
     "output_type": "stream",
     "text": [
      "(k, i, real_max_corr) = (5200, 3, 8.367409113907277e-14)\n"
     ]
    },
    {
     "name": "stdout",
     "output_type": "stream",
     "text": [
      "(k, i, real_max_corr) = (5400, 3, 7.75630204388e-14)\n"
     ]
    },
    {
     "name": "stdout",
     "output_type": "stream",
     "text": [
      "(k, i, real_max_corr) = (5600, 3, 6.974217927083711e-14)\n"
     ]
    },
    {
     "name": "stdout",
     "output_type": "stream",
     "text": [
      "(k, i, real_max_corr) = (5800, 3, 6.175346580382537e-14)\n"
     ]
    },
    {
     "name": "stdout",
     "output_type": "stream",
     "text": [
      "(k, i, real_max_corr) = (6000, 3, 6.034458812765673e-14)\n"
     ]
    },
    {
     "name": "stdout",
     "output_type": "stream",
     "text": [
      "(k, i, real_max_corr) = (6200, 3, 4.687767544792766e-14)\n"
     ]
    },
    {
     "name": "stdout",
     "output_type": "stream",
     "text": [
      "(k, i, real_max_corr) = (6400, 3, 4.807582145904891e-14)\n"
     ]
    },
    {
     "name": "stdout",
     "output_type": "stream",
     "text": [
      "(k, i, real_max_corr) = (6600, 3, 4.6316366002448204e-14)\n"
     ]
    },
    {
     "name": "stdout",
     "output_type": "stream",
     "text": [
      "(k, i, real_max_corr) = (6800, 3, 3.5996295730611185e-14)\n"
     ]
    },
    {
     "name": "stdout",
     "output_type": "stream",
     "text": [
      "(k, i, real_max_corr) = (7000, 3, 3.7429793746849314e-14)\n"
     ]
    },
    {
     "name": "stdout",
     "output_type": "stream",
     "text": [
      "(k, i, real_max_corr) = (7200, 3, 3.4392605241105153e-14)\n"
     ]
    },
    {
     "name": "stdout",
     "output_type": "stream",
     "text": [
      "(k, i, real_max_corr) = (7400, 3, 3.159958455658918e-14)\n"
     ]
    },
    {
     "name": "stdout",
     "output_type": "stream",
     "text": [
      "(k, i, real_max_corr) = (7600, 3, 3.449337274316653e-14)\n"
     ]
    },
    {
     "name": "stdout",
     "output_type": "stream",
     "text": [
      "(k, i, real_max_corr) = (7800, 3, 2.886827383663143e-14)\n"
     ]
    },
    {
     "name": "stdout",
     "output_type": "stream",
     "text": [
      "(k, i, real_max_corr) = (8000, 3, 3.1039404936387e-14)\n"
     ]
    },
    {
     "name": "stdout",
     "output_type": "stream",
     "text": [
      "(k, i, real_max_corr) = (8200, 3, 3.3622652983873394e-14)\n"
     ]
    },
    {
     "name": "stdout",
     "output_type": "stream",
     "text": [
      "(k, i, real_max_corr) = (8400, 3, 2.5938617828223166e-14)\n"
     ]
    },
    {
     "name": "stdout",
     "output_type": "stream",
     "text": [
      "(k, i, real_max_corr) = (8600, 3, 2.5073511371836596e-14)\n"
     ]
    },
    {
     "name": "stdout",
     "output_type": "stream",
     "text": [
      "(k, i, real_max_corr) = (8800, 3, 2.5309038113695658e-14)\n"
     ]
    },
    {
     "name": "stdout",
     "output_type": "stream",
     "text": [
      "(k, i, real_max_corr) = (9000, 3, 2.3580202383621632e-14)\n"
     ]
    },
    {
     "name": "stdout",
     "output_type": "stream",
     "text": [
      "(k, i, real_max_corr) = (9200, 3, 2.9846904792253464e-14)\n"
     ]
    },
    {
     "name": "stdout",
     "output_type": "stream",
     "text": [
      "(k, i, real_max_corr) = (9400, 3, 2.895363366790674e-14)\n"
     ]
    },
    {
     "name": "stdout",
     "output_type": "stream",
     "text": [
      "(k, i, real_max_corr) = (9600, 3, 3.225525497730838e-14)\n"
     ]
    },
    {
     "name": "stdout",
     "output_type": "stream",
     "text": [
      "(k, i, real_max_corr) = (9800, 3, 3.099387922127203e-14)\n"
     ]
    },
    {
     "name": "stdout",
     "output_type": "stream",
     "text": [
      "(k, i, real_max_corr) = (10000, 3, 3.0160437083494134e-14)\n"
     ]
    }
   ],
   "source": [
    "nsteps = 10000\n",
    "Tcenter = zeros(nsteps)\n",
    "Pcenter = zeros(nsteps)\n",
    "Lsurf = zeros(nsteps)\n",
    "Rsurf = zeros(nsteps)\n",
    "Tsurf = zeros(nsteps)\n",
    "times = zeros(nsteps)\n",
    "\n",
    "time = 0\n",
    "for k in 1:nsteps\n",
    "    max_steps = 1500\n",
    "    if k != 1\n",
    "        max_steps = 100\n",
    "    end\n",
    "\n",
    "    sm.ssi.dt = 100*365.25*24*3600\n",
    "    time = time + sm.ssi.dt\n",
    "    sm.ssi.lnT_old = zeros(sm.nz)\n",
    "    sm.ssi.lnP_old = zeros(sm.nz)\n",
    "    for i in 1:sm.nz\n",
    "        sm.ssi.lnT_old[i] = sm.ind_vars[(i-1)*sm.nvars+sm.vari[:lnT]]\n",
    "        sm.ssi.lnP_old[i] = sm.ind_vars[(i-1)*sm.nvars+sm.vari[:lnP]]\n",
    "    end\n",
    "\n",
    "    for i in 1:max_steps\n",
    "        StellarEvolution.eval_jacobian!(sm)\n",
    "        StellarEvolution.eval_eqs!(sm)\n",
    "        corr = sm.jac\\(-sm.eqs)\n",
    "        real_max_corr = maximum(corr)\n",
    "        #scale correction\n",
    "        if k==1\n",
    "            corr = corr*min(1,0.1/maximum(corr))\n",
    "        else\n",
    "            corr = corr*min(1,0.5/maximum(corr))\n",
    "        end\n",
    "        if i%100==0\n",
    "            @show i, maximum(corr), real_max_corr\n",
    "        end\n",
    "        # first try applying correction and see if it would give negative luminosity\n",
    "        sm.ind_vars = sm.ind_vars+corr\n",
    "        if real_max_corr<1e-10\n",
    "            if k==1\n",
    "                println(\"Found first model\")\n",
    "            end\n",
    "            if k%200==0\n",
    "                @show k, i, real_max_corr\n",
    "            end\n",
    "            break\n",
    "        end\n",
    "    end\n",
    "\n",
    "    Tcenter[k] = exp(sm.ind_vars[(1-1)*sm.nvars+sm.vari[:lnT]])\n",
    "    Pcenter[k] = exp(sm.ind_vars[(1-1)*sm.nvars+sm.vari[:lnP]])\n",
    "    Lsurf[k] = sm.ind_vars[(sm.nz-1)*sm.nvars+sm.vari[:lum]]*LSUN\n",
    "    Rsurf[k] = exp(sm.ind_vars[(sm.nz-1)*sm.nvars+sm.vari[:lnr]])\n",
    "    Tsurf[k] = exp(sm.ind_vars[(sm.nz-1)*sm.nvars+sm.vari[:lnT]])\n",
    "    times[k] = time/(365.25*24*3600)\n",
    "end"
   ]
  },
  {
   "cell_type": "code",
   "execution_count": 12,
   "id": "cc589f8a",
   "metadata": {},
   "outputs": [
    {
     "data": {
      "image/png": "[encoded data removed]"
     },
     "metadata": {},
     "output_type": "display_data"
    }
   ],
   "source": [
    "ρcenter = zeros(nsteps)\n",
    "for i in 1:nsteps\n",
    "    eos_result = get_EOS_resultsTP(sm.eos, sm.isotope_data,\n",
    "        log(Tcenter[i]), log(Pcenter[i]), [1.0], [:H1])\n",
    "    ρcenter[i] = eos_result[1]\n",
    "end\n",
    "\n",
    "using CairoMakie\n",
    "f = Figure()\n",
    "ax = Axis(f[1,1])\n",
    "xvals = collect(LinRange(0,1,1000))\n",
    "mass = xvals .* MSUN\n",
    "#lines!(ax, xvals, P_const_ρ(mass,1,MSUN))\n",
    "#lines!(ax, times, Pcenter)\n",
    "lines!(ax, log10.(ρcenter), log10.(Tcenter))\n",
    "lines!(ax, log10.(ρcenter), log10.(ρcenter)./3 .+ 6.4)\n",
    "#lines!(ax, 1:10000, Lsurf)\n",
    "#xlims!(ax,930,940)\n",
    "f"
   ]
  },
  {
   "cell_type": "code",
   "execution_count": null,
   "id": "b673e59f",
   "metadata": {},
   "outputs": [],
   "source": []
  }
 ],
 "metadata": {
  "kernelspec": {
   "display_name": "Julia 1.9.0",
   "language": "julia",
   "name": "julia-1.9"
  },
  "language_info": {
   "file_extension": ".jl",
   "mimetype": "application/julia",
   "name": "julia",
   "version": "1.9.0"
  }
 },
 "nbformat": 4,
 "nbformat_minor": 5
}

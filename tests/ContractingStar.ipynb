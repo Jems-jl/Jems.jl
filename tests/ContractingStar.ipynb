{
 "cells": [
  {
   "cell_type": "code",
   "execution_count": 4,
   "id": "1ebebc11",
   "metadata": {},
   "outputs": [],
   "source": [
    "using BenchmarkTools\n",
    "using StellarChem\n",
    "using StellarConstants\n",
    "using StellarEOS\n",
    "using StellarOpacity\n",
    "using StellarEvolution"
   ]
  },
  {
   "cell_type": "code",
   "execution_count": 5,
   "id": "54b2b111",
   "metadata": {},
   "outputs": [
    {
     "data": {
      "text/plain": [
       "equationMg24 (generic function with 1 method)"
      ]
     },
     "metadata": {},
     "output_type": "display_data"
    }
   ],
   "source": [
    "function equationHSE(sm, k, varm1::Vector{<:TT}, var00::Vector{<:TT}, varp1::Vector{<:TT},\n",
    "                            eosm1::Vector{<:TT}, eos00::Vector{<:TT}, eosp1::Vector{<:TT},\n",
    "                            κm1::TT, κ00::TT, κp1::TT)::TT where{TT<:Real}\n",
    "    if k==sm.nz\n",
    "        lnP₀ = var00[sm.vari[:lnP]]\n",
    "        r₀ = exp(var00[sm.vari[:lnr]])\n",
    "        g₀ = CGRAV*sm.mstar/r₀^2\n",
    "        return lnP₀ -log(2g₀/(3κ00)) # Eddington gray, ignoring radiation pressure term\n",
    "    end\n",
    "    lnP₊ = varp1[sm.vari[:lnP]]\n",
    "    lnP₀ = var00[sm.vari[:lnP]]\n",
    "    lnPface = (sm.dm[k]*lnP₀ + sm.dm[k+1]*lnP₊)/(sm.dm[k]+sm.dm[k+1])\n",
    "    r₀ = exp(var00[sm.vari[:lnr]])\n",
    "    dm = (sm.m[k+1]-sm.m[k])\n",
    "    \n",
    "    return (exp(lnPface)*(lnP₊ - lnP₀)/dm + CGRAV*sm.m[k]/(4π*r₀^4))/(CGRAV*sm.m[k]/(4π*r₀^4))\n",
    "end\n",
    "\n",
    "function equationT(sm, k, varm1::Vector{<:TT}, var00::Vector{<:TT}, varp1::Vector{<:TT},\n",
    "                          eosm1::Vector{<:TT}, eos00::Vector{<:TT}, eosp1::Vector{<:TT},\n",
    "                          κm1::TT, κ00::TT, κp1::TT)::TT where{TT<:Real}\n",
    "    if k==sm.nz\n",
    "        lnT₀ = var00[sm.vari[:lnT]]\n",
    "        L₀ = var00[sm.vari[:lum]]*LSUN\n",
    "        r₀ = exp(var00[sm.vari[:lnr]])\n",
    "        return lnT₀ - log(L₀/(BOLTZ_SIGMA*4π*r₀^2))/4 # Eddington gray, ignoring radiation pressure term\n",
    "    end\n",
    "    κface = exp((sm.dm[k]*log(κ00) + sm.dm[k+1]*log(κp1))/(sm.dm[k]+sm.dm[k+1]))\n",
    "    L₀ = var00[sm.vari[:lum]]*LSUN\n",
    "    r₀ = exp(var00[sm.vari[:lnr]])\n",
    "    Pface = exp((sm.dm[k]*var00[sm.vari[:lnP]] + sm.dm[k+1]*varp1[sm.vari[:lnP]])/(sm.dm[k]+sm.dm[k+1]))\n",
    "    lnT₊ = varp1[sm.vari[:lnT]]\n",
    "    lnT₀ = var00[sm.vari[:lnT]]\n",
    "    Tface = exp((sm.dm[k]*lnT₀ + sm.dm[k+1]*lnT₊)/(sm.dm[k]+sm.dm[k+1]))\n",
    "\n",
    "    ∇ᵣ = 3κface*L₀*Pface/(16π*CRAD*CLIGHT*CGRAV*sm.m[k]*Tface^4)\n",
    "\n",
    "    return (Tface*(lnT₊ - lnT₀)/sm.dm[k] + CGRAV*sm.m[k]*Tface/(4π*r₀^4*Pface)*∇ᵣ)/(CGRAV*sm.m[k]*Tface/(4π*r₀^4*Pface)) # only radiative transport\n",
    "end\n",
    "\n",
    "function equationLuminosity(sm, k, varm1::Vector{<:TT}, var00::Vector{<:TT}, varp1::Vector{<:TT},\n",
    "                          eosm1::Vector{<:TT}, eos00::Vector{<:TT}, eosp1::Vector{<:TT},\n",
    "                          κm1::TT, κ00::TT, κp1::TT)::TT where{TT<:Real}\n",
    "    L₋::TT = 0 # central luminosity is zero at first cell\n",
    "    if k>1\n",
    "        L₋ = varm1[sm.vari[:lum]]*LSUN # change it if not at first cell\n",
    "    end\n",
    "    L₀ = var00[sm.vari[:lum]]*LSUN\n",
    "    ρ₀ = eos00[1]\n",
    "    cₚ = eos00[5]\n",
    "    δ = eos00[6]\n",
    "    dTdt = (exp(var00[sm.vari[:lnT]]) - exp(sm.ssi.lnT_old[k]))/sm.ssi.dt\n",
    "    dPdt = (exp(var00[sm.vari[:lnP]]) - exp(sm.ssi.lnP_old[k]))/sm.ssi.dt\n",
    "    return ((L₀-L₋)/sm.dm[k]+cₚ*dTdt -(δ/ρ₀)*dPdt) # no nuclear reactions or neutrinos\n",
    "end\n",
    "\n",
    "function equationContinuity(sm, k, varm1::Vector{<:TT}, var00::Vector{<:TT}, varp1::Vector{<:TT},\n",
    "                                   eosm1::Vector{<:TT}, eos00::Vector{<:TT}, eosp1::Vector{<:TT},\n",
    "                                   κm1::TT, κ00::TT, κp1::TT)::TT where{TT<:Real}\n",
    "    ρ₀ = eos00[1]\n",
    "    r₀ = exp(var00[sm.vari[:lnr]])\n",
    "    r₋::TT = 0 # central radius is zero at first cell\n",
    "    if k>1\n",
    "        r₋ = exp(varm1[sm.vari[:lnr]]) # change it if not at first cell\n",
    "    end\n",
    "    \n",
    "    dm = sm.m[k] # this is only valid for k=1\n",
    "    if k>1\n",
    "        dm = dm-sm.m[k-1]\n",
    "    end\n",
    "\n",
    "    #expected_r₀ = r₋ + dm/(4π*r₋^2*ρ)\n",
    "    expected_dr³_dm = 3/(4π*ρ₀)\n",
    "    actual_dr³_dm = (r₀^3-r₋^3)/dm\n",
    "    \n",
    "    return (expected_dr³_dm - actual_dr³_dm)*ρ₀\n",
    "end\n",
    "\n",
    "#  To test performance, include 8 isotopes similar to basic.net in MESA.\n",
    "#  of course we are keeping these fixed now, but it lets us test their impact on the\n",
    "#  computation of the jacobian\n",
    "\n",
    "function equationH1(sm, k, varm1::Vector{<:TT}, var00::Vector{<:TT}, varp1::Vector{<:TT},\n",
    "                                    eosm1::Vector{<:TT}, eos00::Vector{<:TT}, eosp1::Vector{<:TT},\n",
    "                                    κm1::TT, κ00::TT, κp1::TT)::TT where{TT<:Real}\n",
    "    return var00[sm.vari[:H1]] - 1.0\n",
    "end\n",
    "\n",
    "function equationHe3(sm, k, varm1::Vector{<:TT}, var00::Vector{<:TT}, varp1::Vector{<:TT},\n",
    "                                    eosm1::Vector{<:TT}, eos00::Vector{<:TT}, eosp1::Vector{<:TT},\n",
    "                                    κm1::TT, κ00::TT, κp1::TT)::TT where{TT<:Real}\n",
    "    return var00[sm.vari[:He3]] - 0.0\n",
    "end\n",
    "\n",
    "function equationHe4(sm, k, varm1::Vector{<:TT}, var00::Vector{<:TT}, varp1::Vector{<:TT},\n",
    "                                    eosm1::Vector{<:TT}, eos00::Vector{<:TT}, eosp1::Vector{<:TT},\n",
    "                                    κm1::TT, κ00::TT, κp1::TT)::TT where{TT<:Real}\n",
    "    return var00[sm.vari[:He4]] - 0.0\n",
    "end\n",
    "\n",
    "function equationC12(sm, k, varm1::Vector{<:TT}, var00::Vector{<:TT}, varp1::Vector{<:TT},\n",
    "                                    eosm1::Vector{<:TT}, eos00::Vector{<:TT}, eosp1::Vector{<:TT},\n",
    "                                    κm1::TT, κ00::TT, κp1::TT)::TT where{TT<:Real}\n",
    "    return var00[sm.vari[:C12]] - 0.0\n",
    "end\n",
    "\n",
    "function equationN14(sm, k, varm1::Vector{<:TT}, var00::Vector{<:TT}, varp1::Vector{<:TT},\n",
    "                                    eosm1::Vector{<:TT}, eos00::Vector{<:TT}, eosp1::Vector{<:TT},\n",
    "                                    κm1::TT, κ00::TT, κp1::TT)::TT where{TT<:Real}\n",
    "    return var00[sm.vari[:N14]] - 0.0\n",
    "end\n",
    "\n",
    "function equationO16(sm, k, varm1::Vector{<:TT}, var00::Vector{<:TT}, varp1::Vector{<:TT},\n",
    "                                    eosm1::Vector{<:TT}, eos00::Vector{<:TT}, eosp1::Vector{<:TT},\n",
    "                                    κm1::TT, κ00::TT, κp1::TT)::TT where{TT<:Real}\n",
    "    return var00[sm.vari[:O16]] - 0.0\n",
    "end\n",
    "\n",
    "function equationNe20(sm, k, varm1::Vector{<:TT}, var00::Vector{<:TT}, varp1::Vector{<:TT},\n",
    "                                    eosm1::Vector{<:TT}, eos00::Vector{<:TT}, eosp1::Vector{<:TT},\n",
    "                                    κm1::TT, κ00::TT, κp1::TT)::TT where{TT<:Real}\n",
    "    return var00[sm.vari[:Ne20]] - 0.0\n",
    "end\n",
    "\n",
    "function equationMg24(sm, k, varm1::Vector{<:TT}, var00::Vector{<:TT}, varp1::Vector{<:TT},\n",
    "                                    eosm1::Vector{<:TT}, eos00::Vector{<:TT}, eosp1::Vector{<:TT},\n",
    "                                    κm1::TT, κ00::TT, κp1::TT)::TT where{TT<:Real}\n",
    "    return var00[sm.vari[:Mg24]] - 0.0\n",
    "end"
   ]
  },
  {
   "cell_type": "code",
   "execution_count": 10,
   "id": "67a989b0",
   "metadata": {},
   "outputs": [],
   "source": [
    "nvars = 12\n",
    "nspecies = 8\n",
    "varnames = [:lnP,:lnT,:lnr,:lum,:H1, :He3, :He4, :C12, :N14, :O16, :Ne20, :Mg24]\n",
    "structure_equations=[equationHSE, equationT,\n",
    "                        equationContinuity, equationLuminosity,\n",
    "                        equationH1, equationHe3, equationHe4, equationC12, equationN14, equationO16, equationNe20, equationMg24]\n",
    "nz = 1000\n",
    "eos = StellarEOS.IdealEOS(false)\n",
    "opacity = StellarOpacity.SimpleElectronScatteringOpacity()\n",
    "sm = StellarModel(varnames, structure_equations, nvars, nspecies, nz, eos, opacity);"
   ]
  },
  {
   "cell_type": "code",
   "execution_count": 11,
   "id": "7e37946f",
   "metadata": {},
   "outputs": [
    {
     "name": "stdout",
     "output_type": "stream",
     "text": [
      "(ρc, Pc) = (4.6342349991388145, 4.4201211223618375e15)\n"
     ]
    },
    {
     "data": {
      "text/plain": [
       "1.9683338317465098e-5"
      ]
     },
     "metadata": {},
     "output_type": "display_data"
    }
   ],
   "source": [
    "# use an n=1 polytrope as initial condition, should be better than a constant density star\n",
    "using ForwardDiff\n",
    "using Roots\n",
    "\n",
    "isotope_list = StellarChem.get_isotope_list()\n",
    "\n",
    "function theta_n(xi)\n",
    "    return sin(xi)/xi\n",
    "end\n",
    "\n",
    "M = MSUN\n",
    "R = RSUN\n",
    "n=1\n",
    "\n",
    "# create a profile for composition that better resolves edges\n",
    "function get_logdq(k, nz, logdq_low, logdq_high, numregion)\n",
    "    if k<numregion\n",
    "        return logdq_low+(k-1)*(logdq_high - logdq_low)/(numregion-1)\n",
    "    elseif k<nz-numregion\n",
    "        return logdq_high\n",
    "    else\n",
    "        k0 = nz-numregion\n",
    "        k1 = nz\n",
    "        return logdq_high+(logdq_low-logdq_high)*(k-k0)/(k1-k0)\n",
    "    end\n",
    "end\n",
    "logdqs = get_logdq.(1:sm.nz,sm.nz,-3.0,0.0,100)\n",
    "dqs = 10 .^ logdqs\n",
    "dqs = dqs./sum(dqs)\n",
    "dms = dqs.*M\n",
    "m_face = cumsum(dms)\n",
    "m_cell = cumsum(dms)\n",
    "#correct m_center\n",
    "for i in 1:sm.nz\n",
    "    if i==1\n",
    "        m_cell[i] = 0\n",
    "    elseif i!=sm.nz\n",
    "        m_cell[i] = m_cell[i] - 0.5*dms[i]\n",
    "    end\n",
    "end\n",
    "\n",
    "rn = R/π # ξ is defined as r/rn, where rn^2=(n+1)Pc/(4π G ρc^2)\n",
    "\n",
    "ρc = M/(4π*rn^3*(-π^2*ForwardDiff.derivative(theta_n, π)))\n",
    "Pc = 4π*CGRAV*rn^2*ρc^2/(n+1)\n",
    "\n",
    "@show ρc, Pc\n",
    "\n",
    "ξ_cell = zeros(sm.nz)\n",
    "ξ_face = zeros(sm.nz)\n",
    "function mfunc(ξ,m)\n",
    "    return m - 4π*rn^3*ρc*(-(-sin(ξ)+cos(ξ)*ξ))\n",
    "end\n",
    "\n",
    "for i in 1:sm.nz\n",
    "    if i==1\n",
    "        ξ_cell[i] = 0\n",
    "    elseif i==sm.nz\n",
    "        ξ_cell[i] = π\n",
    "    else\n",
    "        mfunc_anon = ξ->mfunc(ξ,m_cell[i])\n",
    "        ξ_cell[i] = find_zero(mfunc_anon, (0,π), Bisection())\n",
    "    end\n",
    "    if i==sm.nz\n",
    "        ξ_face[i] = π\n",
    "    else\n",
    "        mfunc_anon = ξ->mfunc(ξ,m_face[i])\n",
    "        ξ_face[i] = find_zero(mfunc_anon, (0,π), Bisection())\n",
    "    end\n",
    "end\n",
    "\n",
    "#set radii, pressure and temperature, assuming ideal gas without Prad\n",
    "for i in 1:sm.nz\n",
    "    μ = 0.5\n",
    "    XH = 1.0\n",
    "    sm.ind_vars[(i-1)*sm.nvars+sm.vari[:lnr]] = log(rn*ξ_face[i])\n",
    "    if i>1\n",
    "        P = Pc*(theta_n(ξ_cell[i]))^(n+1)\n",
    "        ρ = ρc*(theta_n(ξ_cell[i]))^(n)\n",
    "    else\n",
    "        P = Pc\n",
    "        ρ = ρc\n",
    "    end\n",
    "    sm.ind_vars[(i-1)*sm.nvars+sm.vari[:lnP]] = log(P)\n",
    "    sm.ind_vars[(i-1)*sm.nvars+sm.vari[:lnT]] = log(P*μ/(CGAS*ρ)) \n",
    "    sm.ind_vars[(i-1)*sm.nvars+sm.vari[:H1]] = 1.0\n",
    "    sm.ind_vars[(i-1)*sm.nvars+sm.vari[:He3]] = 0\n",
    "    sm.ind_vars[(i-1)*sm.nvars+sm.vari[:He4]] = 0\n",
    "    sm.ind_vars[(i-1)*sm.nvars+sm.vari[:C12]] = 0\n",
    "    sm.ind_vars[(i-1)*sm.nvars+sm.vari[:N14]] = 0\n",
    "    sm.ind_vars[(i-1)*sm.nvars+sm.vari[:O16]] = 0\n",
    "    sm.ind_vars[(i-1)*sm.nvars+sm.vari[:Ne20]] = 0\n",
    "    sm.ind_vars[(i-1)*sm.nvars+sm.vari[:Mg24]] = 0\n",
    "end\n",
    "\n",
    "#set m and dm\n",
    "sm.mstar = M\n",
    "sm.dm = dms\n",
    "sm.m = m_face\n",
    "\n",
    "#set luminosity \n",
    "for i in 1:sm.nz-1\n",
    "    μ = 0.5\n",
    "    Pface = Pc*(theta_n(ξ_face[i]))^(n+1)\n",
    "    ρface = ρc*(theta_n(ξ_face[i]))^(n)\n",
    "    Tface = Pface*μ/(CGAS*ρface)\n",
    "    dlnT = sm.ind_vars[(i)*sm.nvars+sm.vari[:lnT]] - sm.ind_vars[(i-1)*sm.nvars+sm.vari[:lnT]]\n",
    "    dlnP = sm.ind_vars[(i)*sm.nvars+sm.vari[:lnP]] - sm.ind_vars[(i-1)*sm.nvars+sm.vari[:lnP]]\n",
    "    κ=0.2\n",
    "    sm.ind_vars[(i-1)*sm.nvars+sm.vari[:lum]] = (dlnT/dlnP)*(16π*CRAD*CLIGHT*CGRAV*m_face[i]*Tface^4)/(3κ*Pface)/LSUN\n",
    "end\n",
    "\n",
    "#special cases, just copy values at edges\n",
    "sm.ind_vars[(sm.nz-1)*sm.nvars+sm.vari[:lnP]] = sm.ind_vars[(sm.nz-2)*sm.nvars+sm.vari[:lnP]]\n",
    "sm.ind_vars[(sm.nz-1)*sm.nvars+sm.vari[:lnT]] = sm.ind_vars[(sm.nz-2)*sm.nvars+sm.vari[:lnT]]\n",
    "sm.ind_vars[(sm.nz-1)*sm.nvars+sm.vari[:lum]] = sm.ind_vars[(sm.nz-2)*sm.nvars+sm.vari[:lum]]"
   ]
  },
  {
   "cell_type": "code",
   "execution_count": 12,
   "id": "46d75aa3",
   "metadata": {},
   "outputs": [],
   "source": [
    "sm.ssi.dt = 100*365.25*24*3600\n",
    "sm.ssi.lnT_old = zeros(sm.nz)\n",
    "sm.ssi.lnP_old = zeros(sm.nz)\n",
    "for i in 1:sm.nz\n",
    "    sm.ssi.lnT_old[i] = sm.ind_vars[(i-1)*sm.nvars+sm.vari[:lnT]]\n",
    "    sm.ssi.lnP_old[i] = sm.ind_vars[(i-1)*sm.nvars+sm.vari[:lnP]]\n",
    "end\n",
    "\n",
    "StellarEvolution.eval_jacobian!(sm)\n",
    "StellarEvolution.eval_eqs!(sm)"
   ]
  },
  {
   "cell_type": "code",
   "execution_count": 13,
   "id": "03c44e72",
   "metadata": {},
   "outputs": [
    {
     "data": {
      "text/plain": [
       "BenchmarkTools.Trial: 233 samples with 1 evaluation.\n",
       " Range \u001b[90m(\u001b[39m\u001b[36m\u001b[1mmin\u001b[22m\u001b[39m … \u001b[35mmax\u001b[39m\u001b[90m):  \u001b[39m\u001b[36m\u001b[1m18.418 ms\u001b[22m\u001b[39m … \u001b[35m26.527 ms\u001b[39m  \u001b[90m┊\u001b[39m GC \u001b[90m(\u001b[39mmin … max\u001b[90m): \u001b[39m0.00% … 0.00%\n",
       " Time  \u001b[90m(\u001b[39m\u001b[34m\u001b[1mmedian\u001b[22m\u001b[39m\u001b[90m):     \u001b[39m\u001b[34m\u001b[1m21.400 ms              \u001b[22m\u001b[39m\u001b[90m┊\u001b[39m GC \u001b[90m(\u001b[39mmedian\u001b[90m):    \u001b[39m0.00%\n",
       " Time  \u001b[90m(\u001b[39m\u001b[32m\u001b[1mmean\u001b[22m\u001b[39m ± \u001b[32mσ\u001b[39m\u001b[90m):   \u001b[39m\u001b[32m\u001b[1m21.487 ms\u001b[22m\u001b[39m ± \u001b[32m 1.444 ms\u001b[39m  \u001b[90m┊\u001b[39m GC \u001b[90m(\u001b[39mmean ± σ\u001b[90m):  \u001b[39m3.01% ± 3.06%\n",
       "\n",
       "  \u001b[39m \u001b[39m \u001b[39m \u001b[39m \u001b[39m \u001b[39m \u001b[39m▂\u001b[39m▂\u001b[39m \u001b[39m \u001b[39m \u001b[39m▂\u001b[39m \u001b[39m \u001b[39m▃\u001b[39m \u001b[39m \u001b[39m▃\u001b[39m \u001b[39m \u001b[39m▃\u001b[39m▂\u001b[39m▅\u001b[39m▃\u001b[39m▄\u001b[39m█\u001b[34m \u001b[39m\u001b[32m▂\u001b[39m\u001b[39m▄\u001b[39m▂\u001b[39m█\u001b[39m▄\u001b[39m▂\u001b[39m \u001b[39m \u001b[39m \u001b[39m \u001b[39m \u001b[39m \u001b[39m \u001b[39m \u001b[39m \u001b[39m \u001b[39m \u001b[39m \u001b[39m \u001b[39m \u001b[39m \u001b[39m \u001b[39m \u001b[39m \u001b[39m \u001b[39m \u001b[39m \u001b[39m \u001b[39m \u001b[39m \u001b[39m \u001b[39m \u001b[39m \u001b[39m \n",
       "  \u001b[39m▅\u001b[39m▃\u001b[39m▁\u001b[39m▆\u001b[39m▁\u001b[39m▃\u001b[39m█\u001b[39m█\u001b[39m▃\u001b[39m▅\u001b[39m▅\u001b[39m█\u001b[39m▇\u001b[39m█\u001b[39m█\u001b[39m▆\u001b[39m█\u001b[39m█\u001b[39m█\u001b[39m▅\u001b[39m█\u001b[39m█\u001b[39m█\u001b[39m█\u001b[39m█\u001b[39m█\u001b[34m▆\u001b[39m\u001b[32m█\u001b[39m\u001b[39m█\u001b[39m█\u001b[39m█\u001b[39m█\u001b[39m█\u001b[39m█\u001b[39m█\u001b[39m█\u001b[39m█\u001b[39m█\u001b[39m▇\u001b[39m▅\u001b[39m▇\u001b[39m▇\u001b[39m▇\u001b[39m▆\u001b[39m▃\u001b[39m▇\u001b[39m▆\u001b[39m▇\u001b[39m▆\u001b[39m▃\u001b[39m▅\u001b[39m▃\u001b[39m▃\u001b[39m▁\u001b[39m▁\u001b[39m▁\u001b[39m▁\u001b[39m▁\u001b[39m▃\u001b[39m \u001b[39m▅\n",
       "  18.4 ms\u001b[90m         Histogram: frequency by time\u001b[39m        25.2 ms \u001b[0m\u001b[1m<\u001b[22m\n",
       "\n",
       " Memory estimate\u001b[90m: \u001b[39m\u001b[33m29.62 MiB\u001b[39m, allocs estimate\u001b[90m: \u001b[39m\u001b[33m41\u001b[39m."
      ]
     },
     "metadata": {},
     "output_type": "display_data"
    }
   ],
   "source": [
    "using LinearSolve\n",
    "@benchmark begin\n",
    "    $sm.linear_solver.A = $sm.jac\n",
    "    $sm.linear_solver.b = $sm.eqs\n",
    "    corr =solve($sm.linear_solver)\n",
    "end"
   ]
  },
  {
   "cell_type": "code",
   "execution_count": 14,
   "id": "67106858",
   "metadata": {},
   "outputs": [
    {
     "data": {
      "text/plain": [
       "BenchmarkTools.Trial: 10000 samples with 1 evaluation.\n",
       " Range \u001b[90m(\u001b[39m\u001b[36m\u001b[1mmin\u001b[22m\u001b[39m … \u001b[35mmax\u001b[39m\u001b[90m):  \u001b[39m\u001b[36m\u001b[1m15.787 μs\u001b[22m\u001b[39m … \u001b[35m 2.604 ms\u001b[39m  \u001b[90m┊\u001b[39m GC \u001b[90m(\u001b[39mmin … max\u001b[90m): \u001b[39m 0.00% … 95.37%\n",
       " Time  \u001b[90m(\u001b[39m\u001b[34m\u001b[1mmedian\u001b[22m\u001b[39m\u001b[90m):     \u001b[39m\u001b[34m\u001b[1m17.750 μs              \u001b[22m\u001b[39m\u001b[90m┊\u001b[39m GC \u001b[90m(\u001b[39mmedian\u001b[90m):    \u001b[39m 0.00%\n",
       " Time  \u001b[90m(\u001b[39m\u001b[32m\u001b[1mmean\u001b[22m\u001b[39m ± \u001b[32mσ\u001b[39m\u001b[90m):   \u001b[39m\u001b[32m\u001b[1m22.556 μs\u001b[22m\u001b[39m ± \u001b[32m72.001 μs\u001b[39m  \u001b[90m┊\u001b[39m GC \u001b[90m(\u001b[39mmean ± σ\u001b[90m):  \u001b[39m10.51% ±  3.31%\n",
       "\n",
       "  \u001b[39m▁\u001b[39m▅\u001b[39m█\u001b[39m█\u001b[34m▇\u001b[39m\u001b[39m▆\u001b[39m▄\u001b[39m▄\u001b[39m▃\u001b[39m▃\u001b[39m▃\u001b[39m▂\u001b[39m▂\u001b[39m▃\u001b[32m▂\u001b[39m\u001b[39m▂\u001b[39m▂\u001b[39m▂\u001b[39m▁\u001b[39m▂\u001b[39m▂\u001b[39m▂\u001b[39m▂\u001b[39m▁\u001b[39m▂\u001b[39m▂\u001b[39m▁\u001b[39m▁\u001b[39m \u001b[39m \u001b[39m \u001b[39m \u001b[39m \u001b[39m \u001b[39m \u001b[39m \u001b[39m \u001b[39m \u001b[39m \u001b[39m \u001b[39m \u001b[39m \u001b[39m \u001b[39m \u001b[39m \u001b[39m \u001b[39m \u001b[39m \u001b[39m \u001b[39m \u001b[39m \u001b[39m \u001b[39m \u001b[39m \u001b[39m \u001b[39m \u001b[39m \u001b[39m \u001b[39m \u001b[39m \u001b[39m▂\n",
       "  \u001b[39m█\u001b[39m█\u001b[39m█\u001b[39m█\u001b[34m█\u001b[39m\u001b[39m█\u001b[39m█\u001b[39m█\u001b[39m█\u001b[39m█\u001b[39m█\u001b[39m█\u001b[39m█\u001b[39m█\u001b[32m█\u001b[39m\u001b[39m█\u001b[39m█\u001b[39m█\u001b[39m█\u001b[39m█\u001b[39m█\u001b[39m█\u001b[39m█\u001b[39m█\u001b[39m█\u001b[39m█\u001b[39m█\u001b[39m█\u001b[39m█\u001b[39m█\u001b[39m▇\u001b[39m▇\u001b[39m▇\u001b[39m█\u001b[39m█\u001b[39m█\u001b[39m█\u001b[39m█\u001b[39m█\u001b[39m█\u001b[39m▇\u001b[39m█\u001b[39m▇\u001b[39m▆\u001b[39m▇\u001b[39m▆\u001b[39m▅\u001b[39m▆\u001b[39m▅\u001b[39m▅\u001b[39m▄\u001b[39m▅\u001b[39m▄\u001b[39m▅\u001b[39m▄\u001b[39m▅\u001b[39m▅\u001b[39m▅\u001b[39m▄\u001b[39m \u001b[39m█\n",
       "  15.8 μs\u001b[90m      \u001b[39m\u001b[90mHistogram: \u001b[39m\u001b[90m\u001b[1mlog(\u001b[22m\u001b[39m\u001b[90mfrequency\u001b[39m\u001b[90m\u001b[1m)\u001b[22m\u001b[39m\u001b[90m by time\u001b[39m      43.3 μs \u001b[0m\u001b[1m<\u001b[22m\n",
       "\n",
       " Memory estimate\u001b[90m: \u001b[39m\u001b[33m56.97 KiB\u001b[39m, allocs estimate\u001b[90m: \u001b[39m\u001b[33m383\u001b[39m."
      ]
     },
     "metadata": {},
     "output_type": "display_data"
    }
   ],
   "source": [
    "@benchmark StellarEvolution.eval_jacobian_row!(sm,1)"
   ]
  },
  {
   "cell_type": "code",
   "execution_count": 15,
   "id": "9f07653c",
   "metadata": {},
   "outputs": [
    {
     "data": {
      "text/plain": [
       "BenchmarkTools.Trial: 210 samples with 1 evaluation.\n",
       " Range \u001b[90m(\u001b[39m\u001b[36m\u001b[1mmin\u001b[22m\u001b[39m … \u001b[35mmax\u001b[39m\u001b[90m):  \u001b[39m\u001b[36m\u001b[1m 8.799 ms\u001b[22m\u001b[39m … \u001b[35m59.336 ms\u001b[39m  \u001b[90m┊\u001b[39m GC \u001b[90m(\u001b[39mmin … max\u001b[90m): \u001b[39m 0.00% … 80.16%\n",
       " Time  \u001b[90m(\u001b[39m\u001b[34m\u001b[1mmedian\u001b[22m\u001b[39m\u001b[90m):     \u001b[39m\u001b[34m\u001b[1m13.455 ms              \u001b[22m\u001b[39m\u001b[90m┊\u001b[39m GC \u001b[90m(\u001b[39mmedian\u001b[90m):    \u001b[39m 0.00%\n",
       " Time  \u001b[90m(\u001b[39m\u001b[32m\u001b[1mmean\u001b[22m\u001b[39m ± \u001b[32mσ\u001b[39m\u001b[90m):   \u001b[39m\u001b[32m\u001b[1m24.028 ms\u001b[22m\u001b[39m ± \u001b[32m19.122 ms\u001b[39m  \u001b[90m┊\u001b[39m GC \u001b[90m(\u001b[39mmean ± σ\u001b[90m):  \u001b[39m50.02% ± 35.63%\n",
       "\n",
       "  \u001b[39m \u001b[39m \u001b[39m█\u001b[39m▇\u001b[39m \u001b[39m \u001b[34m▂\u001b[39m\u001b[39m▁\u001b[39m \u001b[39m \u001b[39m \u001b[39m \u001b[39m \u001b[39m \u001b[39m \u001b[39m \u001b[39m \u001b[39m \u001b[32m \u001b[39m\u001b[39m \u001b[39m \u001b[39m \u001b[39m \u001b[39m \u001b[39m \u001b[39m \u001b[39m \u001b[39m \u001b[39m \u001b[39m \u001b[39m \u001b[39m \u001b[39m \u001b[39m \u001b[39m \u001b[39m \u001b[39m \u001b[39m \u001b[39m \u001b[39m \u001b[39m \u001b[39m \u001b[39m \u001b[39m \u001b[39m \u001b[39m \u001b[39m \u001b[39m \u001b[39m \u001b[39m \u001b[39m \u001b[39m \u001b[39m \u001b[39m \u001b[39m \u001b[39m \u001b[39m \u001b[39m \u001b[39m \u001b[39m \u001b[39m \n",
       "  \u001b[39m▄\u001b[39m▆\u001b[39m█\u001b[39m█\u001b[39m█\u001b[39m▇\u001b[34m█\u001b[39m\u001b[39m█\u001b[39m▃\u001b[39m▁\u001b[39m▁\u001b[39m▁\u001b[39m▁\u001b[39m▁\u001b[39m▁\u001b[39m▁\u001b[39m▁\u001b[39m▁\u001b[32m▁\u001b[39m\u001b[39m▁\u001b[39m▁\u001b[39m▁\u001b[39m▁\u001b[39m▁\u001b[39m▁\u001b[39m▁\u001b[39m▁\u001b[39m▁\u001b[39m▁\u001b[39m▁\u001b[39m▁\u001b[39m▁\u001b[39m▁\u001b[39m▁\u001b[39m▁\u001b[39m▁\u001b[39m▁\u001b[39m▁\u001b[39m▁\u001b[39m▁\u001b[39m▁\u001b[39m▁\u001b[39m▁\u001b[39m▁\u001b[39m▁\u001b[39m▁\u001b[39m▁\u001b[39m▁\u001b[39m▁\u001b[39m▂\u001b[39m▃\u001b[39m▄\u001b[39m▃\u001b[39m▃\u001b[39m▄\u001b[39m▆\u001b[39m▇\u001b[39m▆\u001b[39m▄\u001b[39m \u001b[39m▃\n",
       "  8.8 ms\u001b[90m          Histogram: frequency by time\u001b[39m        57.5 ms \u001b[0m\u001b[1m<\u001b[22m\n",
       "\n",
       " Memory estimate\u001b[90m: \u001b[39m\u001b[33m94.42 MiB\u001b[39m, allocs estimate\u001b[90m: \u001b[39m\u001b[33m643569\u001b[39m."
      ]
     },
     "metadata": {},
     "output_type": "display_data"
    }
   ],
   "source": [
    "@benchmark StellarEvolution.eval_jacobian!(sm)"
   ]
  },
  {
   "cell_type": "code",
   "execution_count": 16,
   "id": "da4e3795",
   "metadata": {},
   "outputs": [
    {
     "name": "stdout",
     "output_type": "stream",
     "text": [
      "(i, maximum(corr), real_max_corr, maximum(sm.eqs)) = (50, 0.01417945983406335, 5.0388185223746875, 96.75030195941139)\n"
     ]
    },
    {
     "name": "stdout",
     "output_type": "stream",
     "text": [
      "(i, maximum(corr), real_max_corr, maximum(sm.eqs)) = (100, 0.013287479703198646, 3.6661201822261162, 84.65153144443218)\n"
     ]
    },
    {
     "name": "stdout",
     "output_type": "stream",
     "text": [
      "(i, maximum(corr), real_max_corr, maximum(sm.eqs)) = (150, 0.02364036575417322, 3.367644115746969, 64.95813360436728)\n"
     ]
    },
    {
     "name": "stdout",
     "output_type": "stream",
     "text": [
      "(i, maximum(corr), real_max_corr, maximum(sm.eqs)) = (200, 0.027601049728270495, 2.3380742059267416, 41.232937730963044)\n"
     ]
    },
    {
     "name": "stdout",
     "output_type": "stream",
     "text": [
      "(i, maximum(corr), real_max_corr, maximum(sm.eqs)) = (250, 0.028095048699781505, 0.973696405363575, 16.374564858745202)\n"
     ]
    },
    {
     "name": "stdout",
     "output_type": "stream",
     "text": [
      "Found first model\n"
     ]
    },
    {
     "name": "stdout",
     "output_type": "stream",
     "text": [
      "(k, i, real_max_corr, maximum(sm.eqs)) = (100, 4, 1.6516825458675603e-14, 9.798384326131782e-11)\n"
     ]
    },
    {
     "name": "stdout",
     "output_type": "stream",
     "text": [
      "(k, i, real_max_corr, maximum(sm.eqs)) = (200, 4, 1.673999617516301e-14, 5.080300624626943e-10)\n"
     ]
    },
    {
     "name": "stdout",
     "output_type": "stream",
     "text": [
      "(k, i, real_max_corr, maximum(sm.eqs)) = (300, 3, 4.583206938535031e-12, 4.7754035392699734e-8)\n"
     ]
    },
    {
     "name": "stdout",
     "output_type": "stream",
     "text": [
      "(k, i, real_max_corr, maximum(sm.eqs)) = (400, 3, 1.3757550814910919e-11, 6.344185266016211e-8)\n"
     ]
    },
    {
     "name": "stdout",
     "output_type": "stream",
     "text": [
      "(k, i, real_max_corr, maximum(sm.eqs)) = (500, 3, 2.1271550995980495e-11, 7.755362929628973e-8)\n"
     ]
    },
    {
     "name": "stdout",
     "output_type": "stream",
     "text": [
      "(k, i, real_max_corr, maximum(sm.eqs)) = (600, 3, 2.8122624859409577e-11, 9.016462598765429e-8)\n"
     ]
    },
    {
     "name": "stdout",
     "output_type": "stream",
     "text": [
      "(k, i, real_max_corr, maximum(sm.eqs)) = (700, 3, 3.6016335552957334e-11, 1.0989153054197232e-7)\n"
     ]
    },
    {
     "name": "stdout",
     "output_type": "stream",
     "text": [
      "(k, i, real_max_corr, maximum(sm.eqs)) = (800, 3, 4.847737763645963e-11, 1.7320249412478006e-7)\n"
     ]
    },
    {
     "name": "stdout",
     "output_type": "stream",
     "text": [
      "(k, i, real_max_corr, maximum(sm.eqs)) = (900, 3, 7.462137977418438e-11, 2.9959430847270596e-7)\n"
     ]
    },
    {
     "name": "stdout",
     "output_type": "stream",
     "text": [
      "(k, i, real_max_corr, maximum(sm.eqs)) = (1000, 4, 1.1867105310602675e-14, 3.1161704328042106e-9)\n"
     ]
    }
   ],
   "source": [
    "nsteps = 1000\n",
    "Tcenter = zeros(nsteps)\n",
    "Pcenter = zeros(nsteps)\n",
    "Lsurf = zeros(nsteps)\n",
    "Rsurf = zeros(nsteps)\n",
    "Tsurf = zeros(nsteps)\n",
    "times = zeros(nsteps)\n",
    "\n",
    "simtime = 0\n",
    "for k in 1:nsteps\n",
    "    max_steps = 2000\n",
    "    #if k != 1\n",
    "    #    max_steps = 100\n",
    "    #end\n",
    "\n",
    "    sm.ssi.dt = 2000*365.25*24*3600\n",
    "    simtime = simtime + sm.ssi.dt\n",
    "    sm.ssi.lnT_old = zeros(sm.nz)\n",
    "    sm.ssi.lnP_old = zeros(sm.nz)\n",
    "    for i in 1:sm.nz\n",
    "        sm.ssi.lnT_old[i] = sm.ind_vars[(i-1)*sm.nvars+sm.vari[:lnT]]\n",
    "        sm.ssi.lnP_old[i] = sm.ind_vars[(i-1)*sm.nvars+sm.vari[:lnP]]\n",
    "    end\n",
    "\n",
    "    for i in 1:max_steps\n",
    "        StellarEvolution.eval_jacobian!(sm)\n",
    "        StellarEvolution.eval_eqs!(sm)\n",
    "        \n",
    "        #if k>2000\n",
    "            sm.linear_solver.A = sm.jac\n",
    "            #sm.linear_solver.isfresh = false # cache is already set for sparsity pattern\n",
    "            sm.linear_solver.b = -sm.eqs\n",
    "            corr =solve(sm.linear_solver)\n",
    "        #else\n",
    "        #    #corr = sm.jac\\(-sm.eqs)\n",
    "        #    corr = sm.jac_BBM\\(-sm.eqs)\n",
    "        #end\n",
    "\n",
    "        real_max_corr = maximum(corr)\n",
    "        \n",
    "        # scale surface correction to prevent negative surface luminosity\n",
    "        # if correction will produce negative L, scale it so L is halved\n",
    "        corr_lum_surf = corr[sm.nvars*(sm.nz-1)+sm.vari[:lum]]\n",
    "        lum_surf = sm.ind_vars[sm.nvars*(sm.nz-1)+sm.vari[:lum]]\n",
    "        if lum_surf + corr_lum_surf < 0.0\n",
    "            corr = corr*(-0.1*lum_surf/corr_lum_surf)\n",
    "            #corr[sm.nvars*(sm.nz-1)+sm.vari[:lum]] = corr[sm.nvars*(sm.nz-1)+sm.vari[:lum]]*(-0.1*lum_surf/corr_lum_surf)\n",
    "        end\n",
    "        #@show lum_surf, corr_lum_surf, lum_surf + corr_lum_surf\n",
    "\n",
    "        #scale correction\n",
    "        if k==1\n",
    "            corr = corr*min(1,0.1/maximum(corr))\n",
    "        else\n",
    "            corr = corr*min(1,1.0/maximum(corr))\n",
    "        end\n",
    "        if i%50==0\n",
    "            @show i, maximum(corr), real_max_corr, maximum(sm.eqs)\n",
    "        end\n",
    "        # first try applying correction and see if it would give negative luminosity\n",
    "        sm.ind_vars = sm.ind_vars+corr\n",
    "        if real_max_corr<1e-10\n",
    "            if k==1\n",
    "                println(\"Found first model\")\n",
    "            end\n",
    "            if k%100==0\n",
    "                @show k, i, real_max_corr, maximum(sm.eqs)\n",
    "            end\n",
    "            break\n",
    "        end\n",
    "    end\n",
    "\n",
    "    Tcenter[k] = exp(sm.ind_vars[(1-1)*sm.nvars+sm.vari[:lnT]])\n",
    "    Pcenter[k] = exp(sm.ind_vars[(1-1)*sm.nvars+sm.vari[:lnP]])\n",
    "    Lsurf[k] = sm.ind_vars[(sm.nz-1)*sm.nvars+sm.vari[:lum]]*LSUN\n",
    "    Rsurf[k] = exp(sm.ind_vars[(sm.nz-1)*sm.nvars+sm.vari[:lnr]])\n",
    "    Tsurf[k] = exp(sm.ind_vars[(sm.nz-1)*sm.nvars+sm.vari[:lnT]])\n",
    "    times[k] = simtime/(365.25*24*3600)\n",
    "end"
   ]
  },
  {
   "cell_type": "code",
   "execution_count": 17,
   "id": "6ddc601f",
   "metadata": {},
   "outputs": [
    {
     "data": {
      "image/png": "[encoded data removed]"
     },
     "metadata": {},
     "output_type": "display_data"
    }
   ],
   "source": [
    "ρprofile = zeros(sm.nz)\n",
    "for i in 1:sm.nz\n",
    "    eos_result = get_EOS_resultsTP(sm.eos, sm.isotope_data,\n",
    "    sm.ind_vars[(i-1)*sm.nvars+sm.vari[:lnT]], sm.ind_vars[(i-1)*sm.nvars+sm.vari[:lnP]], [1.0], [:H1])\n",
    "    ρprofile[i] = eos_result[1]\n",
    "end\n",
    "\n",
    "using CairoMakie\n",
    "f = Figure()\n",
    "ax = Axis(f[1,1])\n",
    "lines!(ax, log.(ρprofile), [sm.ind_vars[(i-1)*sm.nvars+sm.vari[:lnP]] for i in 1:sm.nz], label=\"real profile\")\n",
    "xvals = LinRange(-20,2,100)\n",
    "lines!(ax,xvals,(1+1/1) .* xvals .+ 40, label=\"n=1\")\n",
    "lines!(ax,xvals,(1+1/(1.5)) .* xvals .+ 35, label=\"n=1.5\")\n",
    "lines!(ax,xvals,(1+1/3) .* xvals .+ 35, label=\"n=3\")\n",
    "axislegend(ax)\n",
    "f"
   ]
  },
  {
   "cell_type": "code",
   "execution_count": 18,
   "id": "63106580",
   "metadata": {},
   "outputs": [
    {
     "data": {
      "image/png": "[encoded data removed]"
     },
     "metadata": {},
     "output_type": "display_data"
    }
   ],
   "source": [
    "using CairoMakie\n",
    "f = Figure()\n",
    "ax = Axis(f[1,1])\n",
    "lines!(ax, m_face/MSUN, log10.([sm.ind_vars[(i-1)*sm.nvars+sm.vari[:lum]] for i in 1:sm.nz].+1e-20))\n",
    "f"
   ]
  },
  {
   "cell_type": "code",
   "execution_count": 19,
   "id": "cc589f8a",
   "metadata": {},
   "outputs": [
    {
     "data": {
      "image/png": "[encoded data removed]"
     },
     "metadata": {},
     "output_type": "display_data"
    }
   ],
   "source": [
    "ρcenter = zeros(nsteps)\n",
    "for i in 1:nsteps\n",
    "    eos_result = get_EOS_resultsTP(sm.eos, sm.isotope_data,\n",
    "        log(Tcenter[i]), log(Pcenter[i]), [1.0], [:H1])\n",
    "    ρcenter[i] = eos_result[1]\n",
    "end\n",
    "\n",
    "using CairoMakie\n",
    "using LaTeXStrings\n",
    "\n",
    "f = Figure()\n",
    "ax = Axis(f[1,1], xlabel=\"\")\n",
    "xvals = collect(LinRange(0,1,1000))\n",
    "mass = xvals .* MSUN\n",
    "#lines!(ax, xvals, P_const_ρ(mass,1,MSUN))\n",
    "#lines!(ax, times, Pcenter)\n",
    "lines!(ax, log10.(ρcenter), log10.(Tcenter))\n",
    "lines!(ax, log10.(ρcenter), log10.(ρcenter)./3 .+ 6.4)\n",
    "#lines!(ax, 1:10000, Lsurf)\n",
    "#xlims!(ax,930,940)\n",
    "f"
   ]
  },
  {
   "cell_type": "code",
   "execution_count": 22,
   "id": "ae2c07fe",
   "metadata": {},
   "outputs": [
    {
     "data": {
      "image/png": "[encoded data removed]"
     },
     "metadata": {},
     "output_type": "display_data"
    }
   ],
   "source": [
    "f = Figure()\n",
    "ax = Axis(f[1,1], xlabel=\"\")\n",
    "xvals = collect(LinRange(0,1,1000))\n",
    "mass = xvals .* MSUN\n",
    "#lines!(ax, xvals, P_const_ρ(mass,1,MSUN))\n",
    "#lines!(ax, times, Pcenter)\n",
    "lines!(ax, times, Rsurf) # not contracting right now?\n",
    "#lines!(ax, 1:10000, Lsurf)\n",
    "#xlims!(ax,930,940)\n",
    "f"
   ]
  },
  {
   "cell_type": "code",
   "execution_count": 6,
   "id": "1644367e",
   "metadata": {},
   "outputs": [],
   "source": [
    "using Profile\n",
    "Profile.clear()\n",
    "@profile (for i in 1:1000; StellarEvolution.eval_jacobian!(sm); end)"
   ]
  },
  {
   "cell_type": "code",
   "execution_count": 7,
   "id": "ad085701",
   "metadata": {},
   "outputs": [
    {
     "name": "stdout",
     "output_type": "stream",
     "text": [
      "Overhead ╎ [+additional indent] Count File:Line; Function\n",
      "=========================================================\n",
      "     ╎350   @Base/client.jl:522; _start()\n",
      "     ╎ 350   @Base/client.jl:307; exec_options(opts::Base.JLOpt...\n",
      "     ╎  350   @Base/Base.jl:457; include(mod::Module, _path::...\n",
      "     ╎   350   @Base/loading.jl:1924; _include(mapexpr::Function,...\n",
      "     ╎    350   @Base/loading.jl:1864; include_string(mapexpr::typ...\n",
      "     ╎     350   @Base/boot.jl:370; eval\n",
      "     ╎    ╎ 350   ...ebook/notebook.jl:32; top-level scope\n",
      "     ╎    ╎  350   ...erve_notebook.jl:75; kwcall(::NamedTuple{(:cras...\n",
      "     ╎    ╎   350   ...rve_notebook.jl:139; serve_notebook(pipename::...\n",
      "     ╎    ╎    350   ...PC/src/typed.jl:67; dispatch_msg(x::VSCodeSer...\n",
      "     ╎    ╎     350   ...rve_notebook.jl:13; notebook_runcell_request...\n",
      "     ╎    ╎    ╎ 350   ...er/src/repl.jl:249; withpath(f::VSCodeServe...\n",
      "     ╎    ╎    ╎  350   ...ve_notebook.jl:19; (::VSCodeServer.var\"#19...\n",
      "     ╎    ╎    ╎   350   ...essentials.jl:813; invokelatest\n",
      "     ╎    ╎    ╎    350   ...essentials.jl:816; #invokelatest#2\n",
      "     ╎    ╎    ╎     350   ...e/loading.jl:1864; include_string(mapex...\n",
      "     ╎4012  @Base/task.jl:672; task_done_hook(t::Task)\n",
      "     ╎ 4009  @Base/task.jl:983; wait()\n",
      " 3788╎  4006  @Base/task.jl:974; poptask(W::Base.IntrusiveLin...\n",
      "   25╎   197   @Base/task.jl:966; trypoptask(W::Base.Intrusive...\n",
      "     ╎19980 ...eadingconstructs.jl:108; (::Base.Threads.var\"#1#2\"{Stel...\n",
      "    1╎ 19980 ...adingconstructs.jl:130; #22#threadsfor_fun\n",
      "     ╎  19971 ...adingconstructs.jl:163; (::StellarEvolution.var\"#22#...\n",
      "    4╎   19971 ...ion/src/Solver.jl:110; macro expansion\n",
      "     ╎    301   ...ion/src/Solver.jl:95; eval_jacobian_row!(sm::Stel...\n",
      "  122╎     122   @Base/subarray.jl:176; view\n",
      "     ╎     165   @Base/subarray.jl:182; view\n",
      "     ╎    ╎ 165   @Base/subarray.jl:219; unsafe_view\n",
      "  165╎    ╎  165   @Base/subarray.jl:28; SubArray\n",
      "  154╎    19660 ...ion/src/Solver.jl:105; eval_jacobian_row!(sm::Stel...\n",
      "  340╎     19506 ...f/src/jacobian.jl:56; jacobian!(result::SubArray{...\n",
      "  292╎    ╎ 517   ...ff/src/config.jl:158; ForwardDiff.JacobianConfig...\n",
      "    2╎    ╎  216   ...ff/src/config.jl:158; ForwardDiff.JacobianConfi...\n",
      "     ╎    ╎   214   ...f/src/config.jl:159; JacobianConfig\n",
      "     ╎    ╎    214   ...bstractarray.jl:835; similar\n",
      "     ╎    ╎     214   @Base/subarray.jl:65; similar\n",
      "     ╎    ╎    ╎ 214   @Base/array.jl:374; similar\n",
      "     ╎    ╎    ╎  214   @Base/boot.jl:486; Array\n",
      "  214╎    ╎    ╎   214   @Base/boot.jl:477; Array\n",
      "   12╎    ╎ 18647 .../src/jacobian.jl:56; jacobian!(result::SubArray...\n",
      "  243╎    ╎  243   .../src/jacobian.jl:0; jacobian!(result::SubArray...\n",
      "   51╎    ╎  18349 .../src/jacobian.jl:60; jacobian!(result::SubArray...\n",
      "     ╎    ╎   144   ...src/jacobian.jl:233; chunk_mode_jacobian!(resu...\n",
      "    1╎    ╎    144   ...src/apiutils.jl:45; seed!\n",
      "     ╎    ╎     143   ...src/apiutils.jl:45; seed!(duals::Vector{Forw...\n",
      "     ╎    ╎    ╎ 143   ...e/broadcast.jl:881; materialize!\n",
      "     ╎    ╎    ╎  143   ...e/broadcast.jl:884; materialize!\n",
      "     ╎    ╎    ╎   143   .../broadcast.jl:926; copyto!\n",
      "     ╎    ╎    ╎    143   .../broadcast.jl:973; copyto!\n",
      "     ╎    ╎    ╎     141   ...e/simdloop.jl:77; macro expansion\n",
      "    3╎    ╎   460   ...src/jacobian.jl:187; chunk_mode_jacobian!(resu...\n"
     ]
    },
    {
     "name": "stdout",
     "output_type": "stream",
     "text": [
      "     ╎    ╎    422   ...src/jacobian.jl:112; extract_jacobian_chunk!(...\n",
      "     ╎    ╎     413   ...e/broadcast.jl:881; materialize!\n",
      "     ╎    ╎    ╎ 413   ...e/broadcast.jl:884; materialize!\n",
      "     ╎    ╎    ╎  412   ...e/broadcast.jl:926; copyto!\n",
      "     ╎    ╎    ╎   396   .../broadcast.jl:973; copyto!\n",
      "     ╎    ╎    ╎    371   ...e/simdloop.jl:77; macro expansion\n",
      "     ╎    ╎    ╎     371   .../broadcast.jl:974; macro expansion\n",
      "   10╎    ╎   478   ...src/jacobian.jl:202; chunk_mode_jacobian!(resu...\n",
      "     ╎    ╎    444   ...src/jacobian.jl:112; extract_jacobian_chunk!(...\n",
      "     ╎    ╎     437   ...e/broadcast.jl:881; materialize!\n",
      "     ╎    ╎    ╎ 437   ...e/broadcast.jl:884; materialize!\n",
      "     ╎    ╎    ╎  436   ...e/broadcast.jl:926; copyto!\n",
      "     ╎    ╎    ╎   420   .../broadcast.jl:973; copyto!\n",
      "     ╎    ╎    ╎    391   ...e/simdloop.jl:77; macro expansion\n",
      "     ╎    ╎    ╎     391   .../broadcast.jl:974; macro expansion\n",
      "     ╎    ╎   8466  ...src/jacobian.jl:201; chunk_mode_jacobian!(resu...\n",
      "   23╎    ╎    8466  ...n/src/Solver.jl:97; #3\n",
      "    2╎    ╎     127   ...n/src/Solver.jl:28; eval_cell_eqs(sm::Stella...\n",
      "     ╎    ╎     141   ...n/src/Solver.jl:10; eval_cell_eqs(sm::Stella...\n",
      "     ╎    ╎     176   ...n/src/Solver.jl:15; eval_cell_eqs(sm::Stella...\n",
      "     ╎    ╎     199   ...n/src/Solver.jl:16; eval_cell_eqs(sm::Stella...\n",
      "     ╎    ╎    ╎ 109   @Base/array.jl:925; getindex\n",
      "    1╎    ╎    ╎  109   @Base/array.jl:319; copyto!\n",
      "     ╎    ╎    ╎   106   @Base/array.jl:327; _copyto_impl!(dest::Ve...\n",
      "  106╎    ╎    ╎    106   @Base/array.jl:286; unsafe_copyto!\n",
      "     ╎    ╎     204   ...n/src/Solver.jl:4; eval_cell_eqs(sm::Stella...\n",
      "  204╎    ╎    ╎ 204   @Base/boot.jl:477; Array\n",
      "     ╎    ╎     214   ...n/src/Solver.jl:6; eval_cell_eqs(sm::Stella...\n",
      "  214╎    ╎    ╎ 214   @Base/boot.jl:477; Array\n",
      "     ╎    ╎     231   ...n/src/Solver.jl:17; eval_cell_eqs(sm::Stella...\n",
      "     ╎    ╎    ╎ 153   @Base/array.jl:923; getindex\n",
      "     ╎    ╎    ╎  153   ...stractarray.jl:836; similar\n",
      "     ╎    ╎    ╎   153   @Base/array.jl:374; similar\n",
      "     ╎    ╎    ╎    153   @Base/boot.jl:486; Array\n",
      "  153╎    ╎    ╎     153   @Base/boot.jl:477; Array\n",
      "     ╎    ╎     291   ...n/src/Solver.jl:33; eval_cell_eqs(sm::Stella...\n",
      "     ╎    ╎    ╎ 243   @Base/array.jl:923; getindex\n",
      "     ╎    ╎    ╎  243   ...stractarray.jl:836; similar\n",
      "     ╎    ╎    ╎   243   @Base/array.jl:374; similar\n",
      "     ╎    ╎    ╎    243   @Base/boot.jl:486; Array\n",
      "  243╎    ╎    ╎     243   @Base/boot.jl:477; Array\n",
      "    2╎    ╎     317   ...n/src/Solver.jl:37; eval_cell_eqs(sm::Stella...\n",
      "    1╎    ╎    ╎ 190   ...rc/IdealEOS.jl:45; get_EOS_resultsTP(eos:...\n",
      "     ╎    ╎    ╎  189   @Base/array.jl:126; vect\n",
      "  107╎    ╎    ╎   107   @Base/array.jl:969; setindex!\n",
      "     ╎    ╎     367   ...n/src/Solver.jl:31; eval_cell_eqs(sm::Stella...\n",
      "    1╎    ╎    ╎ 241   ...rc/IdealEOS.jl:45; get_EOS_resultsTP(eos::...\n",
      "    1╎    ╎    ╎  240   @Base/array.jl:126; vect\n",
      "     ╎    ╎    ╎   111   @Base/array.jl:674; _array_for\n",
      "     ╎    ╎    ╎    111   @Base/array.jl:671; _array_for\n",
      "     ╎    ╎    ╎     111   ...tractarray.jl:881; similar\n",
      "  128╎    ╎    ╎   128   @Base/array.jl:969; setindex!\n",
      "    1╎    ╎     460   ...n/src/Solver.jl:26; eval_cell_eqs(sm::Stella...\n",
      "    2╎    ╎    ╎ 295   ...rc/IdealEOS.jl:45; get_EOS_resultsTP(eos::...\n",
      "    1╎    ╎    ╎  293   @Base/array.jl:126; vect\n",
      "  106╎    ╎    ╎   106   @Base/array.jl:969; setindex!\n",
      "     ╎    ╎    ╎   186   @Base/array.jl:674; _array_for\n",
      "     ╎    ╎    ╎    186   @Base/array.jl:671; _array_for\n",
      "     ╎    ╎    ╎     186   ...tractarray.jl:881; similar\n",
      " 1122╎    ╎     5360  ...n/src/Solver.jl:44; eval_cell_eqs(sm::Stella...\n"
     ]
    },
    {
     "name": "stdout",
     "output_type": "stream",
     "text": [
      "  122╎    ╎    ╎ 141   ...tingStar.ipynb:52; equationLuminosity(sm:...\n",
      "  135╎    ╎    ╎ 160   ...tingStar.ipynb:53; equationLuminosity(sm:...\n",
      "  233╎    ╎    ╎ 240   ...tingStar.ipynb:12; equationHSE(sm::Stella...\n",
      "  250╎    ╎    ╎ 268   ...tingStar.ipynb:76; equationContinuity(sm:...\n",
      "  168╎    ╎    ╎ 328   ...tingStar.ipynb:36; equationT(sm::StellarM...\n",
      "  138╎    ╎    ╎  142   .../operators.jl:578; *\n",
      "  340╎    ╎    ╎ 355   ...tingStar.ipynb:34; equationT(sm::StellarM...\n",
      "  341╎    ╎    ╎ 359   ...tingStar.ipynb:54; equationLuminosity(sm:...\n",
      "  376╎    ╎    ╎ 402   ...tingStar.ipynb:31; equationT(sm::StellarM...\n",
      "  431╎    ╎    ╎ 475   ...tingStar.ipynb:28; equationT(sm::StellarM...\n",
      "  497╎    ╎    ╎ 527   ...tingStar.ipynb:16; equationHSE(sm::Stella...\n",
      "  404╎    ╎    ╎ 664   ...tingStar.ipynb:38; equationT(sm::StellarM...\n",
      "  212╎    ╎    ╎  223   ...e/operators.jl:578; *\n",
      "     ╎    ╎   8540  ...src/jacobian.jl:183; chunk_mode_jacobian!(resu...\n",
      "   24╎    ╎    8540  ...n/src/Solver.jl:97; #3\n",
      "    3╎    ╎     133   ...n/src/Solver.jl:39; eval_cell_eqs(sm::Stella...\n",
      "    5╎    ╎     136   ...n/src/Solver.jl:28; eval_cell_eqs(sm::Stella...\n",
      "     ╎    ╎    ╎ 100   @Base/array.jl:923; getindex\n",
      "     ╎    ╎    ╎  100   ...stractarray.jl:836; similar\n",
      "     ╎    ╎    ╎   100   @Base/array.jl:374; similar\n",
      "     ╎    ╎    ╎    100   @Base/boot.jl:486; Array\n",
      "  100╎    ╎    ╎     100   @Base/boot.jl:477; Array\n",
      "     ╎    ╎     140   ...n/src/Solver.jl:2; eval_cell_eqs(sm::Stella...\n",
      "  137╎    ╎    ╎ 137   @Base/boot.jl:477; Array\n",
      "     ╎    ╎     182   ...n/src/Solver.jl:10; eval_cell_eqs(sm::Stella...\n",
      "     ╎    ╎    ╎ 142   @Base/array.jl:125; vect\n",
      "     ╎    ╎    ╎  142   @Base/boot.jl:496; Array\n",
      "  142╎    ╎    ╎   142   @Base/boot.jl:477; Array\n",
      "     ╎    ╎     189   ...n/src/Solver.jl:15; eval_cell_eqs(sm::Stella...\n",
      "     ╎    ╎    ╎ 107   @Base/array.jl:925; getindex\n",
      "     ╎    ╎    ╎  107   @Base/array.jl:319; copyto!\n",
      "     ╎    ╎    ╎   105   @Base/array.jl:327; _copyto_impl!(dest::Ve...\n",
      "  104╎    ╎    ╎    104   @Base/array.jl:286; unsafe_copyto!\n",
      "     ╎    ╎     207   ...n/src/Solver.jl:17; eval_cell_eqs(sm::Stella...\n",
      "     ╎    ╎    ╎ 134   @Base/array.jl:923; getindex\n",
      "     ╎    ╎    ╎  133   ...stractarray.jl:836; similar\n",
      "     ╎    ╎    ╎   133   @Base/array.jl:374; similar\n",
      "     ╎    ╎    ╎    133   @Base/boot.jl:486; Array\n",
      "  133╎    ╎    ╎     133   @Base/boot.jl:477; Array\n",
      "     ╎    ╎     217   ...n/src/Solver.jl:16; eval_cell_eqs(sm::Stella...\n",
      "     ╎    ╎    ╎ 102   @Base/array.jl:923; getindex\n",
      "     ╎    ╎    ╎  102   ...stractarray.jl:836; similar\n",
      "     ╎    ╎    ╎   102   @Base/array.jl:374; similar\n",
      "     ╎    ╎    ╎    102   @Base/boot.jl:486; Array\n",
      "  102╎    ╎    ╎     102   @Base/boot.jl:477; Array\n",
      "     ╎    ╎    ╎ 114   @Base/array.jl:925; getindex\n",
      "    1╎    ╎    ╎  114   @Base/array.jl:319; copyto!\n",
      "     ╎    ╎    ╎   109   @Base/array.jl:327; _copyto_impl!(dest::Ve...\n",
      "  109╎    ╎    ╎    109   @Base/array.jl:286; unsafe_copyto!\n",
      "     ╎    ╎     294   ...n/src/Solver.jl:6; eval_cell_eqs(sm::Stella...\n",
      "  294╎    ╎    ╎ 294   @Base/boot.jl:477; Array\n",
      "    1╎    ╎     328   ...n/src/Solver.jl:37; eval_cell_eqs(sm::Stella...\n",
      "    2╎    ╎    ╎ 200   ...rc/IdealEOS.jl:45; get_EOS_resultsTP(eos:...\n",
      "     ╎    ╎    ╎  198   @Base/array.jl:126; vect\n",
      "  126╎    ╎    ╎   126   @Base/array.jl:969; setindex!\n",
      "     ╎    ╎     337   ...n/src/Solver.jl:4; eval_cell_eqs(sm::Stella...\n",
      "  337╎    ╎    ╎ 337   @Base/boot.jl:477; Array\n",
      "    2╎    ╎     369   ...n/src/Solver.jl:31; eval_cell_eqs(sm::Stella...\n",
      "     ╎    ╎    ╎ 171   ...rc/IdealEOS.jl:45; get_EOS_resultsTP(eos::...\n",
      "     ╎    ╎    ╎  171   @Base/array.jl:126; vect\n",
      "    6╎    ╎     394   ...n/src/Solver.jl:26; eval_cell_eqs(sm::Stella...\n",
      "     ╎    ╎    ╎ 234   ...rc/IdealEOS.jl:45; get_EOS_resultsTP(eos:...\n",
      "    1╎    ╎    ╎  234   @Base/array.jl:126; vect\n",
      "  140╎    ╎    ╎   140   @Base/array.jl:969; setindex!\n",
      " 1015╎    ╎     5340  ...n/src/Solver.jl:44; eval_cell_eqs(sm::Stella...\n"
     ]
    },
    {
     "name": "stdout",
     "output_type": "stream",
     "text": [
      "  128╎    ╎    ╎ 161   ...tingStar.ipynb:53; equationLuminosity(sm:...\n",
      "  191╎    ╎    ╎ 209   ...tingStar.ipynb:52; equationLuminosity(sm:...\n",
      "  270╎    ╎    ╎ 281   ...tingStar.ipynb:76; equationContinuity(sm:...\n",
      "  157╎    ╎    ╎ 290   ...tingStar.ipynb:36; equationT(sm::StellarM...\n",
      "  120╎    ╎    ╎  124   ...e/operators.jl:578; *\n",
      "  301╎    ╎    ╎ 318   ...tingStar.ipynb:31; equationT(sm::StellarM...\n",
      "  347╎    ╎    ╎ 363   ...tingStar.ipynb:34; equationT(sm::StellarM...\n",
      "  363╎    ╎    ╎ 373   ...tingStar.ipynb:54; equationLuminosity(sm:...\n",
      "  373╎    ╎    ╎ 381   ...tingStar.ipynb:12; equationHSE(sm::Stella...\n",
      "  360╎    ╎    ╎ 407   ...tingStar.ipynb:28; equationT(sm::StellarM...\n",
      "  458╎    ╎    ╎ 506   ...tingStar.ipynb:16; equationHSE(sm::Stella...\n",
      "  479╎    ╎    ╎ 737   ...tingStar.ipynb:38; equationT(sm::StellarM...\n",
      "  199╎    ╎    ╎  204   ...e/operators.jl:578; *\n",
      "Total snapshots: 42496. Utilization: 92% across all threads and tasks. Use the `groupby` kwarg to break down by thread and/or task\n"
     ]
    }
   ],
   "source": [
    "Profile.print(sortedby=:count, maxdepth=15, mincount=100)"
   ]
  },
  {
   "cell_type": "code",
   "execution_count": null,
   "id": "152239a7",
   "metadata": {},
   "outputs": [],
   "source": []
  }
 ],
 "metadata": {
  "kernelspec": {
   "display_name": "Julia 1.9.0",
   "language": "julia",
   "name": "julia-1.9"
  },
  "language_info": {
   "file_extension": ".jl",
   "mimetype": "application/julia",
   "name": "julia",
   "version": "1.9.0"
  }
 },
 "nbformat": 4,
 "nbformat_minor": 5
}

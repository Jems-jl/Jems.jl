{
 "cells": [
  {
   "cell_type": "code",
   "execution_count": 1,
   "id": "1ebebc11",
   "metadata": {},
   "outputs": [],
   "source": [
    "using BenchmarkTools\n",
    "using StellarChem\n",
    "using StellarConstants\n",
    "using StellarEOS\n",
    "using StellarOpacity\n",
    "using StellarEvolution"
   ]
  },
  {
   "cell_type": "code",
   "execution_count": 2,
   "id": "e90eb3f2",
   "metadata": {},
   "outputs": [
    {
     "data": {
      "text/plain": [
       "Dict{Symbol, Isotope} with 3352 entries:\n",
       "  :Ne26  => Isotope(10, 26, \"Ne\", 26.0005)\n",
       "  :C22   => Isotope(6, 22, \"C\", 22.0575)\n",
       "  :Pr143 => Isotope(59, 143, \"Pr\", 142.911)\n",
       "  :Re163 => Isotope(75, 163, \"Re\", 162.972)\n",
       "  :Cu52  => Isotope(29, 52, \"Cu\", 51.9967)\n",
       "  :Co50  => Isotope(27, 50, \"Co\", 49.9809)\n",
       "  :Sr74  => Isotope(38, 74, \"Sr\", 73.9562)\n",
       "  :Pt188 => Isotope(78, 188, \"Pt\", 187.959)\n",
       "  :No258 => Isotope(102, 258, \"No\", 258.098)\n",
       "  :Pb210 => Isotope(82, 210, \"Pb\", 209.984)\n",
       "  :Dy148 => Isotope(66, 148, \"Dy\", 147.927)\n",
       "  :Hg200 => Isotope(80, 200, \"Hg\", 199.968)\n",
       "  :Ir182 => Isotope(77, 182, \"Ir\", 181.958)\n",
       "  :Md246 => Isotope(101, 246, \"Md\", 246.082)\n",
       "  :Lr251 => Isotope(103, 251, \"Lr\", 251.094)\n",
       "  :Cu75  => Isotope(29, 75, \"Cu\", 74.9415)\n",
       "  :Ce144 => Isotope(58, 144, \"Ce\", 143.914)\n",
       "  :Xe125 => Isotope(54, 125, \"Xe\", 124.906)\n",
       "  :Ni66  => Isotope(28, 66, \"Ni\", 65.9291)\n",
       "  ⋮      => ⋮"
      ]
     },
     "metadata": {},
     "output_type": "display_data"
    }
   ],
   "source": [
    "isotope_list = StellarChem.get_isotope_list()"
   ]
  },
  {
   "cell_type": "code",
   "execution_count": 3,
   "id": "aa8489f8",
   "metadata": {},
   "outputs": [
    {
     "data": {
      "text/plain": [
       "equationHe4 (generic function with 1 method)"
      ]
     },
     "metadata": {},
     "output_type": "display_data"
    }
   ],
   "source": [
    "function equationHSE(sm, k, varm1::Vector{<:TT}, var00::Vector{<:TT}, varp1::Vector{<:TT},\n",
    "                            eosm1::Vector{<:TT}, eos00::Vector{<:TT}, eosp1::Vector{<:TT},\n",
    "                            κm1::TT, κ00::TT, κp1::TT)::TT where{TT<:Real}\n",
    "    if k==sm.nz\n",
    "        lnP₀ = var00[sm.vari[:lnP]]\n",
    "        r₀ = exp(var00[sm.vari[:lnr]])\n",
    "        g₀ = CGRAV*sm.mstar/r₀^2\n",
    "        return lnP₀ -log(2g₀/(3κ00)) # Eddington gray, ignoring radiation pressure term\n",
    "    end\n",
    "    lnP₊ = varp1[sm.vari[:lnP]]\n",
    "    lnP₀ = var00[sm.vari[:lnP]]\n",
    "    lnPface = (sm.dm[k]*lnP₀ + sm.dm[k+1]*lnP₊)/(sm.dm[k]+sm.dm[k+1])\n",
    "    r₀ = exp(var00[sm.vari[:lnr]])\n",
    "    dm = (sm.m[k+1]-sm.m[k])\n",
    "    \n",
    "    return (exp(lnPface)*(lnP₊ - lnP₀)/dm + CGRAV*sm.m[k]/(4π*r₀^4))/(CGRAV*sm.m[k]/(4π*r₀^4))\n",
    "end\n",
    "\n",
    "function equationT(sm, k, varm1::Vector{<:TT}, var00::Vector{<:TT}, varp1::Vector{<:TT},\n",
    "                          eosm1::Vector{<:TT}, eos00::Vector{<:TT}, eosp1::Vector{<:TT},\n",
    "                          κm1::TT, κ00::TT, κp1::TT)::TT where{TT<:Real}\n",
    "    if k==sm.nz\n",
    "        lnT₀ = var00[sm.vari[:lnT]]\n",
    "        L₀ = var00[sm.vari[:lum]]*LSUN\n",
    "        r₀ = exp(var00[sm.vari[:lnr]])\n",
    "        return lnT₀ - log(L₀/(BOLTZ_SIGMA*4π*r₀^2))/4 # Eddington gray, ignoring radiation pressure term\n",
    "    end\n",
    "    κface = exp((sm.dm[k]*log(κ00) + sm.dm[k+1]*log(κp1))/(sm.dm[k]+sm.dm[k+1]))\n",
    "    L₀ = var00[sm.vari[:lum]]*LSUN\n",
    "    r₀ = exp(var00[sm.vari[:lnr]])\n",
    "    Pface = exp((sm.dm[k]*var00[sm.vari[:lnP]] + sm.dm[k+1]*varp1[sm.vari[:lnP]])/(sm.dm[k]+sm.dm[k+1]))\n",
    "    lnT₊ = varp1[sm.vari[:lnT]]\n",
    "    lnT₀ = var00[sm.vari[:lnT]]\n",
    "    Tface = exp((sm.dm[k]*lnT₀ + sm.dm[k+1]*lnT₊)/(sm.dm[k]+sm.dm[k+1]))\n",
    "\n",
    "    ∇ᵣ = 3κface*L₀*Pface/(16π*CRAD*CLIGHT*CGRAV*sm.m[k]*Tface^4)\n",
    "    ∇ₐ = (sm.dm[k]*eos00[7] + sm.dm[k+1]*eosp1[7])/(sm.dm[k]+sm.dm[k+1])\n",
    "\n",
    "    if (∇ᵣ < ∇ₐ)\n",
    "        return (Tface*(lnT₊ - lnT₀)/sm.dm[k] + CGRAV*sm.m[k]*Tface/(4π*r₀^4*Pface)*∇ᵣ)/(CGRAV*sm.m[k]*Tface/(4π*r₀^4*Pface)) # only radiative transport\n",
    "    else\n",
    "        return (Tface*(lnT₊ - lnT₀)/sm.dm[k] + CGRAV*sm.m[k]*Tface/(4π*r₀^4*Pface)*∇ₐ)/(CGRAV*sm.m[k]*Tface/(4π*r₀^4*Pface)) # only radiative transport\n",
    "    end\n",
    "end\n",
    "\n",
    "function equationLuminosity(sm, k, varm1::Vector{<:TT}, var00::Vector{<:TT}, varp1::Vector{<:TT},\n",
    "                          eosm1::Vector{<:TT}, eos00::Vector{<:TT}, eosp1::Vector{<:TT},\n",
    "                          κm1::TT, κ00::TT, κp1::TT)::TT where{TT<:Real}\n",
    "    L₋::TT = 0 # central luminosity is zero at first cell\n",
    "    if k>1\n",
    "        L₋ = varm1[sm.vari[:lum]]*LSUN # change it if not at first cell\n",
    "    end\n",
    "    L₀ = var00[sm.vari[:lum]]*LSUN\n",
    "    ρ₀ = eos00[1]\n",
    "    cₚ = eos00[5]\n",
    "    δ = eos00[6]\n",
    "    dTdt = (exp(var00[sm.vari[:lnT]]) - exp(sm.ssi.lnT[k]))/sm.ssi.dt\n",
    "    dPdt = (exp(var00[sm.vari[:lnP]]) - exp(sm.ssi.lnP[k]))/sm.ssi.dt\n",
    "\n",
    "    ϵnuc = 0.1*var00[sm.vari[:H1]]^2*ρ₀*(exp(var00[sm.vari[:lnT]])/1e6)^4 + 0.1*var00[sm.vari[:H1]]*ρ₀*(exp(var00[sm.vari[:lnT]])/1e7)^18\n",
    "\n",
    "    return ((L₀-L₋)/sm.dm[k]-ϵnuc+cₚ*dTdt -(δ/ρ₀)*dPdt) # no nuclear reactions or neutrinos\n",
    "end\n",
    "\n",
    "function equationContinuity(sm, k, varm1::Vector{<:TT}, var00::Vector{<:TT}, varp1::Vector{<:TT},\n",
    "                                   eosm1::Vector{<:TT}, eos00::Vector{<:TT}, eosp1::Vector{<:TT},\n",
    "                                   κm1::TT, κ00::TT, κp1::TT)::TT where{TT<:Real}\n",
    "    ρ₀ = eos00[1]\n",
    "    r₀ = exp(var00[sm.vari[:lnr]])\n",
    "    r₋::TT = 0 # central radius is zero at first cell\n",
    "    if k>1\n",
    "        r₋ = exp(varm1[sm.vari[:lnr]]) # change it if not at first cell\n",
    "    end\n",
    "    \n",
    "    dm = sm.m[k] # this is only valid for k=1\n",
    "    if k>1\n",
    "        dm = dm-sm.m[k-1]\n",
    "    end\n",
    "\n",
    "    #expected_r₀ = r₋ + dm/(4π*r₋^2*ρ)\n",
    "    expected_dr³_dm = 3/(4π*ρ₀)\n",
    "    actual_dr³_dm = (r₀^3-r₋^3)/dm\n",
    "    \n",
    "    return (expected_dr³_dm - actual_dr³_dm)*ρ₀\n",
    "end\n",
    "\n",
    "#  To test performance, include 8 isotopes similar to basic.net in MESA.\n",
    "#  of course we are keeping these fixed now, but it lets us test their impact on the\n",
    "#  computation of the jacobian\n",
    "\n",
    "function equationH1(sm, k, varm1::Vector{<:TT}, var00::Vector{<:TT}, varp1::Vector{<:TT},\n",
    "                                    eosm1::Vector{<:TT}, eos00::Vector{<:TT}, eosp1::Vector{<:TT},\n",
    "                                    κm1::TT, κ00::TT, κp1::TT)::TT where{TT<:Real}\n",
    "    ρ₀ = eos00[1]\n",
    "    ϵnuc = 0.1*var00[sm.vari[:H1]]^2*ρ₀*(exp(var00[sm.vari[:lnT]])/1e6)^4 + 0.1*var00[sm.vari[:H1]]*ρ₀*(exp(var00[sm.vari[:lnT]])/1e7)^18\n",
    "    rate_per_unit_mass = 4*ϵnuc/((4*isotope_list[:H1].mass-isotope_list[:He4].mass)*AMU*CLIGHT^2)\n",
    "\n",
    "    Xi = sm.ssi.ind_vars[(k-1)*sm.nvars+sm.vari[:H1]]\n",
    "\n",
    "    return (var00[sm.vari[:H1]]-Xi)/sm.ssi.dt + isotope_list[:H1].mass*AMU*rate_per_unit_mass\n",
    "end\n",
    "\n",
    "function equationHe4(sm, k, varm1::Vector{<:TT}, var00::Vector{<:TT}, varp1::Vector{<:TT},\n",
    "                                    eosm1::Vector{<:TT}, eos00::Vector{<:TT}, eosp1::Vector{<:TT},\n",
    "                                    κm1::TT, κ00::TT, κp1::TT)::TT where{TT<:Real}\n",
    "    return  var00[sm.vari[:He4]] + var00[sm.vari[:H1]] - 1.0\n",
    "end"
   ]
  },
  {
   "cell_type": "code",
   "execution_count": 4,
   "id": "67a989b0",
   "metadata": {},
   "outputs": [],
   "source": [
    "nvars = 6\n",
    "nspecies = 2\n",
    "varnames = [:lnP,:lnT,:lnr,:lum,:H1, :He4]\n",
    "structure_equations=[equationHSE, equationT,\n",
    "                        equationContinuity, equationLuminosity,\n",
    "                        equationH1, equationHe4]\n",
    "nz = 1000\n",
    "eos = StellarEOS.IdealEOS(false)\n",
    "opacity = StellarOpacity.SimpleElectronScatteringOpacity()\n",
    "sm = StellarModel(varnames, structure_equations, nvars, nspecies, nz, eos, opacity);"
   ]
  },
  {
   "cell_type": "code",
   "execution_count": 5,
   "id": "7e37946f",
   "metadata": {},
   "outputs": [
    {
     "data": {
      "text/plain": [
       "n1_polytrope_initial_condition (generic function with 1 method)"
      ]
     },
     "metadata": {},
     "output_type": "display_data"
    }
   ],
   "source": [
    "# use an n=1 polytrope as initial condition, should be better than a constant density star\n",
    "using ForwardDiff\n",
    "using Roots\n",
    "\n",
    "isotope_list = StellarChem.get_isotope_list()\n",
    "\n",
    "function theta_n(xi)\n",
    "    return sin(xi)/xi\n",
    "end\n",
    "\n",
    "# create a profile for composition that better resolves edges\n",
    "function get_logdq(k, nz, logdq_low, logdq_high, numregion)\n",
    "    if k<numregion\n",
    "        return logdq_low+(k-1)*(logdq_high - logdq_low)/(numregion-1)\n",
    "    elseif k<nz-numregion\n",
    "        return logdq_high\n",
    "    else\n",
    "        k0 = nz-numregion\n",
    "        k1 = nz\n",
    "        return logdq_high+(logdq_low-logdq_high)*(k-k0)/(k1-k0)\n",
    "    end\n",
    "end\n",
    "logdqs = get_logdq.(1:sm.nz,sm.nz,-3.0,0.0,100)\n",
    "dqs = 10 .^ logdqs\n",
    "dqs = dqs./sum(dqs)\n",
    "dms = dqs.*MSUN\n",
    "m_face = cumsum(dms)\n",
    "m_cell = cumsum(dms)\n",
    "#correct m_center\n",
    "for i in 1:sm.nz\n",
    "    if i==1\n",
    "        m_cell[i] = 0\n",
    "    elseif i!=sm.nz\n",
    "        m_cell[i] = m_cell[i] - 0.5*dms[i]\n",
    "    end\n",
    "end\n",
    "\n",
    "function n1_polytrope_initial_condition(sm::StellarModel, M::Real, R::Real)\n",
    "\n",
    "    n=1\n",
    "    rn = R/π # ξ is defined as r/rn, where rn^2=(n+1)Pc/(4π G ρc^2)\n",
    "\n",
    "    ρc = M/(4π*rn^3*(-π^2*ForwardDiff.derivative(theta_n, π)))\n",
    "    Pc = 4π*CGRAV*rn^2*ρc^2/(n+1)\n",
    "\n",
    "    ξ_cell = zeros(sm.nz)\n",
    "    ξ_face = zeros(sm.nz)\n",
    "    function mfunc(ξ,m)\n",
    "        return m - 4π*rn^3*ρc*(-(-sin(ξ)+cos(ξ)*ξ))\n",
    "    end\n",
    "\n",
    "    for i in 1:sm.nz\n",
    "        if i==1\n",
    "            ξ_cell[i] = 0\n",
    "        elseif i==sm.nz\n",
    "            ξ_cell[i] = π\n",
    "        else\n",
    "            mfunc_anon = ξ->mfunc(ξ,m_cell[i])\n",
    "            ξ_cell[i] = find_zero(mfunc_anon, (0,π), Bisection())\n",
    "        end\n",
    "        if i==sm.nz\n",
    "            ξ_face[i] = π\n",
    "        else\n",
    "            mfunc_anon = ξ->mfunc(ξ,m_face[i])\n",
    "            ξ_face[i] = find_zero(mfunc_anon, (0,π), Bisection())\n",
    "        end\n",
    "    end\n",
    "\n",
    "    #set radii, pressure and temperature, assuming ideal gas without Prad\n",
    "    for i in 1:sm.nz\n",
    "        μ = 0.5\n",
    "        XH = 1.0\n",
    "        sm.ind_vars[(i-1)*sm.nvars+sm.vari[:lnr]] = log(rn*ξ_face[i])\n",
    "        if i>1\n",
    "            P = Pc*(theta_n(ξ_cell[i]))^(n+1)\n",
    "            ρ = ρc*(theta_n(ξ_cell[i]))^(n)\n",
    "        else\n",
    "            P = Pc\n",
    "            ρ = ρc\n",
    "        end\n",
    "        sm.ind_vars[(i-1)*sm.nvars+sm.vari[:lnP]] = log(P)\n",
    "        sm.ind_vars[(i-1)*sm.nvars+sm.vari[:lnT]] = log(P*μ/(CGAS*ρ)) \n",
    "        sm.ind_vars[(i-1)*sm.nvars+sm.vari[:H1]] = 1.0\n",
    "        sm.ind_vars[(i-1)*sm.nvars+sm.vari[:He4]] = 0\n",
    "    end\n",
    "\n",
    "    #set m and dm\n",
    "    sm.mstar = M\n",
    "    sm.dm = dms\n",
    "    sm.m = m_face\n",
    "\n",
    "    #set luminosity \n",
    "    for i in 1:sm.nz-1\n",
    "        μ = 0.5\n",
    "        Pface = Pc*(theta_n(ξ_face[i]))^(n+1)\n",
    "        ρface = ρc*(theta_n(ξ_face[i]))^(n)\n",
    "        Tface = Pface*μ/(CGAS*ρface)\n",
    "        dlnT = sm.ind_vars[(i)*sm.nvars+sm.vari[:lnT]] - sm.ind_vars[(i-1)*sm.nvars+sm.vari[:lnT]]\n",
    "        dlnP = sm.ind_vars[(i)*sm.nvars+sm.vari[:lnP]] - sm.ind_vars[(i-1)*sm.nvars+sm.vari[:lnP]]\n",
    "        κ=0.2\n",
    "        sm.ind_vars[(i-1)*sm.nvars+sm.vari[:lum]] = (dlnT/dlnP)*(16π*CRAD*CLIGHT*CGRAV*m_face[i]*Tface^4)/(3κ*Pface)/LSUN\n",
    "    end\n",
    "\n",
    "    #special cases, just copy values at edges\n",
    "    sm.ind_vars[(sm.nz-1)*sm.nvars+sm.vari[:lnP]] = sm.ind_vars[(sm.nz-2)*sm.nvars+sm.vari[:lnP]]\n",
    "    sm.ind_vars[(sm.nz-1)*sm.nvars+sm.vari[:lnT]] = sm.ind_vars[(sm.nz-2)*sm.nvars+sm.vari[:lnT]]\n",
    "    sm.ind_vars[(sm.nz-1)*sm.nvars+sm.vari[:lum]] = sm.ind_vars[(sm.nz-2)*sm.nvars+sm.vari[:lum]]\n",
    "\n",
    "    sm.time = 0.0\n",
    "    sm.dt = 100*SECYEAR\n",
    "    sm.model_number = 0\n",
    "end"
   ]
  },
  {
   "cell_type": "code",
   "execution_count": 6,
   "id": "46d75aa3",
   "metadata": {},
   "outputs": [],
   "source": [
    "# set end step info (sm.esi) from current state\n",
    "function set_end_step_info(sm::StellarModel)\n",
    "    sm.esi.model_number = sm.model_number\n",
    "    sm.esi.time = sm.time\n",
    "    sm.esi.dt = sm.dt\n",
    "\n",
    "    sm.esi.nz = sm.nz\n",
    "    sm.esi.mstar = sm.mstar\n",
    "    for i in 1:sm.nz\n",
    "        sm.esi.m[i] = sm.m[i]\n",
    "        sm.esi.dm[i] = sm.dm[i]\n",
    "\n",
    "        sm.esi.lnT[i] = sm.ind_vars[(i-1)*sm.nvars+sm.vari[:lnT]]\n",
    "        sm.esi.L[i] = sm.ind_vars[(i-1)*sm.nvars+sm.vari[:lum]]\n",
    "        sm.esi.lnP[i] = sm.ind_vars[(i-1)*sm.nvars+sm.vari[:lnP]]\n",
    "        sm.esi.lnr[i] = sm.ind_vars[(i-1)*sm.nvars+sm.vari[:lnr]]\n",
    "\n",
    "        species_names = sm.varnames[sm.nvars-sm.nspecies+1:end]\n",
    "        xa = sm.ind_vars[i*sm.nvars-sm.nspecies+1:i*sm.nvars]\n",
    "\n",
    "        eos = get_EOS_resultsTP(sm.eos, sm.isotope_data, sm.psi.lnT[i], sm.psi.lnP[i], xa,species_names)\n",
    "        \n",
    "        sm.esi.lnρ[i] = eos[1]\n",
    "        sm.esi.ind_vars[(i-1)*sm.nvars+1:i*sm.nvars] .= sm.ind_vars[(i-1)*sm.nvars+1:i*sm.nvars]\n",
    "    end\n",
    "end\n",
    "\n",
    "function cycle_step_info(sm::StellarModel)\n",
    "    temp_step_info = sm.psi\n",
    "    sm.psi = sm.esi\n",
    "    sm.esi = sm.ssi\n",
    "    sm.ssi = temp_step_info\n",
    "end\n",
    "\n",
    "function set_start_step_info(sm::StellarModel)\n",
    "    # for now, we dont do anything special before the step (ie remeshing) so we just copy things from sm.psi\n",
    "    sm.ssi.model_number = sm.psi.model_number\n",
    "    sm.ssi.time = sm.psi.time\n",
    "    sm.ssi.dt = sm.psi.dt\n",
    "\n",
    "    sm.ssi.nz = sm.psi.nz\n",
    "    sm.ssi.mstar = sm.mstar\n",
    "    for i in 1:sm.nz\n",
    "        sm.ssi.m[i] = sm.psi.m[i]\n",
    "        sm.ssi.dm[i] = sm.psi.dm[i]\n",
    "\n",
    "        sm.ssi.lnT[i] = sm.psi.lnT[i]\n",
    "        sm.ssi.L[i] = sm.psi.L[i]\n",
    "        sm.ssi.lnP[i] = sm.psi.lnP[i]\n",
    "        sm.ssi.lnr[i] = sm.psi.lnr[i]\n",
    "        sm.ssi.lnρ[i] = sm.psi.lnρ[i]\n",
    "        sm.ssi.ind_vars[(i-1)*sm.nvars+1:i*sm.nvars] .= sm.psi.ind_vars[(i-1)*sm.nvars+1:i*sm.nvars]\n",
    "    end\n",
    "end\n",
    "\n",
    "function get_dt_next(sm::StellarModel)\n",
    "    dt_next = sm.esi.dt\n",
    "    if (sm.esi.model_number==0)\n",
    "        return dt_next\n",
    "    else\n",
    "        Rsurf = exp(sm.esi.lnr[sm.esi.nz])\n",
    "        Rsurf_old = exp(sm.psi.lnr[sm.esi.nz])\n",
    "        ΔR_div_R = abs(Rsurf-Rsurf_old)/Rsurf\n",
    "        \n",
    "        Tc = exp(sm.esi.lnT[sm.esi.nz])\n",
    "        Tc_old = exp(sm.psi.lnT[sm.esi.nz])\n",
    "        ΔTc_div_Tc = abs(Tc-Tc_old)/Tc\n",
    "\n",
    "        X = sm.esi.ind_vars[(sm.esi.nz-1)*sm.nvars+sm.vari[:H1]]\n",
    "        Xold = sm.psi.ind_vars[(sm.esi.nz-1)*sm.nvars+sm.vari[:H1]]\n",
    "        ΔX = abs(X-Xold)/(X)\n",
    "\n",
    "        dt_nextR = dt_next*sm.opt.timestep.delta_R_limit/ΔR_div_R\n",
    "        dt_nextTc = dt_next*sm.opt.timestep.delta_Tc_limit/ΔTc_div_Tc\n",
    "        dt_nextX = dt_next*sm.opt.timestep.delta_Xc_limit/ΔX\n",
    "\n",
    "        dt_next = min(2*dt_next, dt_nextR, dt_nextTc, dt_nextX)\n",
    "        return dt_next\n",
    "    end\n",
    "end\n",
    "\n",
    "n1_polytrope_initial_condition(sm, MSUN, 100*RSUN)\n",
    "\n",
    "set_end_step_info(sm)\n",
    "cycle_step_info(sm)\n",
    "set_start_step_info(sm)\n",
    "\n",
    "StellarEvolution.eval_jacobian!(sm)\n",
    "StellarEvolution.eval_eqs!(sm)"
   ]
  },
  {
   "cell_type": "code",
   "execution_count": 7,
   "id": "994d31bd",
   "metadata": {},
   "outputs": [
    {
     "data": {
      "text/plain": [
       "u: 6000-element Vector{Float64}:\n",
       " -0.16414643926443198\n",
       "  0.038380491098563806\n",
       "  0.06997486234204543\n",
       " -0.0003905067384710364\n",
       "  2.6145232023069716e-21\n",
       " -2.6145232023069716e-21\n",
       " -0.16422439609154224\n",
       "  0.03832621387202208\n",
       "  0.06997019954324919\n",
       " -0.0008090809252980981\n",
       "  ⋮\n",
       " -2.9583244010939964e-5\n",
       "  4.72691120518367e-37\n",
       " -4.72691120518367e-37\n",
       "  1.4640694383815738\n",
       " -0.3867700556228901\n",
       " -0.08614387436523128\n",
       " -2.6790005833175068e-5\n",
       "  1.5061054442774303e-37\n",
       " -1.5061054442774303e-37"
      ]
     },
     "metadata": {},
     "output_type": "display_data"
    }
   ],
   "source": [
    "sm.linear_solver.A = sm.jac\n",
    "sm.linear_solver.b = sm.eqs\n",
    "corr =solve(sm.linear_solver)"
   ]
  },
  {
   "cell_type": "code",
   "execution_count": 8,
   "id": "2149c9c3",
   "metadata": {},
   "outputs": [
    {
     "data": {
      "text/plain": [
       "6000-element Vector{Float64}:\n",
       "  -0.8624400989005232\n",
       "  -0.5985167355043476\n",
       "  -0.0017316692363906244\n",
       " 155.24764717643617\n",
       "   7.896410730753582e-31\n",
       "   0.0\n",
       "   0.03151551886293648\n",
       "  -0.1192370820744743\n",
       "  -0.001719418289897644\n",
       " 155.2160147729091\n",
       "   ⋮\n",
       " -31.54173730129525\n",
       "   6.854755786421306e-47\n",
       "   0.0\n",
       "   1.2917816896511112\n",
       "  -0.08957951548671295\n",
       "  -0.35789033664409264\n",
       "  -4.385537844795771e-28\n",
       "   6.854755786421306e-47\n",
       "   0.0"
      ]
     },
     "metadata": {},
     "output_type": "display_data"
    }
   ],
   "source": [
    "sm.eqs"
   ]
  },
  {
   "cell_type": "code",
   "execution_count": 9,
   "id": "03c44e72",
   "metadata": {},
   "outputs": [
    {
     "data": {
      "text/plain": [
       "BenchmarkTools.Trial: 860 samples with 1 evaluation.\n",
       " Range \u001b[90m(\u001b[39m\u001b[36m\u001b[1mmin\u001b[22m\u001b[39m … \u001b[35mmax\u001b[39m\u001b[90m):  \u001b[39m\u001b[36m\u001b[1m4.550 ms\u001b[22m\u001b[39m … \u001b[35m 10.544 ms\u001b[39m  \u001b[90m┊\u001b[39m GC \u001b[90m(\u001b[39mmin … max\u001b[90m): \u001b[39m0.00% … 31.94%\n",
       " Time  \u001b[90m(\u001b[39m\u001b[34m\u001b[1mmedian\u001b[22m\u001b[39m\u001b[90m):     \u001b[39m\u001b[34m\u001b[1m5.488 ms               \u001b[22m\u001b[39m\u001b[90m┊\u001b[39m GC \u001b[90m(\u001b[39mmedian\u001b[90m):    \u001b[39m0.00%\n",
       " Time  \u001b[90m(\u001b[39m\u001b[32m\u001b[1mmean\u001b[22m\u001b[39m ± \u001b[32mσ\u001b[39m\u001b[90m):   \u001b[39m\u001b[32m\u001b[1m5.792 ms\u001b[22m\u001b[39m ± \u001b[32m973.750 μs\u001b[39m  \u001b[90m┊\u001b[39m GC \u001b[90m(\u001b[39mmean ± σ\u001b[90m):  \u001b[39m4.99% ±  8.21%\n",
       "\n",
       "  \u001b[39m \u001b[39m \u001b[39m \u001b[39m▁\u001b[39m▆\u001b[39m█\u001b[39m▇\u001b[39m█\u001b[39m \u001b[39m▄\u001b[39m \u001b[39m▁\u001b[39m▂\u001b[34m▃\u001b[39m\u001b[39m \u001b[39m \u001b[39m \u001b[39m \u001b[32m \u001b[39m\u001b[39m \u001b[39m \u001b[39m \u001b[39m \u001b[39m \u001b[39m \u001b[39m \u001b[39m \u001b[39m \u001b[39m \u001b[39m \u001b[39m \u001b[39m \u001b[39m \u001b[39m \u001b[39m \u001b[39m \u001b[39m \u001b[39m \u001b[39m \u001b[39m \u001b[39m \u001b[39m \u001b[39m \u001b[39m \u001b[39m \u001b[39m \u001b[39m \u001b[39m \u001b[39m \u001b[39m \u001b[39m \u001b[39m \u001b[39m \u001b[39m \u001b[39m \u001b[39m \u001b[39m \u001b[39m \u001b[39m \u001b[39m \u001b[39m \n",
       "  \u001b[39m▃\u001b[39m▄\u001b[39m▆\u001b[39m█\u001b[39m█\u001b[39m█\u001b[39m█\u001b[39m█\u001b[39m█\u001b[39m█\u001b[39m█\u001b[39m█\u001b[39m█\u001b[34m█\u001b[39m\u001b[39m█\u001b[39m█\u001b[39m▆\u001b[39m▇\u001b[32m▇\u001b[39m\u001b[39m▆\u001b[39m▅\u001b[39m▄\u001b[39m█\u001b[39m▅\u001b[39m▆\u001b[39m▆\u001b[39m▅\u001b[39m▅\u001b[39m▅\u001b[39m▄\u001b[39m▃\u001b[39m▄\u001b[39m▄\u001b[39m▂\u001b[39m▂\u001b[39m▃\u001b[39m▃\u001b[39m▃\u001b[39m▃\u001b[39m▂\u001b[39m▂\u001b[39m▂\u001b[39m▂\u001b[39m▂\u001b[39m▂\u001b[39m▂\u001b[39m▂\u001b[39m▂\u001b[39m▃\u001b[39m▂\u001b[39m▃\u001b[39m▂\u001b[39m▁\u001b[39m▂\u001b[39m▂\u001b[39m▂\u001b[39m▁\u001b[39m▂\u001b[39m▂\u001b[39m \u001b[39m▃\n",
       "  4.55 ms\u001b[90m         Histogram: frequency by time\u001b[39m        8.66 ms \u001b[0m\u001b[1m<\u001b[22m\n",
       "\n",
       " Memory estimate\u001b[90m: \u001b[39m\u001b[33m8.73 MiB\u001b[39m, allocs estimate\u001b[90m: \u001b[39m\u001b[33m41\u001b[39m."
      ]
     },
     "metadata": {},
     "output_type": "display_data"
    }
   ],
   "source": [
    "using LinearSolve\n",
    "@benchmark begin\n",
    "    $sm.linear_solver.A = $sm.jac\n",
    "    $sm.linear_solver.b = $sm.eqs\n",
    "    corr =solve($sm.linear_solver)\n",
    "end"
   ]
  },
  {
   "cell_type": "code",
   "execution_count": 10,
   "id": "67106858",
   "metadata": {},
   "outputs": [
    {
     "data": {
      "text/plain": [
       "BenchmarkTools.Trial: 10000 samples with 5 evaluations.\n",
       " Range \u001b[90m(\u001b[39m\u001b[36m\u001b[1mmin\u001b[22m\u001b[39m … \u001b[35mmax\u001b[39m\u001b[90m):  \u001b[39m\u001b[36m\u001b[1m6.832 μs\u001b[22m\u001b[39m … \u001b[35m809.788 μs\u001b[39m  \u001b[90m┊\u001b[39m GC \u001b[90m(\u001b[39mmin … max\u001b[90m): \u001b[39m 0.00% … 96.94%\n",
       " Time  \u001b[90m(\u001b[39m\u001b[34m\u001b[1mmedian\u001b[22m\u001b[39m\u001b[90m):     \u001b[39m\u001b[34m\u001b[1m7.485 μs               \u001b[22m\u001b[39m\u001b[90m┊\u001b[39m GC \u001b[90m(\u001b[39mmedian\u001b[90m):    \u001b[39m 0.00%\n",
       " Time  \u001b[90m(\u001b[39m\u001b[32m\u001b[1mmean\u001b[22m\u001b[39m ± \u001b[32mσ\u001b[39m\u001b[90m):   \u001b[39m\u001b[32m\u001b[1m9.995 μs\u001b[22m\u001b[39m ± \u001b[32m 29.283 μs\u001b[39m  \u001b[90m┊\u001b[39m GC \u001b[90m(\u001b[39mmean ± σ\u001b[90m):  \u001b[39m14.55% ±  5.02%\n",
       "\n",
       "  \u001b[39m▃\u001b[39m▇\u001b[39m█\u001b[34m▇\u001b[39m\u001b[39m▅\u001b[39m▄\u001b[39m▄\u001b[39m▄\u001b[39m▃\u001b[39m▃\u001b[39m▃\u001b[39m▂\u001b[39m▂\u001b[39m▂\u001b[39m▂\u001b[39m▂\u001b[39m▁\u001b[32m▁\u001b[39m\u001b[39m▂\u001b[39m▂\u001b[39m▂\u001b[39m▂\u001b[39m▁\u001b[39m▁\u001b[39m▁\u001b[39m▁\u001b[39m▁\u001b[39m▁\u001b[39m▁\u001b[39m▁\u001b[39m \u001b[39m▁\u001b[39m \u001b[39m \u001b[39m▁\u001b[39m \u001b[39m \u001b[39m \u001b[39m \u001b[39m \u001b[39m \u001b[39m \u001b[39m \u001b[39m \u001b[39m \u001b[39m \u001b[39m \u001b[39m \u001b[39m \u001b[39m \u001b[39m \u001b[39m \u001b[39m \u001b[39m \u001b[39m \u001b[39m \u001b[39m \u001b[39m \u001b[39m \u001b[39m \u001b[39m▂\n",
       "  \u001b[39m█\u001b[39m█\u001b[39m█\u001b[34m█\u001b[39m\u001b[39m█\u001b[39m█\u001b[39m█\u001b[39m█\u001b[39m█\u001b[39m█\u001b[39m█\u001b[39m█\u001b[39m█\u001b[39m█\u001b[39m█\u001b[39m█\u001b[39m█\u001b[32m█\u001b[39m\u001b[39m█\u001b[39m█\u001b[39m█\u001b[39m█\u001b[39m█\u001b[39m█\u001b[39m█\u001b[39m█\u001b[39m█\u001b[39m█\u001b[39m█\u001b[39m█\u001b[39m█\u001b[39m█\u001b[39m▇\u001b[39m█\u001b[39m█\u001b[39m█\u001b[39m█\u001b[39m▇\u001b[39m█\u001b[39m█\u001b[39m▇\u001b[39m█\u001b[39m▆\u001b[39m▇\u001b[39m█\u001b[39m▆\u001b[39m▆\u001b[39m▅\u001b[39m▆\u001b[39m▅\u001b[39m▅\u001b[39m▅\u001b[39m▄\u001b[39m▄\u001b[39m▅\u001b[39m▆\u001b[39m▄\u001b[39m▄\u001b[39m▃\u001b[39m \u001b[39m█\n",
       "  6.83 μs\u001b[90m      \u001b[39m\u001b[90mHistogram: \u001b[39m\u001b[90m\u001b[1mlog(\u001b[22m\u001b[39m\u001b[90mfrequency\u001b[39m\u001b[90m\u001b[1m)\u001b[22m\u001b[39m\u001b[90m by time\u001b[39m      17.9 μs \u001b[0m\u001b[1m<\u001b[22m\n",
       "\n",
       " Memory estimate\u001b[90m: \u001b[39m\u001b[33m25.28 KiB\u001b[39m, allocs estimate\u001b[90m: \u001b[39m\u001b[33m211\u001b[39m."
      ]
     },
     "metadata": {},
     "output_type": "display_data"
    }
   ],
   "source": [
    "@benchmark StellarEvolution.eval_jacobian_row!(sm,1)"
   ]
  },
  {
   "cell_type": "code",
   "execution_count": 11,
   "id": "9f07653c",
   "metadata": {},
   "outputs": [
    {
     "data": {
      "text/plain": [
       "BenchmarkTools.Trial: 408 samples with 1 evaluation.\n",
       " Range \u001b[90m(\u001b[39m\u001b[36m\u001b[1mmin\u001b[22m\u001b[39m … \u001b[35mmax\u001b[39m\u001b[90m):  \u001b[39m\u001b[36m\u001b[1m 3.302 ms\u001b[22m\u001b[39m … \u001b[35m54.430 ms\u001b[39m  \u001b[90m┊\u001b[39m GC \u001b[90m(\u001b[39mmin … max\u001b[90m): \u001b[39m 0.00% … 82.73%\n",
       " Time  \u001b[90m(\u001b[39m\u001b[34m\u001b[1mmedian\u001b[22m\u001b[39m\u001b[90m):     \u001b[39m\u001b[34m\u001b[1m 7.481 ms              \u001b[22m\u001b[39m\u001b[90m┊\u001b[39m GC \u001b[90m(\u001b[39mmedian\u001b[90m):    \u001b[39m 0.00%\n",
       " Time  \u001b[90m(\u001b[39m\u001b[32m\u001b[1mmean\u001b[22m\u001b[39m ± \u001b[32mσ\u001b[39m\u001b[90m):   \u001b[39m\u001b[32m\u001b[1m12.229 ms\u001b[22m\u001b[39m ± \u001b[32m14.453 ms\u001b[39m  \u001b[90m┊\u001b[39m GC \u001b[90m(\u001b[39mmean ± σ\u001b[90m):  \u001b[39m44.12% ± 28.61%\n",
       "\n",
       "  \u001b[39m \u001b[39m▃\u001b[39m▅\u001b[39m▅\u001b[39m▆\u001b[34m█\u001b[39m\u001b[39m \u001b[39m \u001b[39m \u001b[39m \u001b[39m \u001b[32m \u001b[39m\u001b[39m \u001b[39m \u001b[39m \u001b[39m \u001b[39m \u001b[39m \u001b[39m \u001b[39m \u001b[39m \u001b[39m \u001b[39m \u001b[39m \u001b[39m \u001b[39m \u001b[39m \u001b[39m \u001b[39m \u001b[39m \u001b[39m \u001b[39m \u001b[39m \u001b[39m \u001b[39m \u001b[39m \u001b[39m \u001b[39m \u001b[39m \u001b[39m \u001b[39m \u001b[39m \u001b[39m \u001b[39m \u001b[39m \u001b[39m \u001b[39m \u001b[39m \u001b[39m \u001b[39m \u001b[39m \u001b[39m \u001b[39m \u001b[39m \u001b[39m \u001b[39m \u001b[39m▂\u001b[39m \u001b[39m▁\u001b[39m \u001b[39m \n",
       "  \u001b[39m▆\u001b[39m█\u001b[39m█\u001b[39m█\u001b[39m█\u001b[34m█\u001b[39m\u001b[39m▇\u001b[39m▁\u001b[39m▁\u001b[39m▁\u001b[39m▁\u001b[32m▁\u001b[39m\u001b[39m▁\u001b[39m▁\u001b[39m▁\u001b[39m▁\u001b[39m▁\u001b[39m▁\u001b[39m▁\u001b[39m▁\u001b[39m▁\u001b[39m▁\u001b[39m▁\u001b[39m▁\u001b[39m▁\u001b[39m▁\u001b[39m▁\u001b[39m▁\u001b[39m▁\u001b[39m▁\u001b[39m▁\u001b[39m▁\u001b[39m▁\u001b[39m▁\u001b[39m▁\u001b[39m▁\u001b[39m▁\u001b[39m▁\u001b[39m▁\u001b[39m▁\u001b[39m▁\u001b[39m▁\u001b[39m▁\u001b[39m▁\u001b[39m▁\u001b[39m▄\u001b[39m▁\u001b[39m▄\u001b[39m▁\u001b[39m▁\u001b[39m▄\u001b[39m▄\u001b[39m▁\u001b[39m▄\u001b[39m▇\u001b[39m▇\u001b[39m█\u001b[39m█\u001b[39m█\u001b[39m \u001b[39m▇\n",
       "  3.3 ms\u001b[90m       \u001b[39m\u001b[90mHistogram: \u001b[39m\u001b[90m\u001b[1mlog(\u001b[22m\u001b[39m\u001b[90mfrequency\u001b[39m\u001b[90m\u001b[1m)\u001b[22m\u001b[39m\u001b[90m by time\u001b[39m      53.3 ms \u001b[0m\u001b[1m<\u001b[22m\n",
       "\n",
       " Memory estimate\u001b[90m: \u001b[39m\u001b[33m41.93 MiB\u001b[39m, allocs estimate\u001b[90m: \u001b[39m\u001b[33m456470\u001b[39m."
      ]
     },
     "metadata": {},
     "output_type": "display_data"
    }
   ],
   "source": [
    "@benchmark StellarEvolution.eval_jacobian!(sm)"
   ]
  },
  {
   "cell_type": "code",
   "execution_count": 12,
   "id": "da4e3795",
   "metadata": {},
   "outputs": [
    {
     "name": "stdout",
     "output_type": "stream",
     "text": [
      "Found first model\n",
      "(sm.model_number, i, real_max_corr, maximum(sm.eqs), dt_next / SECYEAR, sm.time / SECYEAR) = (0, 23, 5.668116017630781e-15, 3.3239189178857487e-11, 100.0, 0.0)\n"
     ]
    },
    {
     "name": "stdout",
     "output_type": "stream",
     "text": [
      "(sm.model_number, i, real_max_corr, maximum(sm.eqs), dt_next / SECYEAR, sm.time / SECYEAR) = (100, 4, 3.822181048178233e-14, 5.229132682416093e-10, 1.8460308816717623, 191.1320792131118)\n"
     ]
    },
    {
     "name": "stdout",
     "output_type": "stream",
     "text": [
      "(sm.model_number, i, real_max_corr, maximum(sm.eqs), dt_next / SECYEAR, sm.time / SECYEAR) = (200, 4, 5.299919063308831e-15, 2.78118861274379e-10, 34.06429425190625, 1130.5111124224725)\n"
     ]
    },
    {
     "name": "stdout",
     "output_type": "stream",
     "text": [
      "(sm.model_number, i, real_max_corr, maximum(sm.eqs), dt_next / SECYEAR, sm.time / SECYEAR) = (300, 4, 2.0422620089148364e-14, 1.0342350309500148e-9, 206.54389338429218, 17528.679584941612)\n"
     ]
    },
    {
     "name": "stdout",
     "output_type": "stream",
     "text": [
      "(sm.model_number, i, real_max_corr, maximum(sm.eqs), dt_next / SECYEAR, sm.time / SECYEAR) = (400, 4, 1.677436303770666e-14, 5.191509444557596e-10, 334.5584517574762, 43657.1010001367)\n"
     ]
    },
    {
     "name": "stdout",
     "output_type": "stream",
     "text": [
      "(sm.model_number, i, real_max_corr, maximum(sm.eqs), dt_next / SECYEAR, sm.time / SECYEAR) = (500, 4, 2.557135431464485e-14, 7.631574261424134e-10, 600.2130507089722, 88625.88654833642)\n"
     ]
    },
    {
     "name": "stdout",
     "output_type": "stream",
     "text": [
      "(sm.model_number, i, real_max_corr, maximum(sm.eqs), dt_next / SECYEAR, sm.time / SECYEAR) = (600, 4, 1.1813425150004618e-13, 6.450788792022877e-10, 1275.770488367888, 175733.7169121897)\n"
     ]
    },
    {
     "name": "stdout",
     "output_type": "stream",
     "text": [
      "(sm.model_number, i, real_max_corr, maximum(sm.eqs), dt_next / SECYEAR, sm.time / SECYEAR) = (700, 5, 2.570060386247916e-15, 1.1575109759576208e-9, 7711.288568881714, 456755.63799255673)\n"
     ]
    },
    {
     "name": "stdout",
     "output_type": "stream",
     "text": [
      "(sm.model_number, i, real_max_corr, maximum(sm.eqs), dt_next / SECYEAR, sm.time / SECYEAR) = (800, 7, 1.239737101981552e-14, 3.910437140763889e-9, 1.2731470403109617e6, 4.744484608180571e9)\n",
      "Reached maximum central temperature\n"
     ]
    }
   ],
   "source": [
    "StellarEvolution.set_options!(sm.opt, \"example_options.toml\")\n",
    "\n",
    "n1_polytrope_initial_condition(sm, MSUN, 100*RSUN)\n",
    "set_end_step_info(sm)\n",
    "\n",
    "#be sure to have sensible termination conditions or this will go forever!\n",
    "while true\n",
    "    dt_next = get_dt_next(sm)\n",
    "\n",
    "    cycle_step_info(sm)\n",
    "    set_start_step_info(sm)\n",
    "\n",
    "    sm.ssi.dt = dt_next\n",
    "    sm.dt = dt_next\n",
    "\n",
    "    max_steps = sm.opt.solver.newton_max_iter\n",
    "    if (sm.model_number==0)\n",
    "        max_steps = sm.opt.solver.newton_max_iter_first_step\n",
    "    end\n",
    "\n",
    "    exit_evolution = false\n",
    "    for i in 1:max_steps\n",
    "        StellarEvolution.eval_jacobian!(sm)\n",
    "        StellarEvolution.eval_eqs!(sm)\n",
    "        \n",
    "        sm.linear_solver.A = sm.jac\n",
    "        sm.linear_solver.b = -sm.eqs\n",
    "        corr =solve(sm.linear_solver)\n",
    "\n",
    "        real_max_corr = maximum(corr)\n",
    "        \n",
    "        # scale surface correction to prevent negative surface luminosity\n",
    "        # if correction will produce negative L, scale it so L is halved\n",
    "        corr_lum_surf = corr[sm.nvars*(sm.nz-1)+sm.vari[:lum]]\n",
    "        lum_surf = sm.ind_vars[sm.nvars*(sm.nz-1)+sm.vari[:lum]]\n",
    "        if lum_surf + corr_lum_surf < 0.0\n",
    "            corr = corr*(-0.1*lum_surf/corr_lum_surf)\n",
    "        end\n",
    "\n",
    "        #scale correction\n",
    "        if sm.model_number==0\n",
    "            corr = corr*min(1,3/maximum(corr))\n",
    "        else\n",
    "            corr = corr*min(1,0.5/maximum(corr))\n",
    "        end\n",
    "        if i%50==0\n",
    "            @show i, maximum(corr), real_max_corr, maximum(sm.eqs)\n",
    "        end\n",
    "        # first try applying correction and see if it would give negative luminosity\n",
    "        sm.ind_vars = sm.ind_vars+corr\n",
    "        if real_max_corr<1e-10\n",
    "            if sm.model_number==0\n",
    "                println(\"Found first model\")\n",
    "            end\n",
    "            if sm.model_number%100==0\n",
    "                @show sm.model_number, i, real_max_corr, maximum(sm.eqs), dt_next/SECYEAR, sm.time/SECYEAR\n",
    "            end\n",
    "            break\n",
    "        end\n",
    "        if i == max_steps\n",
    "            exit_evolution = true\n",
    "        end\n",
    "    end\n",
    "\n",
    "    if (exit_evolution)\n",
    "        println(\"Failed to converge, retry\")\n",
    "        break\n",
    "    end\n",
    "\n",
    "    sm.time = sm.time + sm.ssi.dt\n",
    "    sm.model_number = sm.model_number + 1\n",
    "\n",
    "    set_end_step_info(sm)\n",
    "\n",
    "    #check termination conditions\n",
    "    if (sm.model_number > sm.opt.termination.max_model_number)\n",
    "        println(\"Reached maximum model number\")\n",
    "        break\n",
    "    end\n",
    "    if (exp(sm.esi.lnT[1]) > sm.opt.termination.max_center_T)\n",
    "        println(\"Reached maximum central temperature\")\n",
    "        break\n",
    "    end\n",
    "end"
   ]
  },
  {
   "cell_type": "code",
   "execution_count": 13,
   "id": "801cef39",
   "metadata": {},
   "outputs": [
    {
     "name": "stdout",
     "output_type": "stream",
     "text": [
      "exp(sm.esi.lnT[1]) = 2.203020009533618e7\n"
     ]
    },
    {
     "data": {
      "text/plain": [
       "2.203020009533618e7"
      ]
     },
     "metadata": {},
     "output_type": "display_data"
    }
   ],
   "source": [
    "@show exp(sm.esi.lnT[1])"
   ]
  },
  {
   "cell_type": "code",
   "execution_count": 16,
   "id": "6ddc601f",
   "metadata": {},
   "outputs": [
    {
     "data": {
      "image/png": "[encoded data removed]"
     },
     "metadata": {},
     "output_type": "display_data"
    }
   ],
   "source": [
    "ρprofile = zeros(sm.nz)\n",
    "for i in 1:sm.nz\n",
    "    eos_result = get_EOS_resultsTP(sm.eos, sm.isotope_data,\n",
    "    sm.ind_vars[(i-1)*sm.nvars+sm.vari[:lnT]], sm.ind_vars[(i-1)*sm.nvars+sm.vari[:lnP]], [1.0], [:H1])\n",
    "    ρprofile[i] = eos_result[1]\n",
    "end\n",
    "\n",
    "using CairoMakie\n",
    "f = Figure()\n",
    "ax = Axis(f[1,1])\n",
    "lines!(ax, log.(ρprofile), [sm.ind_vars[(i-1)*sm.nvars+sm.vari[:lnP]] for i in 1:sm.nz], label=\"real profile\")\n",
    "xvals = LinRange(-20,2,100)\n",
    "lines!(ax,xvals,(1+1/1) .* xvals .+ 40, label=\"n=1\")\n",
    "lines!(ax,xvals,(1+1/(1.5)) .* xvals .+ 35, label=\"n=1.5\")\n",
    "lines!(ax,xvals,(1+1/3) .* xvals .+ 35, label=\"n=3\")\n",
    "axislegend(ax, position=:rb)\n",
    "f"
   ]
  },
  {
   "cell_type": "code",
   "execution_count": 17,
   "id": "63106580",
   "metadata": {},
   "outputs": [
    {
     "data": {
      "image/png": "[encoded data removed]"
     },
     "metadata": {},
     "output_type": "display_data"
    }
   ],
   "source": [
    "using CairoMakie\n",
    "f = Figure()\n",
    "ax = Axis(f[1,1])\n",
    "lines!(ax, m_face/MSUN, ([sm.ind_vars[(i-1)*sm.nvars+sm.vari[:H1]] for i in 1:sm.nz]))\n",
    "f"
   ]
  },
  {
   "cell_type": "code",
   "execution_count": 16,
   "id": "cc589f8a",
   "metadata": {},
   "outputs": [
    {
     "data": {
      "image/png": "[encoded data removed]"
     },
     "metadata": {},
     "output_type": "display_data"
    }
   ],
   "source": [
    "ρcenter = zeros(nsteps)\n",
    "for i in 1:nsteps\n",
    "    eos_result = get_EOS_resultsTP(sm.eos, sm.isotope_data,\n",
    "        log(Tcenter[i]), log(Pcenter[i]), [1.0], [:H1])\n",
    "    ρcenter[i] = eos_result[1]\n",
    "end\n",
    "\n",
    "using CairoMakie\n",
    "using LaTeXStrings\n",
    "\n",
    "f = Figure()\n",
    "ax = Axis(f[1,1], xlabel=\"\")\n",
    "xvals = collect(LinRange(0,1,1000))\n",
    "mass = xvals .* MSUN\n",
    "#lines!(ax, xvals, P_const_ρ(mass,1,MSUN))\n",
    "#lines!(ax, times, Pcenter)\n",
    "lines!(ax, log10.(ρcenter), log10.(Tcenter))\n",
    "lines!(ax, log10.(ρcenter), log10.(ρcenter)./3 .+ 6.4)\n",
    "#lines!(ax, 1:10000, Lsurf)\n",
    "#xlims!(ax,930,940)\n",
    "f"
   ]
  },
  {
   "cell_type": "code",
   "execution_count": 17,
   "id": "ae2c07fe",
   "metadata": {},
   "outputs": [
    {
     "data": {
      "image/png": "[encoded data removed]"
     },
     "metadata": {},
     "output_type": "display_data"
    }
   ],
   "source": [
    "f = Figure()\n",
    "ax = Axis(f[1,1], xlabel=\"\")\n",
    "xvals = collect(LinRange(0,1,1000))\n",
    "mass = xvals .* MSUN\n",
    "#lines!(ax, xvals, P_const_ρ(mass,1,MSUN))\n",
    "#lines!(ax, times, Pcenter)\n",
    "lines!(ax, times, log10.(Rsurf/RSUN)) # not contracting right now?\n",
    "#lines!(ax, 1:10000, Lsurf)\n",
    "#xlims!(ax,930,940)\n",
    "f"
   ]
  },
  {
   "cell_type": "code",
   "execution_count": 18,
   "id": "d6931d2b",
   "metadata": {},
   "outputs": [
    {
     "ename": "ArgumentError",
     "evalue": "ArgumentError: Package HDF5 not found in current path.\n- Run `import Pkg; Pkg.add(\"HDF5\")` to install the HDF5 package.",
     "output_type": "error",
     "traceback": [
      "ArgumentError: Package HDF5 not found in current path.\n",
      "- Run `import Pkg; Pkg.add(\"HDF5\")` to install the HDF5 package.\n",
      "\n",
      "Stacktrace:\n",
      "  [1] macro expansion\n",
      "    @ ./loading.jl:1595 [inlined]\n",
      "  [2] macro expansion\n",
      "    @ ./lock.jl:267 [inlined]\n",
      "  [3] require(into::Module, mod::Symbol)\n",
      "    @ Base ./loading.jl:1576\n",
      "  [4] eval\n",
      "    @ ./boot.jl:370 [inlined]\n",
      "  [5] include_string(mapexpr::typeof(REPL.softscope), mod::Module, code::String, filename::String)\n",
      "    @ Base ./loading.jl:1864\n",
      "  [6] #invokelatest#2\n",
      "    @ ./essentials.jl:816 [inlined]\n",
      "  [7] invokelatest\n",
      "    @ ./essentials.jl:813 [inlined]\n",
      "  [8] (::VSCodeServer.var\"#198#199\"{VSCodeServer.NotebookRunCellArguments, String})()\n",
      "    @ VSCodeServer ~/.var/app/com.visualstudio.code/data/vscode/extensions/julialang.language-julia-1.47.2/scripts/packages/VSCodeServer/src/serve_notebook.jl:19\n",
      "  [9] withpath(f::VSCodeServer.var\"#198#199\"{VSCodeServer.NotebookRunCellArguments, String}, path::String)\n",
      "    @ VSCodeServer ~/.var/app/com.visualstudio.code/data/vscode/extensions/julialang.language-julia-1.47.2/scripts/packages/VSCodeServer/src/repl.jl:249\n",
      " [10] notebook_runcell_request(conn::VSCodeServer.JSONRPC.JSONRPCEndpoint{Base.PipeEndpoint, Base.PipeEndpoint}, params::VSCodeServer.NotebookRunCellArguments)\n",
      "    @ VSCodeServer ~/.var/app/com.visualstudio.code/data/vscode/extensions/julialang.language-julia-1.47.2/scripts/packages/VSCodeServer/src/serve_notebook.jl:13\n",
      " [11] dispatch_msg(x::VSCodeServer.JSONRPC.JSONRPCEndpoint{Base.PipeEndpoint, Base.PipeEndpoint}, dispatcher::VSCodeServer.JSONRPC.MsgDispatcher, msg::Dict{String, Any})\n",
      "    @ VSCodeServer.JSONRPC ~/.var/app/com.visualstudio.code/data/vscode/extensions/julialang.language-julia-1.47.2/scripts/packages/JSONRPC/src/typed.jl:67\n",
      " [12] serve_notebook(pipename::String, outputchannel_logger::Base.CoreLogging.SimpleLogger; crashreporting_pipename::String)\n",
      "    @ VSCodeServer ~/.var/app/com.visualstudio.code/data/vscode/extensions/julialang.language-julia-1.47.2/scripts/packages/VSCodeServer/src/serve_notebook.jl:139\n",
      " [13] top-level scope\n",
      "    @ ~/.var/app/com.visualstudio.code/data/vscode/extensions/julialang.language-julia-1.47.2/scripts/notebook/notebook.jl:32"
     ]
    }
   ],
   "source": [
    "using HDF5"
   ]
  },
  {
   "cell_type": "code",
   "execution_count": 21,
   "id": "3b70e426",
   "metadata": {},
   "outputs": [
    {
     "data": {
      "text/plain": [
       "🗂️ HDF5.File: (read-write) example_output.hdf5"
      ]
     },
     "metadata": {},
     "output_type": "display_data"
    }
   ],
   "source": [
    "using HDF5\n",
    "fid = h5open(\"example_output.hdf5\", \"w\")"
   ]
  },
  {
   "cell_type": "code",
   "execution_count": 22,
   "id": "d453fb89",
   "metadata": {},
   "outputs": [
    {
     "data": {
      "text/plain": [
       "0×0 Matrix{Float64}"
      ]
     },
     "metadata": {},
     "output_type": "display_data"
    }
   ],
   "source": [
    "fid[\"zero_matrix\"] = zeros(0, 0)"
   ]
  },
  {
   "cell_type": "code",
   "execution_count": 23,
   "id": "c8f8d78b",
   "metadata": {},
   "outputs": [
    {
     "data": {
      "text/plain": [
       "HDF5.Dataset"
      ]
     },
     "metadata": {},
     "output_type": "display_data"
    }
   ],
   "source": [
    "typeof(fid[\"zero_matrix\"])"
   ]
  },
  {
   "cell_type": "code",
   "execution_count": 25,
   "id": "b27dc463",
   "metadata": {},
   "outputs": [
    {
     "data": {
      "text/plain": [
       "3×5 Matrix{Float64}:\n",
       " 1.0  1.0  1.0  1.0  1.0\n",
       " 1.0  1.0  1.0  1.0  1.0\n",
       " 1.0  1.0  1.0  1.0  1.0"
      ]
     },
     "metadata": {},
     "output_type": "display_data"
    }
   ],
   "source": [
    "fid[\"matrix\"] = ones(3, 5)"
   ]
  },
  {
   "cell_type": "code",
   "execution_count": 29,
   "id": "377f28cf",
   "metadata": {},
   "outputs": [
    {
     "data": {
      "text/plain": [
       "3×5 Matrix{Float64}:\n",
       " 1.0  1.0  1.0  1.0  1.0\n",
       " 1.0  1.0  1.0  1.0  1.0\n",
       " 1.0  1.0  1.0  1.0  1.0"
      ]
     },
     "metadata": {},
     "output_type": "display_data"
    }
   ],
   "source": [
    "fid[\"matrix\"][1:end,1:end]"
   ]
  },
  {
   "cell_type": "code",
   "execution_count": 30,
   "id": "76a1237c",
   "metadata": {},
   "outputs": [
    {
     "ename": "UndefVarError",
     "evalue": "UndefVarError: `setsize` not defined",
     "output_type": "error",
     "traceback": [
      "UndefVarError: `setsize` not defined\n",
      "\n",
      "Stacktrace:\n",
      " [1] top-level scope\n",
      "   @ ~/work/code/Medusa.jl/tests/NuclearBurning.ipynb:14"
     ]
    }
   ],
   "source": [
    "using HDF5\n",
    "\n",
    "# Open the HDF5 file in \"r+\" mode to enable read and write operations\n",
    "fid = h5open(\"example_output.hdf5\", \"r+\")\n",
    "\n",
    "# Read the current dataset into a variable\n",
    "current_matrix = read(fid[\"matrix\"])\n",
    "\n",
    "# Create a new row (in this example, we are adding a row of ones)\n",
    "new_row = ones(1, size(current_matrix, 2))\n",
    "\n",
    "# Resize the dataset to accommodate the new row\n",
    "new_rows_count = size(current_matrix, 1) + size(new_row, 1)\n",
    "setsize(fid[\"matrix\"], (new_rows_count, size(current_matrix, 2)))\n",
    "\n",
    "# Assign the new row to the dataset\n",
    "current_matrix[end + 1, :] = new_row\n",
    "\n",
    "# Write the updated matrix back to the dataset\n",
    "write(fid[\"matrix\"], current_matrix)\n",
    "\n",
    "# Close the HDF5 file\n",
    "close(fid)"
   ]
  },
  {
   "cell_type": "code",
   "execution_count": 31,
   "id": "561cba8c",
   "metadata": {},
   "outputs": [
    {
     "ename": "UndefVarError",
     "evalue": "UndefVarError: `extend` not defined",
     "output_type": "error",
     "traceback": [
      "UndefVarError: `extend` not defined\n",
      "\n",
      "Stacktrace:\n",
      " [1] top-level scope\n",
      "   @ ~/work/code/Medusa.jl/tests/NuclearBurning.ipynb:13"
     ]
    }
   ],
   "source": [
    "using HDF5\n",
    "\n",
    "# Open the HDF5 file in \"r+\" mode to enable read and write operations\n",
    "fid = h5open(\"example_output.hdf5\", \"r+\")\n",
    "\n",
    "# Read the current dataset into a variable\n",
    "current_matrix = read(fid[\"matrix\"])\n",
    "\n",
    "# Create a new row (in this example, we are adding a row of ones)\n",
    "new_row = ones(1, size(current_matrix, 2))\n",
    "\n",
    "# Extend the dataset with the new row using ChunkedArray\n",
    "extend(fid[\"matrix\"], size(current_matrix, 1) + 1, size(current_matrix, 2))\n",
    "\n",
    "# Append the new row to the dataset\n",
    "write(fid[\"matrix\"], new_row, size(current_matrix, 1) + 1)\n",
    "\n",
    "# Close the HDF5 file\n",
    "close(fid)"
   ]
  },
  {
   "cell_type": "code",
   "execution_count": 70,
   "id": "dde8e4eb",
   "metadata": {},
   "outputs": [
    {
     "name": "stdout",
     "output_type": "stream",
     "text": [
      "   1.000000e+00\n",
      "15\n"
     ]
    }
   ],
   "source": [
    "using Printf\n",
    "\n",
    "x = 1\n",
    "significant_digits = 6\n",
    "padding_spaces = 15\n",
    "\n",
    "format_string = \"%$(padding_spaces).$(significant_digits)e\"\n",
    "formatted_string = Printf.format(Printf.Format(format_string), x)\n",
    "println(formatted_string)\n",
    "println(length(formatted_string))"
   ]
  },
  {
   "cell_type": "code",
   "execution_count": 49,
   "id": "d46bb538",
   "metadata": {},
   "outputs": [
    {
     "data": {
      "text/plain": [
       "\"           34.6\""
      ]
     },
     "metadata": {},
     "output_type": "display_data"
    }
   ],
   "source": [
    "@sprintf \"%15.1f\" 34.567"
   ]
  },
  {
   "cell_type": "code",
   "execution_count": 54,
   "id": "ae2cc77b",
   "metadata": {},
   "outputs": [
    {
     "data": {
      "text/plain": [
       "\"123.456789\""
      ]
     },
     "metadata": {},
     "output_type": "display_data"
    }
   ],
   "source": [
    "@sprintf \"%10.6f\" x"
   ]
  },
  {
   "cell_type": "code",
   "execution_count": 71,
   "id": "aa46b725",
   "metadata": {},
   "outputs": [],
   "source": [
    "data = \"\"\"\n",
    "           [database]\n",
    "           server = \"192.168.1.1\"\n",
    "           ports = [ 8001,\n",
    "                     8001,\n",
    "                     8002 ]\n",
    "       \"\"\";"
   ]
  },
  {
   "cell_type": "code",
   "execution_count": 72,
   "id": "714e8250",
   "metadata": {},
   "outputs": [],
   "source": [
    "using TOML"
   ]
  },
  {
   "cell_type": "code",
   "execution_count": 77,
   "id": "12cfc5ab",
   "metadata": {},
   "outputs": [
    {
     "data": {
      "text/plain": [
       "Dict{String, Any} with 2 entries:\n",
       "  \"server\" => \"192.168.1.1\"\n",
       "  \"ports\"  => [8001, 8001, 8002]"
      ]
     },
     "metadata": {},
     "output_type": "display_data"
    }
   ],
   "source": [
    "TOML.parse(data)[\"database\"]"
   ]
  },
  {
   "cell_type": "code",
   "execution_count": 78,
   "id": "ec31f8e9",
   "metadata": {},
   "outputs": [
    {
     "name": "stdout",
     "output_type": "stream",
     "text": [
      "\"$(a)\" = \"asd\"\n"
     ]
    },
    {
     "data": {
      "text/plain": [
       "\"asd\""
      ]
     },
     "metadata": {},
     "output_type": "display_data"
    }
   ],
   "source": [
    "a=:asd\n",
    "@show \"$a\""
   ]
  },
  {
   "cell_type": "code",
   "execution_count": null,
   "id": "83943575",
   "metadata": {},
   "outputs": [],
   "source": []
  }
 ],
 "metadata": {
  "kernelspec": {
   "display_name": "Julia 1.9.0",
   "language": "julia",
   "name": "julia-1.9"
  },
  "language_info": {
   "file_extension": ".jl",
   "mimetype": "application/julia",
   "name": "julia",
   "version": "1.9.0"
  }
 },
 "nbformat": 4,
 "nbformat_minor": 5
}

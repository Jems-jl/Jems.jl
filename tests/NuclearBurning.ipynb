{
 "cells": [
  {
   "cell_type": "code",
   "execution_count": 1,
   "id": "1ebebc11",
   "metadata": {},
   "outputs": [],
   "source": [
    "using BenchmarkTools\n",
    "using StellarChem\n",
    "using StellarConstants\n",
    "using StellarEOS\n",
    "using StellarOpacity\n",
    "using StellarEvolution"
   ]
  },
  {
   "cell_type": "code",
   "execution_count": 2,
   "id": "67a989b0",
   "metadata": {},
   "outputs": [],
   "source": [
    "nvars = 6\n",
    "nspecies = 2\n",
    "varnames = [:lnP,:lnT,:lnr,:lum,:H1, :He4]\n",
    "structure_equations=[StellarEvolution.equationHSE, StellarEvolution.equationT,\n",
    "                        StellarEvolution.equationContinuity, StellarEvolution.equationLuminosity,\n",
    "                        StellarEvolution.equationH1, StellarEvolution.equationHe4]\n",
    "nz = 1000\n",
    "eos = StellarEOS.IdealEOS(false)\n",
    "opacity = StellarOpacity.SimpleElectronScatteringOpacity()\n",
    "sm = StellarModel(varnames, structure_equations, nvars, nspecies, nz, eos, opacity);"
   ]
  },
  {
   "cell_type": "code",
   "execution_count": 3,
   "id": "46d75aa3",
   "metadata": {},
   "outputs": [],
   "source": [
    "StellarEvolution.n1_polytrope_initial_condition(sm, MSUN, 100*RSUN; initial_dt=10*SECYEAR)\n",
    "\n",
    "StellarEvolution.set_end_step_info(sm)\n",
    "StellarEvolution.cycle_step_info(sm)\n",
    "StellarEvolution.set_start_step_info(sm)\n",
    "\n",
    "StellarEvolution.eval_jacobian!(sm)\n",
    "StellarEvolution.eval_eqs!(sm)"
   ]
  },
  {
   "cell_type": "code",
   "execution_count": 4,
   "id": "03c44e72",
   "metadata": {},
   "outputs": [
    {
     "data": {
      "text/plain": [
       "BenchmarkTools.Trial: 815 samples with 1 evaluation.\n",
       " Range \u001b[90m(\u001b[39m\u001b[36m\u001b[1mmin\u001b[22m\u001b[39m … \u001b[35mmax\u001b[39m\u001b[90m):  \u001b[39m\u001b[36m\u001b[1m5.321 ms\u001b[22m\u001b[39m … \u001b[35m  8.600 ms\u001b[39m  \u001b[90m┊\u001b[39m GC \u001b[90m(\u001b[39mmin … max\u001b[90m): \u001b[39m0.00% … 21.92%\n",
       " Time  \u001b[90m(\u001b[39m\u001b[34m\u001b[1mmedian\u001b[22m\u001b[39m\u001b[90m):     \u001b[39m\u001b[34m\u001b[1m5.880 ms               \u001b[22m\u001b[39m\u001b[90m┊\u001b[39m GC \u001b[90m(\u001b[39mmedian\u001b[90m):    \u001b[39m0.00%\n",
       " Time  \u001b[90m(\u001b[39m\u001b[32m\u001b[1mmean\u001b[22m\u001b[39m ± \u001b[32mσ\u001b[39m\u001b[90m):   \u001b[39m\u001b[32m\u001b[1m6.122 ms\u001b[22m\u001b[39m ± \u001b[32m593.508 μs\u001b[39m  \u001b[90m┊\u001b[39m GC \u001b[90m(\u001b[39mmean ± σ\u001b[90m):  \u001b[39m3.65% ±  6.30%\n",
       "\n",
       "  \u001b[39m \u001b[39m \u001b[39m \u001b[39m \u001b[39m \u001b[39m \u001b[39m \u001b[39m \u001b[39m▃\u001b[39m█\u001b[39m▆\u001b[39m▅\u001b[39m█\u001b[39m▃\u001b[34m▂\u001b[39m\u001b[39m \u001b[39m▄\u001b[39m \u001b[39m \u001b[39m \u001b[39m \u001b[32m \u001b[39m\u001b[39m \u001b[39m \u001b[39m \u001b[39m \u001b[39m \u001b[39m \u001b[39m \u001b[39m \u001b[39m \u001b[39m \u001b[39m \u001b[39m \u001b[39m \u001b[39m \u001b[39m \u001b[39m \u001b[39m \u001b[39m \u001b[39m \u001b[39m \u001b[39m \u001b[39m \u001b[39m \u001b[39m \u001b[39m \u001b[39m \u001b[39m \u001b[39m \u001b[39m \u001b[39m \u001b[39m \u001b[39m \u001b[39m \u001b[39m \u001b[39m \u001b[39m \u001b[39m \u001b[39m \u001b[39m \n",
       "  \u001b[39m▂\u001b[39m▂\u001b[39m▂\u001b[39m▄\u001b[39m▃\u001b[39m▄\u001b[39m▅\u001b[39m█\u001b[39m█\u001b[39m█\u001b[39m█\u001b[39m█\u001b[39m█\u001b[39m█\u001b[34m█\u001b[39m\u001b[39m█\u001b[39m█\u001b[39m▇\u001b[39m█\u001b[39m▅\u001b[39m▅\u001b[32m▆\u001b[39m\u001b[39m▄\u001b[39m▅\u001b[39m▄\u001b[39m▃\u001b[39m▃\u001b[39m▃\u001b[39m▂\u001b[39m▃\u001b[39m▂\u001b[39m▂\u001b[39m▁\u001b[39m▂\u001b[39m▁\u001b[39m▂\u001b[39m▁\u001b[39m▁\u001b[39m▂\u001b[39m▂\u001b[39m▃\u001b[39m▄\u001b[39m▃\u001b[39m▃\u001b[39m▅\u001b[39m▄\u001b[39m▄\u001b[39m▄\u001b[39m▅\u001b[39m▅\u001b[39m▄\u001b[39m▅\u001b[39m▄\u001b[39m▃\u001b[39m▃\u001b[39m▄\u001b[39m▃\u001b[39m▃\u001b[39m▃\u001b[39m \u001b[39m▄\n",
       "  5.32 ms\u001b[90m         Histogram: frequency by time\u001b[39m         7.6 ms \u001b[0m\u001b[1m<\u001b[22m\n",
       "\n",
       " Memory estimate\u001b[90m: \u001b[39m\u001b[33m8.73 MiB\u001b[39m, allocs estimate\u001b[90m: \u001b[39m\u001b[33m41\u001b[39m."
      ]
     },
     "metadata": {},
     "output_type": "display_data"
    }
   ],
   "source": [
    "using LinearSolve\n",
    "@benchmark begin\n",
    "    $sm.linear_solver.A = $sm.jac\n",
    "    $sm.linear_solver.b = $sm.eqs\n",
    "    corr =solve($sm.linear_solver)\n",
    "end"
   ]
  },
  {
   "cell_type": "code",
   "execution_count": 5,
   "id": "67106858",
   "metadata": {},
   "outputs": [
    {
     "data": {
      "text/plain": [
       "BenchmarkTools.Trial: 10000 samples with 3 evaluations.\n",
       " Range \u001b[90m(\u001b[39m\u001b[36m\u001b[1mmin\u001b[22m\u001b[39m … \u001b[35mmax\u001b[39m\u001b[90m):  \u001b[39m\u001b[36m\u001b[1m 8.249 μs\u001b[22m\u001b[39m … \u001b[35m793.082 μs\u001b[39m  \u001b[90m┊\u001b[39m GC \u001b[90m(\u001b[39mmin … max\u001b[90m): \u001b[39m 0.00% … 94.55%\n",
       " Time  \u001b[90m(\u001b[39m\u001b[34m\u001b[1mmedian\u001b[22m\u001b[39m\u001b[90m):     \u001b[39m\u001b[34m\u001b[1m 8.980 μs               \u001b[22m\u001b[39m\u001b[90m┊\u001b[39m GC \u001b[90m(\u001b[39mmedian\u001b[90m):    \u001b[39m 0.00%\n",
       " Time  \u001b[90m(\u001b[39m\u001b[32m\u001b[1mmean\u001b[22m\u001b[39m ± \u001b[32mσ\u001b[39m\u001b[90m):   \u001b[39m\u001b[32m\u001b[1m10.917 μs\u001b[22m\u001b[39m ± \u001b[32m 27.959 μs\u001b[39m  \u001b[90m┊\u001b[39m GC \u001b[90m(\u001b[39mmean ± σ\u001b[90m):  \u001b[39m10.14% ±  3.92%\n",
       "\n",
       "  \u001b[39m \u001b[39m▃\u001b[39m▆\u001b[39m█\u001b[39m█\u001b[34m▇\u001b[39m\u001b[39m▅\u001b[39m▃\u001b[39m▂\u001b[39m▁\u001b[39m▁\u001b[39m \u001b[39m▁\u001b[39m▁\u001b[39m▁\u001b[39m▁\u001b[39m▁\u001b[32m \u001b[39m\u001b[39m \u001b[39m \u001b[39m \u001b[39m \u001b[39m▁\u001b[39m▁\u001b[39m▂\u001b[39m▁\u001b[39m▁\u001b[39m▁\u001b[39m▁\u001b[39m▁\u001b[39m \u001b[39m \u001b[39m \u001b[39m \u001b[39m \u001b[39m \u001b[39m \u001b[39m \u001b[39m \u001b[39m \u001b[39m \u001b[39m \u001b[39m \u001b[39m \u001b[39m \u001b[39m \u001b[39m \u001b[39m \u001b[39m \u001b[39m \u001b[39m \u001b[39m \u001b[39m \u001b[39m \u001b[39m \u001b[39m \u001b[39m \u001b[39m \u001b[39m \u001b[39m \u001b[39m \u001b[39m▂\n",
       "  \u001b[39m▅\u001b[39m█\u001b[39m█\u001b[39m█\u001b[39m█\u001b[34m█\u001b[39m\u001b[39m█\u001b[39m█\u001b[39m█\u001b[39m█\u001b[39m█\u001b[39m█\u001b[39m█\u001b[39m█\u001b[39m█\u001b[39m█\u001b[39m█\u001b[32m█\u001b[39m\u001b[39m▇\u001b[39m█\u001b[39m█\u001b[39m█\u001b[39m█\u001b[39m█\u001b[39m█\u001b[39m█\u001b[39m█\u001b[39m█\u001b[39m█\u001b[39m█\u001b[39m█\u001b[39m▇\u001b[39m█\u001b[39m█\u001b[39m▇\u001b[39m█\u001b[39m█\u001b[39m█\u001b[39m█\u001b[39m█\u001b[39m█\u001b[39m█\u001b[39m█\u001b[39m█\u001b[39m█\u001b[39m█\u001b[39m▇\u001b[39m█\u001b[39m▇\u001b[39m▆\u001b[39m▆\u001b[39m▆\u001b[39m▇\u001b[39m▆\u001b[39m▆\u001b[39m▅\u001b[39m▆\u001b[39m▆\u001b[39m▅\u001b[39m▅\u001b[39m \u001b[39m█\n",
       "  8.25 μs\u001b[90m       \u001b[39m\u001b[90mHistogram: \u001b[39m\u001b[90m\u001b[1mlog(\u001b[22m\u001b[39m\u001b[90mfrequency\u001b[39m\u001b[90m\u001b[1m)\u001b[22m\u001b[39m\u001b[90m by time\u001b[39m      17.9 μs \u001b[0m\u001b[1m<\u001b[22m\n",
       "\n",
       " Memory estimate\u001b[90m: \u001b[39m\u001b[33m25.28 KiB\u001b[39m, allocs estimate\u001b[90m: \u001b[39m\u001b[33m211\u001b[39m."
      ]
     },
     "metadata": {},
     "output_type": "display_data"
    }
   ],
   "source": [
    "@benchmark StellarEvolution.eval_jacobian_row!(sm,1)"
   ]
  },
  {
   "cell_type": "code",
   "execution_count": 6,
   "id": "9f07653c",
   "metadata": {},
   "outputs": [],
   "source": [
    "@benchmark StellarEvolution.eval_jacobian!(sm)"
   ]
  },
  {
   "cell_type": "code",
   "execution_count": 9,
   "id": "da4e3795",
   "metadata": {},
   "outputs": [
    {
     "name": "stdout",
     "output_type": "stream",
     "text": [
      "(i, maximum(corr), real_max_corr, maximum(sm.eqs)) = (50, 3.0, 4392.773678888243, 1.8479847518548578e7)\n"
     ]
    },
    {
     "name": "stdout",
     "output_type": "stream",
     "text": [
      "(i, maximum(corr), real_max_corr, maximum(sm.eqs)) = (100, 3.0, 4935.13025378168, 2.354658929466138e7)\n"
     ]
    },
    {
     "name": "stdout",
     "output_type": "stream",
     "text": [
      "(i, maximum(corr), real_max_corr, maximum(sm.eqs)) = (150, 3.0, 10104.68689979219, 2.3077459357511185e7)\n"
     ]
    },
    {
     "name": "stdout",
     "output_type": "stream",
     "text": [
      "(i, maximum(corr), real_max_corr, maximum(sm.eqs)) = (200, 3.0000000000000004, 12245.175949058055, 2.277531470473329e7)\n"
     ]
    },
    {
     "name": "stdout",
     "output_type": "stream",
     "text": [
      "(i, maximum(corr), real_max_corr, maximum(sm.eqs)) = (250, 2.9999999999999996, 11136.940516364819, 2.249268656630319e7)\n"
     ]
    },
    {
     "name": "stdout",
     "output_type": "stream",
     "text": [
      "(i, maximum(corr), real_max_corr, maximum(sm.eqs)) = (300, 3.0, 6820.275212923122, 2.212586574642732e7)\n"
     ]
    },
    {
     "name": "stdout",
     "output_type": "stream",
     "text": [
      "(i, maximum(corr), real_max_corr, maximum(sm.eqs)) = (350, 3.0, 957.2706920643078, 2.1124592747662887e7)\n"
     ]
    },
    {
     "name": "stdout",
     "output_type": "stream",
     "text": [
      "(i, maximum(corr), real_max_corr, maximum(sm.eqs)) = (400, 3.0, 20351.9286604963, 2.4040932635506038e7)\n"
     ]
    },
    {
     "name": "stdout",
     "output_type": "stream",
     "text": [
      "(i, maximum(corr), real_max_corr, maximum(sm.eqs)) = (450, 3.0000000000000004, 42273.693105528946, 2.7767448712074194e7)\n"
     ]
    },
    {
     "name": "stdout",
     "output_type": "stream",
     "text": [
      "(i, maximum(corr), real_max_corr, maximum(sm.eqs)) = (500, 3.0, 27468.90339177778, 3.191285728412325e7)\n"
     ]
    },
    {
     "name": "stdout",
     "output_type": "stream",
     "text": [
      "(i, maximum(corr), real_max_corr, maximum(sm.eqs)) = (550, 3.0, 66865.82417918261, 3.655314590715493e7)\n"
     ]
    },
    {
     "name": "stdout",
     "output_type": "stream",
     "text": [
      "(i, maximum(corr), real_max_corr, maximum(sm.eqs)) = (600, 2.9999999999999996, 40495.79895003151, 6.301078991450518e7)\n"
     ]
    },
    {
     "name": "stdout",
     "output_type": "stream",
     "text": [
      "(i, maximum(corr), real_max_corr, maximum(sm.eqs)) = (650, 3.0, 4.107404930463872e6, 6.312822621195552e7)\n"
     ]
    },
    {
     "name": "stdout",
     "output_type": "stream",
     "text": [
      "(i, maximum(corr), real_max_corr, maximum(sm.eqs)) = (700, 3.0, 1.4572384286825887e6, 6.3301616465796106e7)\n"
     ]
    },
    {
     "name": "stdout",
     "output_type": "stream",
     "text": [
      "(i, maximum(corr), real_max_corr, maximum(sm.eqs)) = (750, 3.0, 7.672737451751327e6, 6.346692312908995e7)\n"
     ]
    },
    {
     "name": "stdout",
     "output_type": "stream",
     "text": [
      "(i, maximum(corr), real_max_corr, maximum(sm.eqs)) = (800, 3.0, 3.518432362278031e6, 6.3630602208055675e7)\n"
     ]
    },
    {
     "name": "stdout",
     "output_type": "stream",
     "text": [
      "(i, maximum(corr), real_max_corr, maximum(sm.eqs)) = (850, 3.0, 2.7568925239477404e6, 6.378505015328043e7)\n"
     ]
    },
    {
     "name": "stdout",
     "output_type": "stream",
     "text": [
      "(i, maximum(corr), real_max_corr, maximum(sm.eqs)) = (900, 3.0, 1.785945247759834e6, 6.394438781217843e7)\n"
     ]
    },
    {
     "name": "stdout",
     "output_type": "stream",
     "text": [
      "(i, maximum(corr), real_max_corr, maximum(sm.eqs)) = (950, 3.0, 3.1929218974736664e6, 6.409527630951707e7)\n"
     ]
    },
    {
     "name": "stdout",
     "output_type": "stream",
     "text": [
      "(i, maximum(corr), real_max_corr, maximum(sm.eqs)) = (1000, 3.0, 3.0379924689693414e6, 6.424382628001423e7)\n",
      "Failed to converge, retry\n"
     ]
    }
   ],
   "source": [
    "StellarEvolution.set_options!(sm.opt, \"example_options.toml\")\n",
    "rm(sm.opt.io.hdf5_history_filename, force=true)\n",
    "rm(sm.opt.io.hdf5_profile_filename, force=true)\n",
    "StellarEvolution.n1_polytrope_initial_condition(sm, MSUN, 100*RSUN, initial_dt=10*SECYEAR)\n",
    "\n",
    "StellarEvolution.do_evolution_loop(sm)"
   ]
  },
  {
   "cell_type": "code",
   "execution_count": 10,
   "id": "6ddc601f",
   "metadata": {},
   "outputs": [
    {
     "ename": "ErrorException",
     "evalue": "unable to determine if profiles.hdf5 is accessible in the HDF5 format (file may not exist)",
     "output_type": "error",
     "traceback": [
      "unable to determine if profiles.hdf5 is accessible in the HDF5 format (file may not exist)\n",
      "\n",
      "Stacktrace:\n",
      "  [1] error(s::String)\n",
      "    @ Base ./error.jl:35\n",
      "  [2] h5open(filename::String, mode::String, fapl::HDF5.FileAccessProperties, fcpl::HDF5.FileCreateProperties; swmr::Bool)\n",
      "    @ HDF5 ~/.julia/packages/HDF5/aiZLs/src/file.jl:45\n",
      "  [3] h5open\n",
      "    @ ~/.julia/packages/HDF5/aiZLs/src/file.jl:20 [inlined]\n",
      "  [4] h5open(filename::String, mode::String; swmr::Bool, fapl::HDF5.FileAccessProperties, fcpl::HDF5.FileCreateProperties, pv::Base.Pairs{Symbol, Union{}, Tuple{}, NamedTuple{(), Tuple{}}})\n",
      "    @ HDF5 ~/.julia/packages/HDF5/aiZLs/src/file.jl:72\n",
      "  [5] h5open(filename::String, mode::String)\n",
      "    @ HDF5 ~/.julia/packages/HDF5/aiZLs/src/file.jl:60\n",
      "  [6] h5open\n",
      "    @ ~/.julia/packages/HDF5/aiZLs/src/file.jl:60 [inlined]\n",
      "  [7] #h5open#16\n",
      "    @ ~/.julia/packages/HDF5/aiZLs/src/file.jl:92 [inlined]\n",
      "  [8] h5open\n",
      "    @ ~/.julia/packages/HDF5/aiZLs/src/file.jl:91 [inlined]\n",
      "  [9] get_profile_names_from_hdf5(hdf5_filename::String)\n",
      "    @ StellarEvolution ~/work/code/Medusa.jl/StellarEvolution/src/IO.jl:163\n",
      " [10] top-level scope\n",
      "    @ ~/work/code/Medusa.jl/tests/NuclearBurning.ipynb:3"
     ]
    }
   ],
   "source": [
    "# Compare ρ-T profile with different polytropes\n",
    "\n",
    "profile_names = StellarEvolution.get_profile_names_from_hdf5(\"profiles.hdf5\")\n",
    "\n",
    "using CairoMakie, LaTeXStrings\n",
    "\n",
    "f = Figure()\n",
    "ax = Axis(f[1,1], xlabel=L\"\\log_{10}(\\mathrm{\\rho/[g\\;cm^{-3}]})\", ylabel=L\"\\log_{10}(\\mathrm{dyne]})\")\n",
    "\n",
    "pname = Observable(profile_names[1])\n",
    "\n",
    "profile = @lift(StellarEvolution.get_profile_from_hdf5(\"profiles.hdf5\", $pname))\n",
    "log10_ρ = @lift($profile[!,\"log10_ρ\"])\n",
    "log10_P = @lift($profile[!,\"log10_P\"])\n",
    "\n",
    "profile_line = lines!(ax, log10_ρ, log10_P, label=\"real profile\")\n",
    "#compare profile against some polytropes\n",
    "xvals = LinRange(-13,4,100)\n",
    "lines!(ax,xvals,(1+1/1) .* xvals .+ 20, label=\"n=1\")\n",
    "lines!(ax,xvals,(1+1/(1.5)) .* xvals .+ 15, label=\"n=1.5\")\n",
    "lines!(ax,xvals,(1+1/3) .* xvals .+ 15, label=\"n=3\")\n",
    "axislegend(ax, position=:rb)\n",
    "\n",
    "record(f, \"rho_P_evolution.mp4\", profile_names[1:end];\n",
    "        framerate = 60) do profile_name\n",
    "    pname[] = profile_name\n",
    "end\n",
    "\n",
    "f"
   ]
  },
  {
   "cell_type": "code",
   "execution_count": 11,
   "id": "63106580",
   "metadata": {},
   "outputs": [
    {
     "ename": "ErrorException",
     "evalue": "unable to determine if profiles.hdf5 is accessible in the HDF5 format (file may not exist)",
     "output_type": "error",
     "traceback": [
      "unable to determine if profiles.hdf5 is accessible in the HDF5 format (file may not exist)\n",
      "\n",
      "Stacktrace:\n",
      "  [1] error(s::String)\n",
      "    @ Base ./error.jl:35\n",
      "  [2] h5open(filename::String, mode::String, fapl::HDF5.FileAccessProperties, fcpl::HDF5.FileCreateProperties; swmr::Bool)\n",
      "    @ HDF5 ~/.julia/packages/HDF5/aiZLs/src/file.jl:45\n",
      "  [3] h5open\n",
      "    @ ~/.julia/packages/HDF5/aiZLs/src/file.jl:20 [inlined]\n",
      "  [4] h5open(filename::String, mode::String; swmr::Bool, fapl::HDF5.FileAccessProperties, fcpl::HDF5.FileCreateProperties, pv::Base.Pairs{Symbol, Union{}, Tuple{}, NamedTuple{(), Tuple{}}})\n",
      "    @ HDF5 ~/.julia/packages/HDF5/aiZLs/src/file.jl:72\n",
      "  [5] h5open(filename::String, mode::String)\n",
      "    @ HDF5 ~/.julia/packages/HDF5/aiZLs/src/file.jl:60\n",
      "  [6] h5open\n",
      "    @ ~/.julia/packages/HDF5/aiZLs/src/file.jl:60 [inlined]\n",
      "  [7] #h5open#16\n",
      "    @ ~/.julia/packages/HDF5/aiZLs/src/file.jl:92 [inlined]\n",
      "  [8] h5open\n",
      "    @ ~/.julia/packages/HDF5/aiZLs/src/file.jl:91 [inlined]\n",
      "  [9] get_profile_names_from_hdf5(hdf5_filename::String)\n",
      "    @ StellarEvolution ~/work/code/Medusa.jl/StellarEvolution/src/IO.jl:163\n",
      " [10] top-level scope\n",
      "    @ ~/work/code/Medusa.jl/tests/NuclearBurning.ipynb:3"
     ]
    }
   ],
   "source": [
    "# Check evolution of abundance\n",
    "\n",
    "profile_names = StellarEvolution.get_profile_names_from_hdf5(\"profiles.hdf5\")\n",
    "\n",
    "using CairoMakie\n",
    "\n",
    "f = Figure()\n",
    "ax = Axis(f[1,1], xlabel=L\"\\mathrm{Mass}\\;[M_\\odot]\", ylabel=L\"X\")\n",
    "\n",
    "pname = Observable(profile_names[1])\n",
    "\n",
    "profile = @lift(StellarEvolution.get_profile_from_hdf5(\"profiles.hdf5\", $pname))\n",
    "mass = @lift($profile[!,\"mass\"])\n",
    "X = @lift($profile[!,\"X\"])\n",
    "\n",
    "profile_line = lines!(ax, mass, X, label=\"real profile\")\n",
    "\n",
    "record(f, \"X_evolution.mp4\", profile_names[1:end];\n",
    "        framerate = 60) do profile_name\n",
    "    pname[] = profile_name\n",
    "end\n",
    "\n",
    "f"
   ]
  },
  {
   "cell_type": "code",
   "execution_count": 12,
   "id": "ae2c07fe",
   "metadata": {},
   "outputs": [
    {
     "ename": "UndefVarError",
     "evalue": "UndefVarError: `Figure` not defined",
     "output_type": "error",
     "traceback": [
      "UndefVarError: `Figure` not defined\n",
      "\n",
      "Stacktrace:\n",
      " [1] top-level scope\n",
      "   @ ~/work/code/Medusa.jl/tests/NuclearBurning.ipynb:1"
     ]
    }
   ],
   "source": [
    "f = Figure()\n",
    "ax = Axis(f[1,1], xlabel=L\"\\log_{10}(T_\\mathrm{eff}/[K])\", ylabel=L\"\\log_{10}(L/L_\\odot)\")\n",
    "xvals = collect(LinRange(0,1,1000))\n",
    "history = StellarEvolution.get_history_dataframe_from_hdf5(\"history.hdf5\")\n",
    "lines!(ax, log10.(history[!,\"T_surf\"]), log10.(history[!,\"L_surf\"]))\n",
    "f"
   ]
  }
 ],
 "metadata": {
  "kernelspec": {
   "display_name": "Julia 1.9.0",
   "language": "julia",
   "name": "julia-1.9"
  },
  "language_info": {
   "file_extension": ".jl",
   "mimetype": "application/julia",
   "name": "julia",
   "version": "1.9.0"
  }
 },
 "nbformat": 4,
 "nbformat_minor": 5
}

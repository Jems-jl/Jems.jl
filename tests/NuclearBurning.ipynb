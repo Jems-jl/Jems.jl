{
 "cells": [
  {
   "cell_type": "code",
   "execution_count": 3,
   "id": "1ebebc11",
   "metadata": {},
   "outputs": [],
   "source": [
    "using BenchmarkTools\n",
    "using StellarChem\n",
    "using StellarConstants\n",
    "using StellarEOS\n",
    "using StellarOpacity\n",
    "using StellarEvolution"
   ]
  },
  {
   "cell_type": "code",
   "execution_count": 4,
   "id": "e90eb3f2",
   "metadata": {},
   "outputs": [
    {
     "data": {
      "text/plain": [
       "Dict{Symbol, Isotope} with 3352 entries:\n",
       "  :Ne26  => Isotope(10, 26, \"Ne\", 26.0005)\n",
       "  :C22   => Isotope(6, 22, \"C\", 22.0575)\n",
       "  :Pr143 => Isotope(59, 143, \"Pr\", 142.911)\n",
       "  :Re163 => Isotope(75, 163, \"Re\", 162.972)\n",
       "  :Cu52  => Isotope(29, 52, \"Cu\", 51.9967)\n",
       "  :Co50  => Isotope(27, 50, \"Co\", 49.9809)\n",
       "  :Sr74  => Isotope(38, 74, \"Sr\", 73.9562)\n",
       "  :Pt188 => Isotope(78, 188, \"Pt\", 187.959)\n",
       "  :No258 => Isotope(102, 258, \"No\", 258.098)\n",
       "  :Pb210 => Isotope(82, 210, \"Pb\", 209.984)\n",
       "  :Dy148 => Isotope(66, 148, \"Dy\", 147.927)\n",
       "  :Hg200 => Isotope(80, 200, \"Hg\", 199.968)\n",
       "  :Ir182 => Isotope(77, 182, \"Ir\", 181.958)\n",
       "  :Md246 => Isotope(101, 246, \"Md\", 246.082)\n",
       "  :Lr251 => Isotope(103, 251, \"Lr\", 251.094)\n",
       "  :Cu75  => Isotope(29, 75, \"Cu\", 74.9415)\n",
       "  :Ce144 => Isotope(58, 144, \"Ce\", 143.914)\n",
       "  :Xe125 => Isotope(54, 125, \"Xe\", 124.906)\n",
       "  :Ni66  => Isotope(28, 66, \"Ni\", 65.9291)\n",
       "  ⋮      => ⋮"
      ]
     },
     "metadata": {},
     "output_type": "display_data"
    }
   ],
   "source": [
    "    isotope_list = StellarChem.get_isotope_list()"
   ]
  },
  {
   "cell_type": "code",
   "execution_count": 5,
   "id": "aa8489f8",
   "metadata": {},
   "outputs": [
    {
     "data": {
      "text/plain": [
       "equationHe4 (generic function with 1 method)"
      ]
     },
     "metadata": {},
     "output_type": "display_data"
    }
   ],
   "source": [
    "function equationHSE(sm, k, varm1::Vector{<:TT}, var00::Vector{<:TT}, varp1::Vector{<:TT},\n",
    "                            eosm1::Vector{<:TT}, eos00::Vector{<:TT}, eosp1::Vector{<:TT},\n",
    "                            κm1::TT, κ00::TT, κp1::TT)::TT where{TT<:Real}\n",
    "    if k==sm.nz\n",
    "        lnP₀ = var00[sm.vari[:lnP]]\n",
    "        r₀ = exp(var00[sm.vari[:lnr]])\n",
    "        g₀ = CGRAV*sm.mstar/r₀^2\n",
    "        return lnP₀ -log(2g₀/(3κ00)) # Eddington gray, ignoring radiation pressure term\n",
    "    end\n",
    "    lnP₊ = varp1[sm.vari[:lnP]]\n",
    "    lnP₀ = var00[sm.vari[:lnP]]\n",
    "    lnPface = (sm.dm[k]*lnP₀ + sm.dm[k+1]*lnP₊)/(sm.dm[k]+sm.dm[k+1])\n",
    "    r₀ = exp(var00[sm.vari[:lnr]])\n",
    "    dm = (sm.m[k+1]-sm.m[k])\n",
    "    \n",
    "    return (exp(lnPface)*(lnP₊ - lnP₀)/dm + CGRAV*sm.m[k]/(4π*r₀^4))/(CGRAV*sm.m[k]/(4π*r₀^4))\n",
    "end\n",
    "\n",
    "function equationT(sm, k, varm1::Vector{<:TT}, var00::Vector{<:TT}, varp1::Vector{<:TT},\n",
    "                          eosm1::Vector{<:TT}, eos00::Vector{<:TT}, eosp1::Vector{<:TT},\n",
    "                          κm1::TT, κ00::TT, κp1::TT)::TT where{TT<:Real}\n",
    "    if k==sm.nz\n",
    "        lnT₀ = var00[sm.vari[:lnT]]\n",
    "        L₀ = var00[sm.vari[:lum]]*LSUN\n",
    "        r₀ = exp(var00[sm.vari[:lnr]])\n",
    "        return lnT₀ - log(L₀/(BOLTZ_SIGMA*4π*r₀^2))/4 # Eddington gray, ignoring radiation pressure term\n",
    "    end\n",
    "    κface = exp((sm.dm[k]*log(κ00) + sm.dm[k+1]*log(κp1))/(sm.dm[k]+sm.dm[k+1]))\n",
    "    L₀ = var00[sm.vari[:lum]]*LSUN\n",
    "    r₀ = exp(var00[sm.vari[:lnr]])\n",
    "    Pface = exp((sm.dm[k]*var00[sm.vari[:lnP]] + sm.dm[k+1]*varp1[sm.vari[:lnP]])/(sm.dm[k]+sm.dm[k+1]))\n",
    "    lnT₊ = varp1[sm.vari[:lnT]]\n",
    "    lnT₀ = var00[sm.vari[:lnT]]\n",
    "    Tface = exp((sm.dm[k]*lnT₀ + sm.dm[k+1]*lnT₊)/(sm.dm[k]+sm.dm[k+1]))\n",
    "\n",
    "    ∇ᵣ = 3κface*L₀*Pface/(16π*CRAD*CLIGHT*CGRAV*sm.m[k]*Tface^4)\n",
    "    ∇ₐ = (sm.dm[k]*eos00[7] + sm.dm[k+1]*eosp1[7])/(sm.dm[k]+sm.dm[k+1])\n",
    "\n",
    "    if (∇ᵣ < ∇ₐ)\n",
    "        return (Tface*(lnT₊ - lnT₀)/sm.dm[k] + CGRAV*sm.m[k]*Tface/(4π*r₀^4*Pface)*∇ᵣ)/(CGRAV*sm.m[k]*Tface/(4π*r₀^4*Pface)) # only radiative transport\n",
    "    else\n",
    "        return (Tface*(lnT₊ - lnT₀)/sm.dm[k] + CGRAV*sm.m[k]*Tface/(4π*r₀^4*Pface)*∇ₐ)/(CGRAV*sm.m[k]*Tface/(4π*r₀^4*Pface)) # only radiative transport\n",
    "    end\n",
    "end\n",
    "\n",
    "function equationLuminosity(sm, k, varm1::Vector{<:TT}, var00::Vector{<:TT}, varp1::Vector{<:TT},\n",
    "                          eosm1::Vector{<:TT}, eos00::Vector{<:TT}, eosp1::Vector{<:TT},\n",
    "                          κm1::TT, κ00::TT, κp1::TT)::TT where{TT<:Real}\n",
    "    L₋::TT = 0 # central luminosity is zero at first cell\n",
    "    if k>1\n",
    "        L₋ = varm1[sm.vari[:lum]]*LSUN # change it if not at first cell\n",
    "    end\n",
    "    L₀ = var00[sm.vari[:lum]]*LSUN\n",
    "    ρ₀ = eos00[1]\n",
    "    cₚ = eos00[5]\n",
    "    δ = eos00[6]\n",
    "    dTdt = (exp(var00[sm.vari[:lnT]]) - exp(sm.ssi.lnT_old[k]))/sm.ssi.dt\n",
    "    dPdt = (exp(var00[sm.vari[:lnP]]) - exp(sm.ssi.lnP_old[k]))/sm.ssi.dt\n",
    "\n",
    "    ϵnuc = 0.1*var00[sm.vari[:H1]]^2*ρ₀*(exp(var00[sm.vari[:lnT]])/1e6)^4 + 0.1*var00[sm.vari[:H1]]*ρ₀*(exp(var00[sm.vari[:lnT]])/1e7)^18\n",
    "\n",
    "    return ((L₀-L₋)/sm.dm[k]-ϵnuc+cₚ*dTdt -(δ/ρ₀)*dPdt) # no nuclear reactions or neutrinos\n",
    "end\n",
    "\n",
    "function equationContinuity(sm, k, varm1::Vector{<:TT}, var00::Vector{<:TT}, varp1::Vector{<:TT},\n",
    "                                   eosm1::Vector{<:TT}, eos00::Vector{<:TT}, eosp1::Vector{<:TT},\n",
    "                                   κm1::TT, κ00::TT, κp1::TT)::TT where{TT<:Real}\n",
    "    ρ₀ = eos00[1]\n",
    "    r₀ = exp(var00[sm.vari[:lnr]])\n",
    "    r₋::TT = 0 # central radius is zero at first cell\n",
    "    if k>1\n",
    "        r₋ = exp(varm1[sm.vari[:lnr]]) # change it if not at first cell\n",
    "    end\n",
    "    \n",
    "    dm = sm.m[k] # this is only valid for k=1\n",
    "    if k>1\n",
    "        dm = dm-sm.m[k-1]\n",
    "    end\n",
    "\n",
    "    #expected_r₀ = r₋ + dm/(4π*r₋^2*ρ)\n",
    "    expected_dr³_dm = 3/(4π*ρ₀)\n",
    "    actual_dr³_dm = (r₀^3-r₋^3)/dm\n",
    "    \n",
    "    return (expected_dr³_dm - actual_dr³_dm)*ρ₀\n",
    "end\n",
    "\n",
    "#  To test performance, include 8 isotopes similar to basic.net in MESA.\n",
    "#  of course we are keeping these fixed now, but it lets us test their impact on the\n",
    "#  computation of the jacobian\n",
    "\n",
    "function equationH1(sm, k, varm1::Vector{<:TT}, var00::Vector{<:TT}, varp1::Vector{<:TT},\n",
    "                                    eosm1::Vector{<:TT}, eos00::Vector{<:TT}, eosp1::Vector{<:TT},\n",
    "                                    κm1::TT, κ00::TT, κp1::TT)::TT where{TT<:Real}\n",
    "    ρ₀ = eos00[1]\n",
    "    ϵnuc = 0.1*var00[sm.vari[:H1]]^2*ρ₀*(exp(var00[sm.vari[:lnT]])/1e6)^4 + 0.1*var00[sm.vari[:H1]]*ρ₀*(exp(var00[sm.vari[:lnT]])/1e7)^18\n",
    "    rate_per_unit_mass = 4*ϵnuc/((4*isotope_list[:H1].mass-isotope_list[:He4].mass)*AMU*CLIGHT^2)\n",
    "\n",
    "    Xi = sm.ssi.ind_vars_old[(k-1)*sm.nvars+sm.vari[:H1]]\n",
    "\n",
    "    return (var00[sm.vari[:H1]]-Xi)/sm.ssi.dt + isotope_list[:H1].mass*AMU*rate_per_unit_mass\n",
    "end\n",
    "\n",
    "function equationHe4(sm, k, varm1::Vector{<:TT}, var00::Vector{<:TT}, varp1::Vector{<:TT},\n",
    "                                    eosm1::Vector{<:TT}, eos00::Vector{<:TT}, eosp1::Vector{<:TT},\n",
    "                                    κm1::TT, κ00::TT, κp1::TT)::TT where{TT<:Real}\n",
    "    return  var00[sm.vari[:He4]] + var00[sm.vari[:H1]] - 1.0\n",
    "end"
   ]
  },
  {
   "cell_type": "code",
   "execution_count": 6,
   "id": "67a989b0",
   "metadata": {},
   "outputs": [],
   "source": [
    "nvars = 6\n",
    "nspecies = 2\n",
    "varnames = [:lnP,:lnT,:lnr,:lum,:H1, :He4]\n",
    "structure_equations=[equationHSE, equationT,\n",
    "                        equationContinuity, equationLuminosity,\n",
    "                        equationH1, equationHe4]\n",
    "nz = 1000\n",
    "eos = StellarEOS.IdealEOS(false)\n",
    "opacity = StellarOpacity.SimpleElectronScatteringOpacity()\n",
    "sm = StellarModel(varnames, structure_equations, nvars, nspecies, nz, eos, opacity);"
   ]
  },
  {
   "cell_type": "code",
   "execution_count": 7,
   "id": "7e37946f",
   "metadata": {},
   "outputs": [
    {
     "name": "stdout",
     "output_type": "stream",
     "text": [
      "(ρc, Pc) = (4.634234999138816e-6, 4.42012112236184e7)\n"
     ]
    },
    {
     "data": {
      "text/plain": [
       "1.9683338318906098e-5"
      ]
     },
     "metadata": {},
     "output_type": "display_data"
    }
   ],
   "source": [
    "# use an n=1 polytrope as initial condition, should be better than a constant density star\n",
    "using ForwardDiff\n",
    "using Roots\n",
    "\n",
    "isotope_list = StellarChem.get_isotope_list()\n",
    "\n",
    "function theta_n(xi)\n",
    "    return sin(xi)/xi\n",
    "end\n",
    "\n",
    "M = MSUN\n",
    "R = 100*RSUN\n",
    "n=1\n",
    "\n",
    "# create a profile for composition that better resolves edges\n",
    "function get_logdq(k, nz, logdq_low, logdq_high, numregion)\n",
    "    if k<numregion\n",
    "        return logdq_low+(k-1)*(logdq_high - logdq_low)/(numregion-1)\n",
    "    elseif k<nz-numregion\n",
    "        return logdq_high\n",
    "    else\n",
    "        k0 = nz-numregion\n",
    "        k1 = nz\n",
    "        return logdq_high+(logdq_low-logdq_high)*(k-k0)/(k1-k0)\n",
    "    end\n",
    "end\n",
    "logdqs = get_logdq.(1:sm.nz,sm.nz,-3.0,0.0,100)\n",
    "dqs = 10 .^ logdqs\n",
    "dqs = dqs./sum(dqs)\n",
    "dms = dqs.*M\n",
    "m_face = cumsum(dms)\n",
    "m_cell = cumsum(dms)\n",
    "#correct m_center\n",
    "for i in 1:sm.nz\n",
    "    if i==1\n",
    "        m_cell[i] = 0\n",
    "    elseif i!=sm.nz\n",
    "        m_cell[i] = m_cell[i] - 0.5*dms[i]\n",
    "    end\n",
    "end\n",
    "\n",
    "rn = R/π # ξ is defined as r/rn, where rn^2=(n+1)Pc/(4π G ρc^2)\n",
    "\n",
    "ρc = M/(4π*rn^3*(-π^2*ForwardDiff.derivative(theta_n, π)))\n",
    "Pc = 4π*CGRAV*rn^2*ρc^2/(n+1)\n",
    "\n",
    "@show ρc, Pc\n",
    "\n",
    "ξ_cell = zeros(sm.nz)\n",
    "ξ_face = zeros(sm.nz)\n",
    "function mfunc(ξ,m)\n",
    "    return m - 4π*rn^3*ρc*(-(-sin(ξ)+cos(ξ)*ξ))\n",
    "end\n",
    "\n",
    "for i in 1:sm.nz\n",
    "    if i==1\n",
    "        ξ_cell[i] = 0\n",
    "    elseif i==sm.nz\n",
    "        ξ_cell[i] = π\n",
    "    else\n",
    "        mfunc_anon = ξ->mfunc(ξ,m_cell[i])\n",
    "        ξ_cell[i] = find_zero(mfunc_anon, (0,π), Bisection())\n",
    "    end\n",
    "    if i==sm.nz\n",
    "        ξ_face[i] = π\n",
    "    else\n",
    "        mfunc_anon = ξ->mfunc(ξ,m_face[i])\n",
    "        ξ_face[i] = find_zero(mfunc_anon, (0,π), Bisection())\n",
    "    end\n",
    "end\n",
    "\n",
    "#set radii, pressure and temperature, assuming ideal gas without Prad\n",
    "for i in 1:sm.nz\n",
    "    μ = 0.5\n",
    "    XH = 1.0\n",
    "    sm.ind_vars[(i-1)*sm.nvars+sm.vari[:lnr]] = log(rn*ξ_face[i])\n",
    "    if i>1\n",
    "        P = Pc*(theta_n(ξ_cell[i]))^(n+1)\n",
    "        ρ = ρc*(theta_n(ξ_cell[i]))^(n)\n",
    "    else\n",
    "        P = Pc\n",
    "        ρ = ρc\n",
    "    end\n",
    "    sm.ind_vars[(i-1)*sm.nvars+sm.vari[:lnP]] = log(P)\n",
    "    sm.ind_vars[(i-1)*sm.nvars+sm.vari[:lnT]] = log(P*μ/(CGAS*ρ)) \n",
    "    sm.ind_vars[(i-1)*sm.nvars+sm.vari[:H1]] = 1.0\n",
    "    sm.ind_vars[(i-1)*sm.nvars+sm.vari[:He4]] = 0\n",
    "end\n",
    "\n",
    "#set m and dm\n",
    "sm.mstar = M\n",
    "sm.dm = dms\n",
    "sm.m = m_face\n",
    "\n",
    "#set luminosity \n",
    "for i in 1:sm.nz-1\n",
    "    μ = 0.5\n",
    "    Pface = Pc*(theta_n(ξ_face[i]))^(n+1)\n",
    "    ρface = ρc*(theta_n(ξ_face[i]))^(n)\n",
    "    Tface = Pface*μ/(CGAS*ρface)\n",
    "    dlnT = sm.ind_vars[(i)*sm.nvars+sm.vari[:lnT]] - sm.ind_vars[(i-1)*sm.nvars+sm.vari[:lnT]]\n",
    "    dlnP = sm.ind_vars[(i)*sm.nvars+sm.vari[:lnP]] - sm.ind_vars[(i-1)*sm.nvars+sm.vari[:lnP]]\n",
    "    κ=0.2\n",
    "    sm.ind_vars[(i-1)*sm.nvars+sm.vari[:lum]] = (dlnT/dlnP)*(16π*CRAD*CLIGHT*CGRAV*m_face[i]*Tface^4)/(3κ*Pface)/LSUN\n",
    "end\n",
    "\n",
    "#special cases, just copy values at edges\n",
    "sm.ind_vars[(sm.nz-1)*sm.nvars+sm.vari[:lnP]] = sm.ind_vars[(sm.nz-2)*sm.nvars+sm.vari[:lnP]]\n",
    "sm.ind_vars[(sm.nz-1)*sm.nvars+sm.vari[:lnT]] = sm.ind_vars[(sm.nz-2)*sm.nvars+sm.vari[:lnT]]\n",
    "sm.ind_vars[(sm.nz-1)*sm.nvars+sm.vari[:lum]] = sm.ind_vars[(sm.nz-2)*sm.nvars+sm.vari[:lum]]"
   ]
  },
  {
   "cell_type": "code",
   "execution_count": 8,
   "id": "46d75aa3",
   "metadata": {},
   "outputs": [],
   "source": [
    "sm.ssi.dt = 100*365.25*24*3600\n",
    "sm.ssi.lnT_old = zeros(sm.nz)\n",
    "sm.ssi.lnP_old = zeros(sm.nz)\n",
    "sm.ssi.ind_vars_old = zeros(sm.nz*sm.nvars)\n",
    "for i in 1:sm.nz\n",
    "    sm.ssi.lnT_old[i] = sm.ind_vars[(i-1)*sm.nvars+sm.vari[:lnT]]\n",
    "    sm.ssi.lnP_old[i] = sm.ind_vars[(i-1)*sm.nvars+sm.vari[:lnP]]\n",
    "    sm.ssi.ind_vars_old[(i-1)*sm.nvars+1:i*sm.nvars] .= sm.ind_vars[(i-1)*sm.nvars+1:i*sm.nvars]\n",
    "end\n",
    "\n",
    "StellarEvolution.eval_jacobian!(sm)\n",
    "StellarEvolution.eval_eqs!(sm)"
   ]
  },
  {
   "cell_type": "code",
   "execution_count": 9,
   "id": "994d31bd",
   "metadata": {},
   "outputs": [
    {
     "data": {
      "text/plain": [
       "u: 6000-element Vector{Float64}:\n",
       " -0.16414643926443198\n",
       "  0.038380491098563806\n",
       "  0.06997486234204543\n",
       " -0.0003905067384710364\n",
       "  2.6145232023069716e-21\n",
       " -2.6145232023069716e-21\n",
       " -0.16422439609154224\n",
       "  0.03832621387202208\n",
       "  0.06997019954324919\n",
       " -0.0008090809252980981\n",
       "  ⋮\n",
       " -2.9583244010939964e-5\n",
       "  4.72691120518367e-37\n",
       " -4.72691120518367e-37\n",
       "  1.4640694383815738\n",
       " -0.3867700556228901\n",
       " -0.08614387436523128\n",
       " -2.6790005833175068e-5\n",
       "  1.5061054442774303e-37\n",
       " -1.5061054442774303e-37"
      ]
     },
     "metadata": {},
     "output_type": "display_data"
    }
   ],
   "source": [
    "sm.linear_solver.A = sm.jac\n",
    "sm.linear_solver.b = sm.eqs\n",
    "corr =solve(sm.linear_solver)"
   ]
  },
  {
   "cell_type": "code",
   "execution_count": 10,
   "id": "03c44e72",
   "metadata": {},
   "outputs": [
    {
     "data": {
      "text/plain": [
       "BenchmarkTools.Trial: 1030 samples with 1 evaluation.\n",
       " Range \u001b[90m(\u001b[39m\u001b[36m\u001b[1mmin\u001b[22m\u001b[39m … \u001b[35mmax\u001b[39m\u001b[90m):  \u001b[39m\u001b[36m\u001b[1m4.232 ms\u001b[22m\u001b[39m … \u001b[35m  6.650 ms\u001b[39m  \u001b[90m┊\u001b[39m GC \u001b[90m(\u001b[39mmin … max\u001b[90m): \u001b[39m0.00% … 22.99%\n",
       " Time  \u001b[90m(\u001b[39m\u001b[34m\u001b[1mmedian\u001b[22m\u001b[39m\u001b[90m):     \u001b[39m\u001b[34m\u001b[1m4.590 ms               \u001b[22m\u001b[39m\u001b[90m┊\u001b[39m GC \u001b[90m(\u001b[39mmedian\u001b[90m):    \u001b[39m0.00%\n",
       " Time  \u001b[90m(\u001b[39m\u001b[32m\u001b[1mmean\u001b[22m\u001b[39m ± \u001b[32mσ\u001b[39m\u001b[90m):   \u001b[39m\u001b[32m\u001b[1m4.846 ms\u001b[22m\u001b[39m ± \u001b[32m607.564 μs\u001b[39m  \u001b[90m┊\u001b[39m GC \u001b[90m(\u001b[39mmean ± σ\u001b[90m):  \u001b[39m4.72% ±  7.77%\n",
       "\n",
       "  \u001b[39m \u001b[39m \u001b[39m▁\u001b[39m▂\u001b[39m▂\u001b[39m▄\u001b[39m▅\u001b[39m█\u001b[39m▂\u001b[34m▂\u001b[39m\u001b[39m▁\u001b[39m \u001b[39m \u001b[39m \u001b[39m \u001b[39m \u001b[32m \u001b[39m\u001b[39m \u001b[39m \u001b[39m \u001b[39m \u001b[39m \u001b[39m \u001b[39m \u001b[39m \u001b[39m \u001b[39m \u001b[39m \u001b[39m \u001b[39m \u001b[39m \u001b[39m \u001b[39m \u001b[39m \u001b[39m \u001b[39m \u001b[39m \u001b[39m \u001b[39m \u001b[39m \u001b[39m \u001b[39m \u001b[39m \u001b[39m \u001b[39m \u001b[39m \u001b[39m \u001b[39m \u001b[39m \u001b[39m \u001b[39m \u001b[39m \u001b[39m \u001b[39m \u001b[39m \u001b[39m \u001b[39m \u001b[39m \u001b[39m \u001b[39m \u001b[39m \n",
       "  \u001b[39m▄\u001b[39m█\u001b[39m█\u001b[39m█\u001b[39m█\u001b[39m█\u001b[39m█\u001b[39m█\u001b[39m█\u001b[34m█\u001b[39m\u001b[39m█\u001b[39m▇\u001b[39m█\u001b[39m▇\u001b[39m▆\u001b[39m▅\u001b[32m▅\u001b[39m\u001b[39m▄\u001b[39m▄\u001b[39m▃\u001b[39m▃\u001b[39m▂\u001b[39m▂\u001b[39m▂\u001b[39m▂\u001b[39m▂\u001b[39m▂\u001b[39m▂\u001b[39m▁\u001b[39m▁\u001b[39m▁\u001b[39m▂\u001b[39m▂\u001b[39m▂\u001b[39m▂\u001b[39m▃\u001b[39m▃\u001b[39m▃\u001b[39m▄\u001b[39m▄\u001b[39m▄\u001b[39m▃\u001b[39m▄\u001b[39m▃\u001b[39m▄\u001b[39m▃\u001b[39m▃\u001b[39m▄\u001b[39m▃\u001b[39m▂\u001b[39m▃\u001b[39m▃\u001b[39m▃\u001b[39m▂\u001b[39m▂\u001b[39m▃\u001b[39m▃\u001b[39m▂\u001b[39m▃\u001b[39m \u001b[39m▃\n",
       "  4.23 ms\u001b[90m         Histogram: frequency by time\u001b[39m        6.53 ms \u001b[0m\u001b[1m<\u001b[22m\n",
       "\n",
       " Memory estimate\u001b[90m: \u001b[39m\u001b[33m8.73 MiB\u001b[39m, allocs estimate\u001b[90m: \u001b[39m\u001b[33m41\u001b[39m."
      ]
     },
     "metadata": {},
     "output_type": "display_data"
    }
   ],
   "source": [
    "using LinearSolve\n",
    "@benchmark begin\n",
    "    $sm.linear_solver.A = $sm.jac\n",
    "    $sm.linear_solver.b = $sm.eqs\n",
    "    corr =solve($sm.linear_solver)\n",
    "end"
   ]
  },
  {
   "cell_type": "code",
   "execution_count": 11,
   "id": "67106858",
   "metadata": {},
   "outputs": [
    {
     "data": {
      "text/plain": [
       "BenchmarkTools.Trial: 10000 samples with 5 evaluations.\n",
       " Range \u001b[90m(\u001b[39m\u001b[36m\u001b[1mmin\u001b[22m\u001b[39m … \u001b[35mmax\u001b[39m\u001b[90m):  \u001b[39m\u001b[36m\u001b[1m6.462 μs\u001b[22m\u001b[39m … \u001b[35m542.645 μs\u001b[39m  \u001b[90m┊\u001b[39m GC \u001b[90m(\u001b[39mmin … max\u001b[90m): \u001b[39m 0.00% … 94.59%\n",
       " Time  \u001b[90m(\u001b[39m\u001b[34m\u001b[1mmedian\u001b[22m\u001b[39m\u001b[90m):     \u001b[39m\u001b[34m\u001b[1m6.960 μs               \u001b[22m\u001b[39m\u001b[90m┊\u001b[39m GC \u001b[90m(\u001b[39mmedian\u001b[90m):    \u001b[39m 0.00%\n",
       " Time  \u001b[90m(\u001b[39m\u001b[32m\u001b[1mmean\u001b[22m\u001b[39m ± \u001b[32mσ\u001b[39m\u001b[90m):   \u001b[39m\u001b[32m\u001b[1m8.490 μs\u001b[22m\u001b[39m ± \u001b[32m 21.409 μs\u001b[39m  \u001b[90m┊\u001b[39m GC \u001b[90m(\u001b[39mmean ± σ\u001b[90m):  \u001b[39m12.84% ±  5.04%\n",
       "\n",
       "  \u001b[39m \u001b[39m▃\u001b[39m▆\u001b[39m█\u001b[39m█\u001b[34m▇\u001b[39m\u001b[39m▆\u001b[39m▄\u001b[39m▃\u001b[39m▂\u001b[39m▁\u001b[39m▂\u001b[39m▂\u001b[39m▁\u001b[39m▁\u001b[39m▁\u001b[39m▁\u001b[39m \u001b[39m \u001b[32m \u001b[39m\u001b[39m \u001b[39m \u001b[39m \u001b[39m \u001b[39m \u001b[39m \u001b[39m \u001b[39m \u001b[39m \u001b[39m \u001b[39m \u001b[39m \u001b[39m \u001b[39m \u001b[39m \u001b[39m \u001b[39m \u001b[39m \u001b[39m \u001b[39m \u001b[39m \u001b[39m \u001b[39m \u001b[39m \u001b[39m \u001b[39m \u001b[39m \u001b[39m \u001b[39m \u001b[39m \u001b[39m \u001b[39m \u001b[39m \u001b[39m \u001b[39m \u001b[39m \u001b[39m \u001b[39m \u001b[39m \u001b[39m \u001b[39m▂\n",
       "  \u001b[39m█\u001b[39m█\u001b[39m█\u001b[39m█\u001b[39m█\u001b[34m█\u001b[39m\u001b[39m█\u001b[39m█\u001b[39m█\u001b[39m█\u001b[39m█\u001b[39m█\u001b[39m█\u001b[39m█\u001b[39m█\u001b[39m█\u001b[39m█\u001b[39m█\u001b[39m█\u001b[32m█\u001b[39m\u001b[39m█\u001b[39m█\u001b[39m█\u001b[39m█\u001b[39m█\u001b[39m█\u001b[39m█\u001b[39m▆\u001b[39m▆\u001b[39m▅\u001b[39m▅\u001b[39m▆\u001b[39m▇\u001b[39m▇\u001b[39m▆\u001b[39m▇\u001b[39m▆\u001b[39m▇\u001b[39m▆\u001b[39m▇\u001b[39m▇\u001b[39m▇\u001b[39m▆\u001b[39m▆\u001b[39m▆\u001b[39m▆\u001b[39m▇\u001b[39m▇\u001b[39m█\u001b[39m█\u001b[39m▇\u001b[39m█\u001b[39m█\u001b[39m▇\u001b[39m▇\u001b[39m▇\u001b[39m▇\u001b[39m▆\u001b[39m▆\u001b[39m \u001b[39m█\n",
       "  6.46 μs\u001b[90m      \u001b[39m\u001b[90mHistogram: \u001b[39m\u001b[90m\u001b[1mlog(\u001b[22m\u001b[39m\u001b[90mfrequency\u001b[39m\u001b[90m\u001b[1m)\u001b[22m\u001b[39m\u001b[90m by time\u001b[39m      12.8 μs \u001b[0m\u001b[1m<\u001b[22m\n",
       "\n",
       " Memory estimate\u001b[90m: \u001b[39m\u001b[33m25.28 KiB\u001b[39m, allocs estimate\u001b[90m: \u001b[39m\u001b[33m211\u001b[39m."
      ]
     },
     "metadata": {},
     "output_type": "display_data"
    }
   ],
   "source": [
    "@benchmark StellarEvolution.eval_jacobian_row!(sm,1)"
   ]
  },
  {
   "cell_type": "code",
   "execution_count": 12,
   "id": "9f07653c",
   "metadata": {},
   "outputs": [
    {
     "data": {
      "text/plain": [
       "BenchmarkTools.Trial: 644 samples with 1 evaluation.\n",
       " Range \u001b[90m(\u001b[39m\u001b[36m\u001b[1mmin\u001b[22m\u001b[39m … \u001b[35mmax\u001b[39m\u001b[90m):  \u001b[39m\u001b[36m\u001b[1m2.377 ms\u001b[22m\u001b[39m … \u001b[35m39.548 ms\u001b[39m  \u001b[90m┊\u001b[39m GC \u001b[90m(\u001b[39mmin … max\u001b[90m): \u001b[39m 0.00% … 87.32%\n",
       " Time  \u001b[90m(\u001b[39m\u001b[34m\u001b[1mmedian\u001b[22m\u001b[39m\u001b[90m):     \u001b[39m\u001b[34m\u001b[1m4.372 ms              \u001b[22m\u001b[39m\u001b[90m┊\u001b[39m GC \u001b[90m(\u001b[39mmedian\u001b[90m):    \u001b[39m 0.00%\n",
       " Time  \u001b[90m(\u001b[39m\u001b[32m\u001b[1mmean\u001b[22m\u001b[39m ± \u001b[32mσ\u001b[39m\u001b[90m):   \u001b[39m\u001b[32m\u001b[1m7.751 ms\u001b[22m\u001b[39m ± \u001b[32m 8.877 ms\u001b[39m  \u001b[90m┊\u001b[39m GC \u001b[90m(\u001b[39mmean ± σ\u001b[90m):  \u001b[39m42.85% ± 28.43%\n",
       "\n",
       "  \u001b[39m \u001b[39m \u001b[39m█\u001b[39m▅\u001b[34m \u001b[39m\u001b[39m▂\u001b[39m \u001b[39m \u001b[39m \u001b[39m \u001b[32m \u001b[39m\u001b[39m \u001b[39m \u001b[39m \u001b[39m \u001b[39m \u001b[39m \u001b[39m \u001b[39m \u001b[39m \u001b[39m \u001b[39m \u001b[39m \u001b[39m \u001b[39m \u001b[39m \u001b[39m \u001b[39m \u001b[39m \u001b[39m \u001b[39m \u001b[39m \u001b[39m \u001b[39m \u001b[39m \u001b[39m \u001b[39m \u001b[39m \u001b[39m \u001b[39m \u001b[39m \u001b[39m \u001b[39m \u001b[39m \u001b[39m \u001b[39m \u001b[39m \u001b[39m \u001b[39m \u001b[39m \u001b[39m \u001b[39m \u001b[39m \u001b[39m \u001b[39m \u001b[39m \u001b[39m \u001b[39m \u001b[39m \u001b[39m \n",
       "  \u001b[39m▃\u001b[39m▄\u001b[39m█\u001b[39m█\u001b[34m▇\u001b[39m\u001b[39m█\u001b[39m█\u001b[39m▃\u001b[39m▁\u001b[39m▂\u001b[32m▁\u001b[39m\u001b[39m▁\u001b[39m▁\u001b[39m▁\u001b[39m▁\u001b[39m▁\u001b[39m▁\u001b[39m▁\u001b[39m▁\u001b[39m▁\u001b[39m▁\u001b[39m▁\u001b[39m▁\u001b[39m▁\u001b[39m▁\u001b[39m▁\u001b[39m▁\u001b[39m▁\u001b[39m▁\u001b[39m▁\u001b[39m▁\u001b[39m▁\u001b[39m▁\u001b[39m▁\u001b[39m▁\u001b[39m▁\u001b[39m▁\u001b[39m▁\u001b[39m▁\u001b[39m▁\u001b[39m▁\u001b[39m▁\u001b[39m▁\u001b[39m▁\u001b[39m▁\u001b[39m▁\u001b[39m▁\u001b[39m▁\u001b[39m▁\u001b[39m▁\u001b[39m▂\u001b[39m▂\u001b[39m▃\u001b[39m▃\u001b[39m▃\u001b[39m▃\u001b[39m▂\u001b[39m▂\u001b[39m \u001b[39m▂\n",
       "  2.38 ms\u001b[90m        Histogram: frequency by time\u001b[39m        33.1 ms \u001b[0m\u001b[1m<\u001b[22m\n",
       "\n",
       " Memory estimate\u001b[90m: \u001b[39m\u001b[33m41.93 MiB\u001b[39m, allocs estimate\u001b[90m: \u001b[39m\u001b[33m456470\u001b[39m."
      ]
     },
     "metadata": {},
     "output_type": "display_data"
    }
   ],
   "source": [
    "@benchmark StellarEvolution.eval_jacobian!(sm)"
   ]
  },
  {
   "cell_type": "code",
   "execution_count": 13,
   "id": "da4e3795",
   "metadata": {},
   "outputs": [
    {
     "name": "stdout",
     "output_type": "stream",
     "text": [
      "(i, maximum(corr), real_max_corr, maximum(sm.eqs)) = (50, 3.0000000000000004, 5875.517649160513, 151.5267972848451)\n"
     ]
    },
    {
     "name": "stdout",
     "output_type": "stream",
     "text": [
      "(i, maximum(corr), real_max_corr, maximum(sm.eqs)) = (100, 3.0, 5758.213785108949, 147.74957011843617)\n"
     ]
    },
    {
     "name": "stdout",
     "output_type": "stream",
     "text": [
      "(i, maximum(corr), real_max_corr, maximum(sm.eqs)) = (150, 3.0, 5640.27863861399, 143.9919562449959)\n"
     ]
    },
    {
     "name": "stdout",
     "output_type": "stream",
     "text": [
      "(i, maximum(corr), real_max_corr, maximum(sm.eqs)) = (200, 3.0, 5521.682231584813, 140.25381316002313)\n"
     ]
    },
    {
     "name": "stdout",
     "output_type": "stream",
     "text": [
      "(i, maximum(corr), real_max_corr, maximum(sm.eqs)) = (250, 3.0, 5402.433613436234, 136.53499879005358)\n"
     ]
    },
    {
     "name": "stdout",
     "output_type": "stream",
     "text": [
      "(i, maximum(corr), real_max_corr, maximum(sm.eqs)) = (300, 3.0, 5282.527760574542, 132.8353621002925)\n"
     ]
    },
    {
     "name": "stdout",
     "output_type": "stream",
     "text": [
      "(i, maximum(corr), real_max_corr, maximum(sm.eqs)) = (350, 3.0, 5161.946937029145, 129.15475627961678)\n"
     ]
    },
    {
     "name": "stdout",
     "output_type": "stream",
     "text": [
      "(i, maximum(corr), real_max_corr, maximum(sm.eqs)) = (400, 3.0, 5040.706002917941, 125.49302957072905)\n"
     ]
    },
    {
     "name": "stdout",
     "output_type": "stream",
     "text": [
      "(i, maximum(corr), real_max_corr, maximum(sm.eqs)) = (450, 3.0, 4918.785249597278, 121.85002421721765)\n"
     ]
    },
    {
     "name": "stdout",
     "output_type": "stream",
     "text": [
      "(i, maximum(corr), real_max_corr, maximum(sm.eqs)) = (500, 3.0, 4796.176279087317, 118.22558538630074)\n"
     ]
    },
    {
     "name": "stdout",
     "output_type": "stream",
     "text": [
      "(i, maximum(corr), real_max_corr, maximum(sm.eqs)) = (550, 3.0, 4672.894889050372, 114.61954984920703)\n"
     ]
    },
    {
     "name": "stdout",
     "output_type": "stream",
     "text": [
      "(i, maximum(corr), real_max_corr, maximum(sm.eqs)) = (600, 2.9999999999999996, 4548.914747247578, 111.03175154316341)\n"
     ]
    },
    {
     "name": "stdout",
     "output_type": "stream",
     "text": [
      "(i, maximum(corr), real_max_corr, maximum(sm.eqs)) = (650, 3.0, 4424.235296714491, 107.46202400839502)\n"
     ]
    },
    {
     "name": "stdout",
     "output_type": "stream",
     "text": [
      "(i, maximum(corr), real_max_corr, maximum(sm.eqs)) = (700, 3.0, 4298.8639354484485, 103.91019089787369)\n"
     ]
    },
    {
     "name": "stdout",
     "output_type": "stream",
     "text": [
      "(i, maximum(corr), real_max_corr, maximum(sm.eqs)) = (750, 3.0, 4172.779816819964, 100.37607377233144)\n"
     ]
    },
    {
     "name": "stdout",
     "output_type": "stream",
     "text": [
      "(i, maximum(corr), real_max_corr, maximum(sm.eqs)) = (800, 3.0, 4045.982971958976, 96.85949086524124)\n"
     ]
    },
    {
     "name": "stdout",
     "output_type": "stream",
     "text": [
      "(i, maximum(corr), real_max_corr, maximum(sm.eqs)) = (850, 3.0, 3918.4771657568863, 93.36024941703363)\n"
     ]
    },
    {
     "name": "stdout",
     "output_type": "stream",
     "text": [
      "(i, maximum(corr), real_max_corr, maximum(sm.eqs)) = (900, 3.0, 3790.2446089703694, 89.87815313690226)\n"
     ]
    },
    {
     "name": "stdout",
     "output_type": "stream",
     "text": [
      "(i, maximum(corr), real_max_corr, maximum(sm.eqs)) = (950, 3.0, 3661.2841263139885, 86.4129999289944)\n"
     ]
    },
    {
     "name": "stdout",
     "output_type": "stream",
     "text": [
      "(i, maximum(corr), real_max_corr, maximum(sm.eqs)) = (1000, 3.0, 3531.599704360638, 82.96457499334065)\n"
     ]
    },
    {
     "name": "stdout",
     "output_type": "stream",
     "text": [
      "(i, maximum(corr), real_max_corr, maximum(sm.eqs)) = (1050, 3.0, 3401.1746425460856, 79.53265669833854)\n"
     ]
    },
    {
     "name": "stdout",
     "output_type": "stream",
     "text": [
      "(i, maximum(corr), real_max_corr, maximum(sm.eqs)) = (1100, 3.0, 3270.005253029278, 76.11701468111642)\n"
     ]
    },
    {
     "name": "stdout",
     "output_type": "stream",
     "text": [
      "(i, maximum(corr), real_max_corr, maximum(sm.eqs)) = (1150, 3.0, 3138.098645577827, 72.71740335564755)\n"
     ]
    },
    {
     "name": "stdout",
     "output_type": "stream",
     "text": [
      "(i, maximum(corr), real_max_corr, maximum(sm.eqs)) = (1200, 3.0, 3005.437721447913, 69.33356427864419)\n"
     ]
    },
    {
     "name": "stdout",
     "output_type": "stream",
     "text": [
      "(i, maximum(corr), real_max_corr, maximum(sm.eqs)) = (1250, 3.0, 2872.0184687991928, 65.96522598320371)\n"
     ]
    },
    {
     "name": "stdout",
     "output_type": "stream",
     "text": [
      "(i, maximum(corr), real_max_corr, maximum(sm.eqs)) = (1300, 3.0, 2737.8440762039977, 62.61209759820122)\n"
     ]
    },
    {
     "name": "stdout",
     "output_type": "stream",
     "text": [
      "(i, maximum(corr), real_max_corr, maximum(sm.eqs)) = (1350, 3.0, 2602.9050133314427, 59.273865551513154)\n"
     ]
    },
    {
     "name": "stdout",
     "output_type": "stream",
     "text": [
      "(i, maximum(corr), real_max_corr, maximum(sm.eqs)) = (1400, 3.0, 2467.194405312612, 55.950195459598035)\n"
     ]
    },
    {
     "name": "stdout",
     "output_type": "stream",
     "text": [
      "(i, maximum(corr), real_max_corr, maximum(sm.eqs)) = (1450, 3.0, 2330.710279697141, 52.64072438986477)\n"
     ]
    },
    {
     "name": "stdout",
     "output_type": "stream",
     "text": [
      "(i, maximum(corr), real_max_corr, maximum(sm.eqs)) = (1500, 3.0, 2193.4523220741567, 49.3450528058529)\n"
     ]
    },
    {
     "name": "stdout",
     "output_type": "stream",
     "text": [
      "(i, maximum(corr), real_max_corr, maximum(sm.eqs)) = (1550, 3.0, 2055.4101504365112, 46.06274264205422)\n"
     ]
    },
    {
     "name": "stdout",
     "output_type": "stream",
     "text": [
      "(i, maximum(corr), real_max_corr, maximum(sm.eqs)) = (1600, 3.0, 1916.5801097525245, 42.793307800202456)\n"
     ]
    },
    {
     "name": "stdout",
     "output_type": "stream",
     "text": [
      "(i, maximum(corr), real_max_corr, maximum(sm.eqs)) = (1650, 3.0, 1776.961591677201, 39.536201146955136)\n"
     ]
    },
    {
     "name": "stdout",
     "output_type": "stream",
     "text": [
      "(i, maximum(corr), real_max_corr, maximum(sm.eqs)) = (1700, 3.0, 1636.5498800525268, 36.29079809918767)\n"
     ]
    },
    {
     "name": "stdout",
     "output_type": "stream",
     "text": [
      "(i, maximum(corr), real_max_corr, maximum(sm.eqs)) = (1750, 3.0000000000000004, 1495.3386353980825, 33.05638070824352)\n"
     ]
    },
    {
     "name": "stdout",
     "output_type": "stream",
     "text": [
      "(i, maximum(corr), real_max_corr, maximum(sm.eqs)) = (1800, 3.0, 1353.3245637798052, 29.832107106813055)\n"
     ]
    },
    {
     "name": "stdout",
     "output_type": "stream",
     "text": [
      "(i, maximum(corr), real_max_corr, maximum(sm.eqs)) = (1850, 3.0, 1210.5063501048198, 26.61696977394604)\n"
     ]
    },
    {
     "name": "stdout",
     "output_type": "stream",
     "text": [
      "(i, maximum(corr), real_max_corr, maximum(sm.eqs)) = (1900, 3.0, 1066.8798644654748, 23.409733487467747)\n"
     ]
    },
    {
     "name": "stdout",
     "output_type": "stream",
     "text": [
      "(i, maximum(corr), real_max_corr, maximum(sm.eqs)) = (1950, 3.0, 922.4403205446196, 20.20884369214764)\n"
     ]
    },
    {
     "name": "stdout",
     "output_type": "stream",
     "text": [
      "(i, maximum(corr), real_max_corr, maximum(sm.eqs)) = (2000, 3.0, 777.1849437183744, 17.01226732602663)\n"
     ]
    },
    {
     "name": "stdout",
     "output_type": "stream",
     "text": [
      "(i, maximum(corr), real_max_corr, maximum(sm.eqs)) = (2050, 2.9999999999999996, 631.1113494533392, 13.817212083551567)\n"
     ]
    },
    {
     "name": "stdout",
     "output_type": "stream",
     "text": [
      "(i, maximum(corr), real_max_corr, maximum(sm.eqs)) = (2100, 3.0, 484.217711448466, 10.619571026254562)\n"
     ]
    },
    {
     "name": "stdout",
     "output_type": "stream",
     "text": [
      "(i, maximum(corr), real_max_corr, maximum(sm.eqs)) = (2150, 3.0, 336.4999917180318, 7.412649426500138)\n"
     ]
    },
    {
     "name": "stdout",
     "output_type": "stream",
     "text": [
      "(i, maximum(corr), real_max_corr, maximum(sm.eqs)) = (2200, 3.0, 187.9561418621688, 4.183365400087496)\n"
     ]
    },
    {
     "name": "stdout",
     "output_type": "stream",
     "text": [
      "(i, maximum(corr), real_max_corr, maximum(sm.eqs)) = (2250, 3.0, 38.58432770431675, 0.8912323417171137)\n"
     ]
    },
    {
     "name": "stdout",
     "output_type": "stream",
     "text": [
      "Found first model\n"
     ]
    },
    {
     "name": "stdout",
     "output_type": "stream",
     "text": [
      "(k, i, real_max_corr, maximum(sm.eqs), dt_next / (365.25 * 24 * 3600)) = (100, 4, 2.1793833247720524e-14, 1.1893255269512792e-9, 175.13560570113668)\n"
     ]
    },
    {
     "name": "stdout",
     "output_type": "stream",
     "text": [
      "(k, i, real_max_corr, maximum(sm.eqs), dt_next / (365.25 * 24 * 3600)) = (200, 4, 1.320140204405741e-14, 7.064702156611702e-10, 250.26851192650622)\n"
     ]
    },
    {
     "name": "stdout",
     "output_type": "stream",
     "text": [
      "(k, i, real_max_corr, maximum(sm.eqs), dt_next / (365.25 * 24 * 3600)) = (300, 4, 1.3224242969020235e-14, 5.632044830505833e-10, 408.3497309571344)\n"
     ]
    },
    {
     "name": "stdout",
     "output_type": "stream",
     "text": [
      "(k, i, real_max_corr, maximum(sm.eqs), dt_next / (365.25 * 24 * 3600)) = (400, 4, 1.2087748272672465e-14, 1.8653125710699214e-9, 671.8745549153261)\n"
     ]
    },
    {
     "name": "stdout",
     "output_type": "stream",
     "text": [
      "(k, i, real_max_corr, maximum(sm.eqs), dt_next / (365.25 * 24 * 3600)) = (500, 4, 1.4653290463962938e-14, 1.1378825659491554e-9, 1106.269944392541)\n"
     ]
    },
    {
     "name": "stdout",
     "output_type": "stream",
     "text": [
      "(k, i, real_max_corr, maximum(sm.eqs), dt_next / (365.25 * 24 * 3600)) = (600, 4, 1.3519779955441333e-14, 1.0689715779221842e-9, 1821.63056511766)\n"
     ]
    },
    {
     "name": "stdout",
     "output_type": "stream",
     "text": [
      "(k, i, real_max_corr, maximum(sm.eqs), dt_next / (365.25 * 24 * 3600)) = (700, 4, 1.6752459994207344e-14, 1.6288399518060714e-9, 3000.0033811441344)\n"
     ]
    },
    {
     "name": "stdout",
     "output_type": "stream",
     "text": [
      "(k, i, real_max_corr, maximum(sm.eqs), dt_next / (365.25 * 24 * 3600)) = (800, 4, 1.5805549687739556e-14, 9.866787387124987e-10, 4969.722280027954)\n"
     ]
    },
    {
     "name": "stdout",
     "output_type": "stream",
     "text": [
      "(k, i, real_max_corr, maximum(sm.eqs), dt_next / (365.25 * 24 * 3600)) = (900, 4, 2.998766544136148e-11, 1.8093082587711251e-9, 11580.738452485839)\n"
     ]
    },
    {
     "name": "stdout",
     "output_type": "stream",
     "text": [
      "(k, i, real_max_corr, maximum(sm.eqs), dt_next / (365.25 * 24 * 3600)) = (1000, 4, 4.147230065308026e-15, 5.68495848974563e-10, 1.801976475457304e7)\n"
     ]
    },
    {
     "name": "stdout",
     "output_type": "stream",
     "text": [
      "(k, i, real_max_corr, maximum(sm.eqs), dt_next / (365.25 * 24 * 3600)) = (1100, 4, 4.772570418815415e-15, 1.0355933542345944e-9, 2.5418105238946203e7)\n"
     ]
    },
    {
     "name": "stdout",
     "output_type": "stream",
     "text": [
      "(k, i, real_max_corr, maximum(sm.eqs), dt_next / (365.25 * 24 * 3600)) = (1200, 4, 5.952907947049829e-15, 3.153463676817958e-9, 4.212936143040068e6)\n"
     ]
    },
    {
     "name": "stdout",
     "output_type": "stream",
     "text": [
      "(k, i, real_max_corr, maximum(sm.eqs), dt_next / (365.25 * 24 * 3600)) = (1300, 4, 2.2847299926490233e-12, 2.401528413631393e-9, 422660.8421785523)\n"
     ]
    },
    {
     "name": "stdout",
     "output_type": "stream",
     "text": [
      "(k, i, real_max_corr, maximum(sm.eqs), dt_next / (365.25 * 24 * 3600)) = (1400, 4, 6.027670174890711e-14, 2.995477782485878e-9, 40832.37725981097)\n"
     ]
    },
    {
     "name": "stdout",
     "output_type": "stream",
     "text": [
      "(k, i, real_max_corr, maximum(sm.eqs), dt_next / (365.25 * 24 * 3600)) = (1500, 4, 7.477697524213687e-14, 1.7713404354413598e-9, 6961.418732217254)\n"
     ]
    },
    {
     "name": "stdout",
     "output_type": "stream",
     "text": [
      "(k, i, real_max_corr, maximum(sm.eqs), dt_next / (365.25 * 24 * 3600)) = (1600, 4, 5.186420542472507e-14, 2.9422803915490903e-9, 3021.7761557138015)\n"
     ]
    },
    {
     "name": "stdout",
     "output_type": "stream",
     "text": [
      "(k, i, real_max_corr, maximum(sm.eqs), dt_next / (365.25 * 24 * 3600)) = (1700, 4, 1.0699068610317495e-13, 3.534340695110494e-9, 1863.8171912037699)\n"
     ]
    },
    {
     "name": "stdout",
     "output_type": "stream",
     "text": [
      "(k, i, real_max_corr, maximum(sm.eqs), dt_next / (365.25 * 24 * 3600)) = (1800, 4, 2.0916343577541325e-13, 4.834222813721034e-9, 1328.041399665348)\n"
     ]
    },
    {
     "name": "stdout",
     "output_type": "stream",
     "text": [
      "(k, i, real_max_corr, maximum(sm.eqs), dt_next / (365.25 * 24 * 3600)) = (1900, 4, 1.5002772099605852e-13, 3.299643072662839e-9, 1044.434117200051)\n"
     ]
    },
    {
     "name": "stdout",
     "output_type": "stream",
     "text": [
      "(k, i, real_max_corr, maximum(sm.eqs), dt_next / (365.25 * 24 * 3600)) = (2000, 4, 1.368402015612325e-13, 3.3684049091653456e-9, 899.6983868701935)\n"
     ]
    },
    {
     "name": "stdout",
     "output_type": "stream",
     "text": [
      "(k, i, real_max_corr, maximum(sm.eqs), dt_next / (365.25 * 24 * 3600)) = (2100, 4, 1.0058963365482174e-13, 2.049881216159566e-9, 846.604226571959)\n"
     ]
    },
    {
     "name": "stdout",
     "output_type": "stream",
     "text": [
      "(k, i, real_max_corr, maximum(sm.eqs), dt_next / (365.25 * 24 * 3600)) = (2200, 4, 6.116842045402098e-14, 3.6355301338830692e-9, 847.0866467540765)\n"
     ]
    },
    {
     "name": "stdout",
     "output_type": "stream",
     "text": [
      "(k, i, real_max_corr, maximum(sm.eqs), dt_next / (365.25 * 24 * 3600)) = (2300, 4, 2.124865724565776e-13, 4.992785299778868e-9, 859.5010840929019)\n"
     ]
    },
    {
     "name": "stdout",
     "output_type": "stream",
     "text": [
      "(k, i, real_max_corr, maximum(sm.eqs), dt_next / (365.25 * 24 * 3600)) = (2400, 4, 7.85794211441451e-14, 5.689283058551986e-9, 870.286304437191)\n"
     ]
    },
    {
     "name": "stdout",
     "output_type": "stream",
     "text": [
      "(k, i, real_max_corr, maximum(sm.eqs), dt_next / (365.25 * 24 * 3600)) = (2500, 4, 1.4583235614057206e-13, 5.493628163488751e-9, 889.9739911782842)\n"
     ]
    },
    {
     "name": "stdout",
     "output_type": "stream",
     "text": [
      "(k, i, real_max_corr, maximum(sm.eqs), dt_next / (365.25 * 24 * 3600)) = (2600, 4, 2.4651065777178115e-13, 4.323697603073051e-9, 938.1516659283119)\n"
     ]
    },
    {
     "name": "stdout",
     "output_type": "stream",
     "text": [
      "(k, i, real_max_corr, maximum(sm.eqs), dt_next / (365.25 * 24 * 3600)) = (2700, 4, 9.011467340025489e-14, 1.1258784483707263e-8, 1060.9373898352383)\n"
     ]
    },
    {
     "name": "stdout",
     "output_type": "stream",
     "text": [
      "(k, i, real_max_corr, maximum(sm.eqs), dt_next / (365.25 * 24 * 3600)) = (2800, 4, 3.656485426739103e-13, 5.326693928824067e-9, 1396.5515607709126)\n"
     ]
    },
    {
     "name": "stdout",
     "output_type": "stream",
     "text": [
      "(k, i, real_max_corr, maximum(sm.eqs), dt_next / (365.25 * 24 * 3600)) = (2900, 4, 2.2939403044122204e-13, 8.092032188419807e-9, 2405.198478391927)\n"
     ]
    },
    {
     "name": "stdout",
     "output_type": "stream",
     "text": [
      "(k, i, real_max_corr, maximum(sm.eqs), dt_next / (365.25 * 24 * 3600)) = (3000, 4, 6.377738435163298e-14, 1.1067202350628462e-8, 5645.727209687207)\n"
     ]
    }
   ],
   "source": [
    "nsteps = 3000\n",
    "Tcenter = zeros(nsteps)\n",
    "Pcenter = zeros(nsteps)\n",
    "Hcenter = zeros(nsteps)\n",
    "Lsurf = zeros(nsteps)\n",
    "Rsurf = zeros(nsteps)\n",
    "Tsurf = zeros(nsteps)\n",
    "Hsurf = zeros(nsteps)\n",
    "times = zeros(nsteps)\n",
    "\n",
    "simtime = 0\n",
    "dt_next = 1*365.25*24*3600\n",
    "for k in 1:nsteps\n",
    "    max_steps = sm.opt.solver.newton_max_iter\n",
    "    if (k==1)\n",
    "        max_steps = sm.opt.solver.newton_max_iter_first_step\n",
    "    end\n",
    "\n",
    "    sm.ssi.dt = dt_next\n",
    "    simtime = simtime + sm.ssi.dt\n",
    "    sm.ssi.lnT_old = zeros(sm.nz)\n",
    "    sm.ssi.lnP_old = zeros(sm.nz)\n",
    "    sm.ssi.ind_vars_old = zeros(sm.nz*sm.nvars)\n",
    "    for i in 1:sm.nz\n",
    "        sm.ssi.lnT_old[i] = sm.ind_vars[(i-1)*sm.nvars+sm.vari[:lnT]]\n",
    "        sm.ssi.lnP_old[i] = sm.ind_vars[(i-1)*sm.nvars+sm.vari[:lnP]]\n",
    "        sm.ssi.ind_vars_old[(i-1)*sm.nvars+1:i*sm.nvars] .= sm.ind_vars[(i-1)*sm.nvars+1:i*sm.nvars]\n",
    "    end\n",
    "\n",
    "    exit_evolution = false\n",
    "    for i in 1:max_steps\n",
    "        StellarEvolution.eval_jacobian!(sm)\n",
    "        StellarEvolution.eval_eqs!(sm)\n",
    "        \n",
    "        #if k>2000\n",
    "            sm.linear_solver.A = sm.jac\n",
    "            #sm.linear_solver.isfresh = false # cache is already set for sparsity pattern\n",
    "            sm.linear_solver.b = -sm.eqs\n",
    "            corr =solve(sm.linear_solver)\n",
    "        #else\n",
    "        #    #corr = sm.jac\\(-sm.eqs)\n",
    "        #    corr = sm.jac_BBM\\(-sm.eqs)\n",
    "        #end\n",
    "\n",
    "        real_max_corr = maximum(corr)\n",
    "        \n",
    "        # scale surface correction to prevent negative surface luminosity\n",
    "        # if correction will produce negative L, scale it so L is halved\n",
    "        corr_lum_surf = corr[sm.nvars*(sm.nz-1)+sm.vari[:lum]]\n",
    "        lum_surf = sm.ind_vars[sm.nvars*(sm.nz-1)+sm.vari[:lum]]\n",
    "        if lum_surf + corr_lum_surf < 0.0\n",
    "            corr = corr*(-sm.opt.solver.scale_correction_negative_Lsurf*lum_surf/corr_lum_surf)\n",
    "            #corr[sm.nvars*(sm.nz-1)+sm.vari[:lum]] = corr[sm.nvars*(sm.nz-1)+sm.vari[:lum]]*(-0.1*lum_surf/corr_lum_surf)\n",
    "        end\n",
    "        #@show lum_surf, corr_lum_surf, lum_surf + corr_lum_surf\n",
    "\n",
    "        #scale correction\n",
    "        if k==1\n",
    "            corr = corr*min(1,sm.opt.solver.scale_max_correction/maximum(corr))\n",
    "        else\n",
    "            corr = corr*min(1,sm.opt.solver.scale_max_correction/maximum(corr))\n",
    "        end\n",
    "        if i%50==0\n",
    "            @show i, maximum(corr), real_max_corr, maximum(sm.eqs)\n",
    "        end\n",
    "        # first try applying correction and see if it would give negative luminosity\n",
    "        sm.ind_vars = sm.ind_vars+corr\n",
    "        if real_max_corr<1e-10\n",
    "            if k==1\n",
    "                println(\"Found first model\")\n",
    "            end\n",
    "            if k%100==0\n",
    "                @show k, i, real_max_corr, maximum(sm.eqs), dt_next/(365.25*24*3600)\n",
    "            end\n",
    "            break\n",
    "        end\n",
    "        if i == max_steps\n",
    "            exit_evolution = true\n",
    "        end\n",
    "    end\n",
    "\n",
    "    if (exit_evolution)\n",
    "        println(\"Failed to converge, retry\")\n",
    "        break\n",
    "    end\n",
    "\n",
    "    Tcenter[k] = exp(sm.ind_vars[(1-1)*sm.nvars+sm.vari[:lnT]])\n",
    "    Hcenter[k] = exp(sm.ind_vars[(1-1)*sm.nvars+sm.vari[:H1]])\n",
    "    Pcenter[k] = exp(sm.ind_vars[(1-1)*sm.nvars+sm.vari[:lnP]])\n",
    "    Lsurf[k] = sm.ind_vars[(sm.nz-1)*sm.nvars+sm.vari[:lum]]*LSUN\n",
    "    Rsurf[k] = exp(sm.ind_vars[(sm.nz-1)*sm.nvars+sm.vari[:lnr]])\n",
    "    Tsurf[k] = exp(sm.ind_vars[(sm.nz-1)*sm.nvars+sm.vari[:lnT]])\n",
    "    Hsurf[k] = exp(sm.ind_vars[(sm.nz-1)*sm.nvars+sm.vari[:H1]])\n",
    "    times[k] = simtime/(365.25*24*3600)\n",
    "    if (k==1)\n",
    "        dt_next = sm.ssi.dt\n",
    "    else\n",
    "        ΔR_div_R = abs(Rsurf[k]-Rsurf[k-1])/Rsurf[k]\n",
    "        ΔTc_div_Tc = abs(Tcenter[k]-Tcenter[k-1])/Tcenter[k]\n",
    "        ΔX = abs(Hcenter[k]-Hcenter[k-1])/Hcenter[k]\n",
    "\n",
    "        dt_nextR = dt_next*0.005/ΔR_div_R\n",
    "        dt_nextTc = dt_next*0.005/ΔTc_div_Tc\n",
    "        dt_nextX = dt_next*0.005/ΔX\n",
    "\n",
    "        dt_next = min(2*dt_next, dt_nextR, dt_nextTc, dt_nextX)\n",
    "    end\n",
    "end"
   ]
  },
  {
   "cell_type": "code",
   "execution_count": 14,
   "id": "6ddc601f",
   "metadata": {},
   "outputs": [
    {
     "data": {
      "image/png": "[encoded data removed]"
     },
     "metadata": {},
     "output_type": "display_data"
    }
   ],
   "source": [
    "ρprofile = zeros(sm.nz)\n",
    "for i in 1:sm.nz\n",
    "    eos_result = get_EOS_resultsTP(sm.eos, sm.isotope_data,\n",
    "    sm.ind_vars[(i-1)*sm.nvars+sm.vari[:lnT]], sm.ind_vars[(i-1)*sm.nvars+sm.vari[:lnP]], [1.0], [:H1])\n",
    "    ρprofile[i] = eos_result[1]\n",
    "end\n",
    "\n",
    "using CairoMakie\n",
    "f = Figure()\n",
    "ax = Axis(f[1,1])\n",
    "lines!(ax, log.(ρprofile), [sm.ind_vars[(i-1)*sm.nvars+sm.vari[:lnP]] for i in 1:sm.nz], label=\"real profile\")\n",
    "xvals = LinRange(-20,2,100)\n",
    "lines!(ax,xvals,(1+1/1) .* xvals .+ 40, label=\"n=1\")\n",
    "lines!(ax,xvals,(1+1/(1.5)) .* xvals .+ 35, label=\"n=1.5\")\n",
    "lines!(ax,xvals,(1+1/3) .* xvals .+ 35, label=\"n=3\")\n",
    "axislegend(ax)\n",
    "f"
   ]
  },
  {
   "cell_type": "code",
   "execution_count": 15,
   "id": "63106580",
   "metadata": {},
   "outputs": [
    {
     "data": {
      "image/png": "[encoded data removed]"
     },
     "metadata": {},
     "output_type": "display_data"
    }
   ],
   "source": [
    "using CairoMakie\n",
    "f = Figure()\n",
    "ax = Axis(f[1,1])\n",
    "lines!(ax, m_face/MSUN, ([sm.ind_vars[(i-1)*sm.nvars+sm.vari[:H1]] for i in 1:sm.nz]))\n",
    "f"
   ]
  },
  {
   "cell_type": "code",
   "execution_count": 16,
   "id": "cc589f8a",
   "metadata": {},
   "outputs": [
    {
     "data": {
      "image/png": "[encoded data removed]"
     },
     "metadata": {},
     "output_type": "display_data"
    }
   ],
   "source": [
    "ρcenter = zeros(nsteps)\n",
    "for i in 1:nsteps\n",
    "    eos_result = get_EOS_resultsTP(sm.eos, sm.isotope_data,\n",
    "        log(Tcenter[i]), log(Pcenter[i]), [1.0], [:H1])\n",
    "    ρcenter[i] = eos_result[1]\n",
    "end\n",
    "\n",
    "using CairoMakie\n",
    "using LaTeXStrings\n",
    "\n",
    "f = Figure()\n",
    "ax = Axis(f[1,1], xlabel=\"\")\n",
    "xvals = collect(LinRange(0,1,1000))\n",
    "mass = xvals .* MSUN\n",
    "#lines!(ax, xvals, P_const_ρ(mass,1,MSUN))\n",
    "#lines!(ax, times, Pcenter)\n",
    "lines!(ax, log10.(ρcenter), log10.(Tcenter))\n",
    "lines!(ax, log10.(ρcenter), log10.(ρcenter)./3 .+ 6.4)\n",
    "#lines!(ax, 1:10000, Lsurf)\n",
    "#xlims!(ax,930,940)\n",
    "f"
   ]
  },
  {
   "cell_type": "code",
   "execution_count": 17,
   "id": "ae2c07fe",
   "metadata": {},
   "outputs": [
    {
     "data": {
      "image/png": "[encoded data removed]"
     },
     "metadata": {},
     "output_type": "display_data"
    }
   ],
   "source": [
    "f = Figure()\n",
    "ax = Axis(f[1,1], xlabel=\"\")\n",
    "xvals = collect(LinRange(0,1,1000))\n",
    "mass = xvals .* MSUN\n",
    "#lines!(ax, xvals, P_const_ρ(mass,1,MSUN))\n",
    "#lines!(ax, times, Pcenter)\n",
    "lines!(ax, times, log10.(Rsurf/RSUN)) # not contracting right now?\n",
    "#lines!(ax, 1:10000, Lsurf)\n",
    "#xlims!(ax,930,940)\n",
    "f"
   ]
  },
  {
   "cell_type": "code",
   "execution_count": null,
   "id": "d6931d2b",
   "metadata": {},
   "outputs": [],
   "source": []
  }
 ],
 "metadata": {
  "kernelspec": {
   "display_name": "Julia 1.9.0",
   "language": "julia",
   "name": "julia-1.9"
  },
  "language_info": {
   "file_extension": ".jl",
   "mimetype": "application/julia",
   "name": "julia",
   "version": "1.9.0"
  }
 },
 "nbformat": 4,
 "nbformat_minor": 5
}

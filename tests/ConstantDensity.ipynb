{
 "cells": [
  {
   "cell_type": "code",
   "execution_count": 1,
   "id": "4d8c9ba5-23e4-4157-b626-feacca781453",
   "metadata": {},
   "outputs": [],
   "source": [
    "using BenchmarkTools\n",
    "using StellarChem\n",
    "using StellarConstants\n",
    "using StellarEOS"
   ]
  },
  {
   "cell_type": "code",
   "execution_count": 2,
   "id": "15b25c4a-6df8-4895-8efe-3b21f4a7848e",
   "metadata": {},
   "outputs": [
    {
     "data": {
      "text/plain": [
       "Dict{Symbol, Isotope} with 3352 entries:\n",
       "  :Ne26  => Isotope(10, 26, \"Ne\", 26.0005)\n",
       "  :C22   => Isotope(6, 22, \"C\", 22.0575)\n",
       "  :Pr143 => Isotope(59, 143, \"Pr\", 142.911)\n",
       "  :Re163 => Isotope(75, 163, \"Re\", 162.972)\n",
       "  :Cu52  => Isotope(29, 52, \"Cu\", 51.9967)\n",
       "  :Co50  => Isotope(27, 50, \"Co\", 49.9809)\n",
       "  :Sr74  => Isotope(38, 74, \"Sr\", 73.9562)\n",
       "  :Pt188 => Isotope(78, 188, \"Pt\", 187.959)\n",
       "  :No258 => Isotope(102, 258, \"No\", 258.098)\n",
       "  :Pb210 => Isotope(82, 210, \"Pb\", 209.984)\n",
       "  :Dy148 => Isotope(66, 148, \"Dy\", 147.927)\n",
       "  :Hg200 => Isotope(80, 200, \"Hg\", 199.968)\n",
       "  :Ir182 => Isotope(77, 182, \"Ir\", 181.958)\n",
       "  :Md246 => Isotope(101, 246, \"Md\", 246.082)\n",
       "  :Lr251 => Isotope(103, 251, \"Lr\", 251.094)\n",
       "  :Cu75  => Isotope(29, 75, \"Cu\", 74.9415)\n",
       "  :Ce144 => Isotope(58, 144, \"Ce\", 143.914)\n",
       "  :Xe125 => Isotope(54, 125, \"Xe\", 124.906)\n",
       "  :Ni66  => Isotope(28, 66, \"Ni\", 65.9291)\n",
       "  :Cs114 => Isotope(55, 114, \"Cs\", 113.941)\n",
       "  :As60  => Isotope(33, 60, \"As\", 59.9939)\n",
       "  :Ne34  => Isotope(10, 34, \"Ne\", 34.0567)\n",
       "  :Na34  => Isotope(11, 34, \"Na\", 34.0336)\n",
       "  :Rh124 => Isotope(45, 124, \"Rh\", 123.952)\n",
       "  :La123 => Isotope(57, 123, \"La\", 122.926)\n",
       "  ⋮      => ⋮"
      ]
     },
     "execution_count": 2,
     "metadata": {},
     "output_type": "execute_result"
    }
   ],
   "source": [
    "StellarChem.get_isotope_list()"
   ]
  },
  {
   "cell_type": "code",
   "execution_count": 69,
   "id": "3da340ea-4fd2-4e8d-86cd-5aafc49bc0af",
   "metadata": {},
   "outputs": [
    {
     "data": {
      "text/plain": [
       "equationComposition (generic function with 1 method)"
      ]
     },
     "execution_count": 69,
     "metadata": {},
     "output_type": "execute_result"
    }
   ],
   "source": [
    "function equationHSE(sm, k, vm1::Vector{<:TT}, v00::Vector{<:TT}, vp1::Vector{<:TT},\n",
    "                            eosm1::Vector{<:TT}, eos00::Vector{<:TT}, eosp1::Vector{<:TT})::TT where{TT<:Real}\n",
    "    ρ = 1 # in cm/g\n",
    "    R = (3*sm.mstar/(4π*ρ))^(1/3)\n",
    "    \n",
    "    if k==sm.nz\n",
    "        lnP₀ = v00[sm.vari[:lnP]]\n",
    "        return lnP₀ + 10.0 #force very low surface density to resemble zero pressure condition\n",
    "    end\n",
    "    if k==1\n",
    "        lnP₀ = v00[sm.vari[:lnP]]\n",
    "        lnP₊ = vp1[sm.vari[:lnP]]\n",
    "        return lnP₀ - lnP₊#make it simple, just force first to cells to have constant pressure\n",
    "    end\n",
    "    lnP₋ = vm1[sm.vari[:lnP]]\n",
    "    lnP₊ = vp1[sm.vari[:lnP]]\n",
    "    P₀ = exp(v00[sm.vari[:lnP]])\n",
    "    r₀ = exp(v00[sm.vari[:lnr]])\n",
    "    dm = (sm.m[k+1]-sm.m[k-1])\n",
    "    \n",
    "    return (P₀*(lnP₊ - lnP₋)/dm + CGRAV*sm.m[k]/(4π*r₀^4))/(CGRAV*sm.mstar/(4π*R^4))\n",
    "end\n",
    "\n",
    "function equationT(sm, k, vm1::Vector{<:TT}, v00::Vector{<:TT}, vp1::Vector{<:TT},\n",
    "                            eosm1::Vector{<:TT}, eos00::Vector{<:TT}, eosp1::Vector{<:TT})::TT where{TT<:Real}\n",
    "    #if k==1\n",
    "    #    lnT₀ = v00[sm.vari[:lnT]]\n",
    "    #    lnT₊ = vp1[sm.vari[:lnT]]\n",
    "    #    return lnT₀ - lnT₊#make it simple, just force first to cells to have constant temperature\n",
    "    #end\n",
    "    if k==sm.nz\n",
    "        lnT₀ = v00[sm.vari[:lnT]]\n",
    "        return lnT₀ + 10.0 #force very low surface temperature\n",
    "    end\n",
    "    ρ = 1 # in cm/g\n",
    "    ρ00 = eos00[1]\n",
    "    return log(ρ)-log(ρ00) # T should be such that the EOS returns the density we want\n",
    "end\n",
    "\n",
    "function equationContinuity(sm, k, vm1::Vector{<:TT}, v00::Vector{<:TT}, vp1::Vector{<:TT},\n",
    "                            eosm1::Vector{<:TT}, eos00::Vector{<:TT}, eosp1::Vector{<:TT})::TT where{TT<:Real}\n",
    "    ρ = 1 # in cm/g\n",
    "    R = (3*sm.mstar/(4π*ρ))^(1/3)\n",
    "    \n",
    "    if k==1\n",
    "        lnr₀ = v00[sm.vari[:lnr]]\n",
    "        return lnr₀ + 10.0 #force very low central radiusw\n",
    "    end\n",
    "    r₋ = exp(vm1[sm.vari[:lnr]])\n",
    "    r₀ = exp(v00[sm.vari[:lnr]])\n",
    "    dm = (sm.m[k]-sm.m[k-1])\n",
    "\n",
    "    #expected_r₀ = r₋ + dm/(4π*r₋^2*ρ)\n",
    "    expected_dr³_dm = 3/(4π*ρ)\n",
    "    actual_dr³_dm = (r₀^3-r₋^3)/dm\n",
    "    \n",
    "    #return log(r₀) - log(expected_r₀)\n",
    "    return (expected_dr³_dm - actual_dr³_dm)*ρ\n",
    "end\n",
    "\n",
    "function equationComposition(sm, k, vm1::Vector{<:TT}, v00::Vector{<:TT}, vp1::Vector{<:TT},\n",
    "                            eosm1::Vector{<:TT}, eos00::Vector{<:TT}, eosp1::Vector{<:TT})::TT where{TT<:Real}\n",
    "    return v00[sm.vari[:H1]] - 1.0\n",
    "end"
   ]
  },
  {
   "cell_type": "code",
   "execution_count": 70,
   "id": "3b638390-95e1-43a0-8be0-1afc192bd39e",
   "metadata": {},
   "outputs": [
    {
     "data": {
      "text/plain": [
       "eval_jacobian! (generic function with 1 method)"
      ]
     },
     "execution_count": 70,
     "metadata": {},
     "output_type": "execute_result"
    }
   ],
   "source": [
    "using BlockBandedMatrices\n",
    "using ForwardDiff\n",
    "using Base.Threads\n",
    "\n",
    "mutable struct StellarModel\n",
    "    # properties that define the model\n",
    "    ind_vars::Vector{<:Real}\n",
    "    varnames::Vector{Symbol}\n",
    "    eqs::Vector{<:Real}\n",
    "    nvars::Int # this is the sum of hydro vars and species\n",
    "    nspecies::Int # Just the number of species in the network\n",
    "    structure_equations::Vector{Function} # Be careful, this probably kills type inference\n",
    "    vari::Dict{Symbol,Int} #links variable names to ind_vars vector\n",
    "\n",
    "    # grid properties\n",
    "    nz::Int # number of zones in the model\n",
    "    m::Vector{<:Real} # mass coordinate of each cell\n",
    "    mstar::Real # total model mass\n",
    "    \n",
    "    # Some basic info\n",
    "    eos::StellarEOS.AbstractEOS\n",
    "    isotope_data::Dict{Symbol, Isotope}\n",
    "\n",
    "    # Jacobian matrix\n",
    "    jac::BlockBandedMatrix\n",
    "    function StellarModel(varnames::Vector{Symbol}, structure_equations::Vector{Function}, nvars::Int, nspecies::Int, nz, eos)\n",
    "        ind_vars = ones(nvars*nz)\n",
    "        eqs = ones(nvars*nz)\n",
    "        m = ones(nz)\n",
    "\n",
    "        l,u = 1,1          # block bandwidths\n",
    "        N = M = nz        # number of row/column blocks\n",
    "        cols = rows = [nvars for i in 1:N]  # block sizes\n",
    "\n",
    "        jac = BlockBandedMatrix(Zeros(sum(rows),sum(cols)), rows,cols, (l,u))\n",
    "\n",
    "        isotope_data = StellarChem.get_isotope_list();\n",
    "\n",
    "        vari::Dict{Symbol,Int} = Dict()\n",
    "        for i in eachindex(varnames)\n",
    "            vari[varnames[i]] = i\n",
    "        end\n",
    "\n",
    "        new(ind_vars, varnames, eqs, nvars, nspecies, structure_equations, vari, nz, m, 0.0,eos,isotope_data,jac)\n",
    "    end\n",
    "end\n",
    "\n",
    "function eval_cell_eqs(sm::StellarModel, k::Int64, ind_vars_view::Vector{<:TT}) where{TT<:Real}\n",
    "    result = Vector{TT}(undef,sm.nvars)\n",
    "    # initialize as \n",
    "    eosm1 = Vector{TT}(undef,7)\n",
    "    eos00 = Vector{TT}(undef,7)\n",
    "    eosp1 = Vector{TT}(undef,7)\n",
    "    vm1 = Vector{TT}(undef,7)\n",
    "    v00 = Vector{TT}(undef,7)\n",
    "    vp1 = Vector{TT}(undef,7)\n",
    "    if k>1 && k<sm.nz\n",
    "        eosm1 = get_EOS_resultsTP(sm.eos, sm.isotope_data, ind_vars_view[sm.vari[:lnT]],ind_vars_view[sm.vari[:lnP]],\n",
    "            ind_vars_view[sm.nvars-sm.nspecies+1:sm.nvars],varnames[sm.nvars-sm.nspecies+1:end])\n",
    "        eos00 = get_EOS_resultsTP(sm.eos, sm.isotope_data, ind_vars_view[sm.nvars+sm.vari[:lnT]],ind_vars_view[sm.nvars+sm.vari[:lnP]],\n",
    "            ind_vars_view[sm.nvars+sm.nvars-sm.nspecies+1:2*sm.nvars],varnames[sm.nvars-sm.nspecies+1:end])\n",
    "        eosp1 = get_EOS_resultsTP(sm.eos, sm.isotope_data, ind_vars_view[2*sm.nvars+sm.vari[:lnT]],ind_vars_view[2*sm.nvars+sm.vari[:lnP]],\n",
    "            ind_vars_view[2*sm.nvars+sm.nvars-sm.nspecies+1:3*sm.nvars],varnames[sm.nvars-sm.nspecies+1:end])\n",
    "\n",
    "        vm1 = ind_vars_view[1:sm.nvars]\n",
    "        v00 = ind_vars_view[sm.nvars+1:2*sm.nvars]\n",
    "        vp1 = ind_vars_view[2*sm.nvars+1:3*sm.nvars]\n",
    "    elseif k==1\n",
    "        eos00 = get_EOS_resultsTP(sm.eos, sm.isotope_data, ind_vars_view[sm.vari[:lnT]],ind_vars_view[sm.vari[:lnP]],\n",
    "            ind_vars_view[sm.nvars-sm.nspecies+1:sm.nvars],varnames[sm.nvars-sm.nspecies+1:end])\n",
    "        eosp1 = get_EOS_resultsTP(sm.eos, sm.isotope_data, ind_vars_view[sm.nvars+sm.vari[:lnT]],ind_vars_view[sm.nvars+sm.vari[:lnP]],\n",
    "            ind_vars_view[sm.nvars+sm.nvars-sm.nspecies+1:2*sm.nvars],varnames[sm.nvars-sm.nspecies+1:end])\n",
    "        v00 = ind_vars_view[1:sm.nvars]\n",
    "        vp1 = ind_vars_view[sm.nvars+1:2*sm.nvars]\n",
    "    elseif k==sm.nz\n",
    "        eosm1 = get_EOS_resultsTP(sm.eos, sm.isotope_data, ind_vars_view[sm.vari[:lnT]],ind_vars_view[sm.vari[:lnP]],\n",
    "            ind_vars_view[sm.nvars-sm.nspecies+1:sm.nvars],varnames[sm.nvars-sm.nspecies+1:end])\n",
    "        eos00 = get_EOS_resultsTP(sm.eos, sm.isotope_data, ind_vars_view[sm.nvars+sm.vari[:lnT]],ind_vars_view[sm.nvars+sm.vari[:lnP]],\n",
    "            ind_vars_view[sm.nvars+sm.nvars-sm.nspecies+1:2*sm.nvars],varnames[sm.nvars-sm.nspecies+1:end])\n",
    "        vm1 = ind_vars_view[1:sm.nvars]\n",
    "        v00 = ind_vars_view[sm.nvars+1:2*sm.nvars]\n",
    "    end\n",
    "    for i in 1:sm.nvars\n",
    "        result[i] = sm.structure_equations[i](sm, k, vm1, v00, vp1, eosm1, eos00, eosp1)\n",
    "    end\n",
    "    return result\n",
    "end\n",
    "\n",
    "function eval_eqs!(sm::StellarModel)\n",
    "    for k in 1:sm.nz\n",
    "        ki = 0\n",
    "        kf = 0\n",
    "        if k==1\n",
    "            ki = sm.nvars*(k-1)+1\n",
    "            kf = sm.nvars*(k+1)\n",
    "        elseif k==sm.nz\n",
    "            ki = sm.nvars*(k-2)+1\n",
    "            kf = sm.nvars*(k)\n",
    "        else\n",
    "            ki = sm.nvars*(k-2)+1\n",
    "            kf = sm.nvars*(k+1)\n",
    "        end\n",
    "        ind_vars_view = sm.ind_vars[ki:kf]\n",
    "        sm.eqs[sm.nvars*(k-1)+1:sm.nvars*k] = eval_cell_eqs(sm, k, ind_vars_view)\n",
    "    end\n",
    "end\n",
    "\n",
    "function eval_jacobian_row!(sm::StellarModel, k::Int)\n",
    "    # ranges of ind_vars vector that needs to be considered, needs special cases for k=1 or nz\n",
    "    # Jacobian has tridiagonal block structure:\n",
    "    # x x - - - -\n",
    "    # x x x - - -\n",
    "    # - x x x - -\n",
    "    # - - x x x -\n",
    "    # - - - x x x\n",
    "    # - - - - x x\n",
    "    # In the first row, the first block corresponds to the derivatives of the structure equations\n",
    "    # with respect to the variables at the first cell. The block to the right corresponds to the\n",
    "    # derivatives with respect to the variables at the second cell.\n",
    "    # TODO: complete comment\n",
    "    ki = 0\n",
    "    kf = 0\n",
    "    if k==1\n",
    "        ki = sm.nvars*(k-1)+1\n",
    "        kf = sm.nvars*(k+1)\n",
    "    elseif k==sm.nz\n",
    "        ki = sm.nvars*(k-2)+1\n",
    "        kf = sm.nvars*(k)\n",
    "    else\n",
    "        ki = sm.nvars*(k-2)+1\n",
    "        kf = sm.nvars*(k+1)\n",
    "    end\n",
    "    ind_vars_view = view(sm.ind_vars,ki:kf)\n",
    "    eval_eqs_wrapper = x->eval_cell_eqs(sm, k, x)\n",
    "    sm.jac[sm.nvars*(k-1)+1:sm.nvars*k,ki:kf] = ForwardDiff.jacobian(eval_eqs_wrapper, ind_vars_view)\n",
    "end\n",
    "\n",
    "function eval_jacobian!(sm::StellarModel)\n",
    "    Threads.@threads for k in 1:sm.nz\n",
    "        eval_jacobian_row!(sm, k)\n",
    "    end\n",
    "end"
   ]
  },
  {
   "cell_type": "code",
   "execution_count": 71,
   "id": "9d592df0-2ffc-4ff1-931a-801272d44004",
   "metadata": {},
   "outputs": [],
   "source": [
    "nvars = 4\n",
    "nspecies = 1\n",
    "varnames = [:lnP,:lnT,:lnr,:H1]\n",
    "structure_equations=[equationHSE, equationT, equationContinuity, equationComposition]\n",
    "nz = 1000\n",
    "eos = StellarEOS.IdealEOS(true)\n",
    "sm = StellarModel(varnames, structure_equations, nvars, nspecies, nz, eos);"
   ]
  },
  {
   "cell_type": "code",
   "execution_count": 72,
   "id": "5fed231a-7177-4b62-8a4d-7150dad031af",
   "metadata": {},
   "outputs": [
    {
     "data": {
      "text/plain": [
       "T_const_ρ (generic function with 1 method)"
      ]
     },
     "execution_count": 72,
     "metadata": {},
     "output_type": "execute_result"
    }
   ],
   "source": [
    "sm.mstar = MSUN\n",
    "function r_const_ρ(m,ρ)\n",
    "    return @. (3m/(4π*ρ))^(1/3)\n",
    "end\n",
    "function P_const_ρ(m,ρ,M)\n",
    "    Pc = 3*CGRAV/(8π)*(4π*ρ/3)^(4/3)*M^(2/3)\n",
    "    return @. -3*CGRAV/(8π)*(4π*ρ/3)^(4/3)*m^(2/3) + Pc\n",
    "end\n",
    "function T_const_ρ(m,ρ,M, XH1, XHe4, isotope_data)\n",
    "    P = P_const_ρ(m,ρ,M)\n",
    "    μ = StellarEOS.get_μ_IdealEOS(isotope_data,[XH1,XHe4], [:H1,:He4])\n",
    "    return @. P*μ/(CGAS*ρ)\n",
    "end"
   ]
  },
  {
   "cell_type": "code",
   "execution_count": 73,
   "id": "c26d494d-6c24-44d9-b98c-0f5442766906",
   "metadata": {},
   "outputs": [],
   "source": [
    "using CairoMakie"
   ]
  },
  {
   "cell_type": "code",
   "execution_count": 74,
   "id": "464eed68-b50c-42ca-963e-9d42f408b330",
   "metadata": {},
   "outputs": [
    {
     "data": {
      "image/png": "[encoded data removed]"
     },
     "execution_count": 74,
     "metadata": {},
     "output_type": "execute_result"
    }
   ],
   "source": [
    "f = Figure()\n",
    "ax = Axis(f[1,1])\n",
    "xvals = collect(LinRange(0,1,1000))\n",
    "mass = xvals .* MSUN\n",
    "lines!(ax, xvals, P_const_ρ(mass,1,MSUN))\n",
    "#lines!(ax, xvals, T_const_ρ(mass,1,MSUN, 0.7,0.3,StellarChem.get_isotope_list()))\n",
    "f"
   ]
  },
  {
   "cell_type": "code",
   "execution_count": 75,
   "id": "e19b1d56-9c88-4645-9431-52238daff414",
   "metadata": {},
   "outputs": [
    {
     "data": {
      "text/plain": [
       "-10"
      ]
     },
     "execution_count": 75,
     "metadata": {},
     "output_type": "execute_result"
    }
   ],
   "source": [
    "isotope_list = StellarChem.get_isotope_list()\n",
    "for i in 1:sm.nz\n",
    "    sm.m[i] = MSUN*(i-1)/(sm.nz-1)\n",
    "    ρ = 1\n",
    "    XH = 1.0\n",
    "    sm.ind_vars[(i-1)*sm.nvars+sm.vari[:lnr]] = log(r_const_ρ(sm.m[i],ρ))\n",
    "    sm.ind_vars[(i-1)*sm.nvars+sm.vari[:lnP]] = log(P_const_ρ(sm.m[i],ρ,MSUN))\n",
    "    sm.ind_vars[(i-1)*sm.nvars+sm.vari[:lnT]] = log(T_const_ρ(sm.m[i],ρ,MSUN,1.0,0.0,isotope_list))\n",
    "    sm.ind_vars[(i-1)*sm.nvars+sm.vari[:H1]] = XH\n",
    "end\n",
    "#special cases, just copy values at edges\n",
    "sm.ind_vars[(1-1)*sm.nvars+sm.vari[:lnr]] = -10\n",
    "sm.ind_vars[(1-1)*sm.nvars+sm.vari[:lnP]] = sm.ind_vars[(2-1)*sm.nvars+sm.vari[:lnP]]\n",
    "sm.ind_vars[(1-1)*sm.nvars+sm.vari[:lnT]] = sm.ind_vars[(2-1)*sm.nvars+sm.vari[:lnT]]\n",
    "sm.ind_vars[(sm.nz-1)*sm.nvars+sm.vari[:lnr]] = sm.ind_vars[(sm.nz-2)*sm.nvars+sm.vari[:lnr]]\n",
    "sm.ind_vars[(sm.nz-1)*sm.nvars+sm.vari[:lnP]] = -10\n",
    "sm.ind_vars[(sm.nz-1)*sm.nvars+sm.vari[:lnT]] = -10"
   ]
  },
  {
   "cell_type": "code",
   "execution_count": 76,
   "id": "8d7f5bde-c775-4d29-881d-f69ad84cc78a",
   "metadata": {},
   "outputs": [],
   "source": [
    "sm.ind_vars .= sm.ind_vars .+ rand(sm.nvars*sm.nz)./100;"
   ]
  },
  {
   "cell_type": "code",
   "execution_count": 77,
   "id": "d58a7710-d120-40bd-b36f-2aeabb10bf01",
   "metadata": {},
   "outputs": [
    {
     "data": {
      "text/plain": [
       "4×8 Matrix{Float64}:\n",
       "  0.0   0.0    0.0     0.0   1.0   0.0     0.0    0.0\n",
       "  0.0   0.0    0.0     0.0   0.0   1.0     0.0    0.0\n",
       " -0.0  -0.0  734.304  -0.0  -0.0  -0.0  -717.45  -0.0\n",
       "  0.0   0.0    0.0     0.0   0.0   0.0     0.0    1.0"
      ]
     },
     "execution_count": 77,
     "metadata": {},
     "output_type": "execute_result"
    }
   ],
   "source": [
    "eval_jacobian_row!(sm,sm.nz)"
   ]
  },
  {
   "cell_type": "code",
   "execution_count": 78,
   "id": "ed6223e7-99cb-48f4-861b-06817cfb5592",
   "metadata": {},
   "outputs": [
    {
     "data": {
      "text/plain": [
       "BenchmarkTools.Trial: 10000 samples with 7 evaluations.\n",
       " Range \u001b[90m(\u001b[39m\u001b[36m\u001b[1mmin\u001b[22m\u001b[39m … \u001b[35mmax\u001b[39m\u001b[90m):  \u001b[39m\u001b[36m\u001b[1m3.958 μs\u001b[22m\u001b[39m … \u001b[35m261.554 μs\u001b[39m  \u001b[90m┊\u001b[39m GC \u001b[90m(\u001b[39mmin … max\u001b[90m): \u001b[39m 0.00% … 95.07%\n",
       " Time  \u001b[90m(\u001b[39m\u001b[34m\u001b[1mmedian\u001b[22m\u001b[39m\u001b[90m):     \u001b[39m\u001b[34m\u001b[1m4.304 μs               \u001b[22m\u001b[39m\u001b[90m┊\u001b[39m GC \u001b[90m(\u001b[39mmedian\u001b[90m):    \u001b[39m 0.00%\n",
       " Time  \u001b[90m(\u001b[39m\u001b[32m\u001b[1mmean\u001b[22m\u001b[39m ± \u001b[32mσ\u001b[39m\u001b[90m):   \u001b[39m\u001b[32m\u001b[1m5.056 μs\u001b[22m\u001b[39m ± \u001b[32m 12.165 μs\u001b[39m  \u001b[90m┊\u001b[39m GC \u001b[90m(\u001b[39mmean ± σ\u001b[90m):  \u001b[39m11.79% ±  4.81%\n",
       "\n",
       "  \u001b[39m \u001b[39m \u001b[39m \u001b[39m▂\u001b[39m▆\u001b[34m█\u001b[39m\u001b[39m▄\u001b[39m \u001b[39m \u001b[39m \u001b[39m \u001b[39m \u001b[39m \u001b[39m \u001b[39m \u001b[39m \u001b[39m \u001b[32m \u001b[39m\u001b[39m \u001b[39m \u001b[39m \u001b[39m \u001b[39m \u001b[39m \u001b[39m \u001b[39m \u001b[39m \u001b[39m \u001b[39m \u001b[39m \u001b[39m \u001b[39m \u001b[39m \u001b[39m \u001b[39m \u001b[39m \u001b[39m \u001b[39m \u001b[39m \u001b[39m \u001b[39m \u001b[39m \u001b[39m \u001b[39m \u001b[39m \u001b[39m \u001b[39m \u001b[39m \u001b[39m \u001b[39m \u001b[39m \u001b[39m \u001b[39m \u001b[39m \u001b[39m \u001b[39m \u001b[39m \u001b[39m \u001b[39m \u001b[39m \u001b[39m \n",
       "  \u001b[39m▂\u001b[39m▄\u001b[39m▆\u001b[39m█\u001b[39m█\u001b[34m█\u001b[39m\u001b[39m█\u001b[39m▆\u001b[39m▄\u001b[39m▃\u001b[39m▃\u001b[39m▃\u001b[39m▃\u001b[39m▂\u001b[39m▂\u001b[39m▂\u001b[39m▂\u001b[32m▂\u001b[39m\u001b[39m▂\u001b[39m▂\u001b[39m▂\u001b[39m▂\u001b[39m▂\u001b[39m▁\u001b[39m▂\u001b[39m▂\u001b[39m▂\u001b[39m▂\u001b[39m▂\u001b[39m▂\u001b[39m▂\u001b[39m▂\u001b[39m▂\u001b[39m▂\u001b[39m▂\u001b[39m▂\u001b[39m▂\u001b[39m▂\u001b[39m▂\u001b[39m▂\u001b[39m▂\u001b[39m▂\u001b[39m▂\u001b[39m▂\u001b[39m▂\u001b[39m▂\u001b[39m▂\u001b[39m▂\u001b[39m▂\u001b[39m▂\u001b[39m▂\u001b[39m▂\u001b[39m▂\u001b[39m▂\u001b[39m▂\u001b[39m▂\u001b[39m▂\u001b[39m▂\u001b[39m▂\u001b[39m \u001b[39m▃\n",
       "  3.96 μs\u001b[90m         Histogram: frequency by time\u001b[39m        7.75 μs \u001b[0m\u001b[1m<\u001b[22m\n",
       "\n",
       " Memory estimate\u001b[90m: \u001b[39m\u001b[33m16.12 KiB\u001b[39m, allocs estimate\u001b[90m: \u001b[39m\u001b[33m69\u001b[39m."
      ]
     },
     "execution_count": 78,
     "metadata": {},
     "output_type": "execute_result"
    }
   ],
   "source": [
    "@benchmark eval_jacobian_row!(sm,2)"
   ]
  },
  {
   "cell_type": "code",
   "execution_count": 79,
   "id": "25f0a0de-fd8e-4fd4-bdc3-9684bf33db7e",
   "metadata": {},
   "outputs": [
    {
     "data": {
      "text/plain": [
       "BenchmarkTools.Trial: 1786 samples with 1 evaluation.\n",
       " Range \u001b[90m(\u001b[39m\u001b[36m\u001b[1mmin\u001b[22m\u001b[39m … \u001b[35mmax\u001b[39m\u001b[90m):  \u001b[39m\u001b[36m\u001b[1m758.022 μs\u001b[22m\u001b[39m … \u001b[35m34.255 ms\u001b[39m  \u001b[90m┊\u001b[39m GC \u001b[90m(\u001b[39mmin … max\u001b[90m): \u001b[39m 0.00% … 94.90%\n",
       " Time  \u001b[90m(\u001b[39m\u001b[34m\u001b[1mmedian\u001b[22m\u001b[39m\u001b[90m):     \u001b[39m\u001b[34m\u001b[1m  1.327 ms              \u001b[22m\u001b[39m\u001b[90m┊\u001b[39m GC \u001b[90m(\u001b[39mmedian\u001b[90m):    \u001b[39m 0.00%\n",
       " Time  \u001b[90m(\u001b[39m\u001b[32m\u001b[1mmean\u001b[22m\u001b[39m ± \u001b[32mσ\u001b[39m\u001b[90m):   \u001b[39m\u001b[32m\u001b[1m  2.808 ms\u001b[22m\u001b[39m ± \u001b[32m 6.175 ms\u001b[39m  \u001b[90m┊\u001b[39m GC \u001b[90m(\u001b[39mmean ± σ\u001b[90m):  \u001b[39m47.58% ± 19.73%\n",
       "\n",
       "  \u001b[39m▅\u001b[34m█\u001b[39m\u001b[39m▆\u001b[39m \u001b[32m \u001b[39m\u001b[39m \u001b[39m \u001b[39m \u001b[39m \u001b[39m \u001b[39m \u001b[39m \u001b[39m \u001b[39m \u001b[39m \u001b[39m \u001b[39m \u001b[39m \u001b[39m \u001b[39m \u001b[39m \u001b[39m \u001b[39m \u001b[39m \u001b[39m \u001b[39m \u001b[39m \u001b[39m \u001b[39m \u001b[39m \u001b[39m \u001b[39m \u001b[39m \u001b[39m \u001b[39m \u001b[39m \u001b[39m \u001b[39m \u001b[39m \u001b[39m \u001b[39m \u001b[39m \u001b[39m \u001b[39m \u001b[39m \u001b[39m \u001b[39m \u001b[39m \u001b[39m \u001b[39m \u001b[39m \u001b[39m \u001b[39m \u001b[39m \u001b[39m \u001b[39m \u001b[39m \u001b[39m \u001b[39m \u001b[39m \u001b[39m \u001b[39m \n",
       "  \u001b[39m█\u001b[34m█\u001b[39m\u001b[39m█\u001b[39m▇\u001b[32m▁\u001b[39m\u001b[39m▁\u001b[39m▁\u001b[39m▁\u001b[39m▁\u001b[39m▁\u001b[39m▁\u001b[39m▁\u001b[39m▁\u001b[39m▁\u001b[39m▁\u001b[39m▁\u001b[39m▁\u001b[39m▁\u001b[39m▁\u001b[39m▁\u001b[39m▁\u001b[39m▁\u001b[39m▁\u001b[39m▁\u001b[39m▁\u001b[39m▁\u001b[39m▁\u001b[39m▁\u001b[39m▁\u001b[39m▁\u001b[39m▁\u001b[39m▁\u001b[39m▁\u001b[39m▁\u001b[39m▁\u001b[39m▁\u001b[39m▁\u001b[39m▁\u001b[39m▁\u001b[39m▁\u001b[39m▁\u001b[39m▁\u001b[39m▁\u001b[39m▁\u001b[39m▁\u001b[39m▁\u001b[39m▁\u001b[39m▁\u001b[39m▁\u001b[39m▁\u001b[39m▁\u001b[39m▁\u001b[39m▁\u001b[39m▁\u001b[39m▁\u001b[39m▅\u001b[39m▇\u001b[39m█\u001b[39m█\u001b[39m▇\u001b[39m \u001b[39m█\n",
       "  758 μs\u001b[90m        \u001b[39m\u001b[90mHistogram: \u001b[39m\u001b[90m\u001b[1mlog(\u001b[22m\u001b[39m\u001b[90mfrequency\u001b[39m\u001b[90m\u001b[1m)\u001b[22m\u001b[39m\u001b[90m by time\u001b[39m      31.7 ms \u001b[0m\u001b[1m<\u001b[22m\n",
       "\n",
       " Memory estimate\u001b[90m: \u001b[39m\u001b[33m15.80 MiB\u001b[39m, allocs estimate\u001b[90m: \u001b[39m\u001b[33m73399\u001b[39m."
      ]
     },
     "execution_count": 79,
     "metadata": {},
     "output_type": "execute_result"
    }
   ],
   "source": [
    "@benchmark eval_jacobian!(sm)"
   ]
  },
  {
   "cell_type": "code",
   "execution_count": 80,
   "id": "bcebb78f-c51c-40fd-92f2-a19735978758",
   "metadata": {},
   "outputs": [],
   "source": [
    "eval_eqs!(sm)"
   ]
  },
  {
   "cell_type": "code",
   "execution_count": 81,
   "id": "8bcfeb4b-38f1-4568-9abd-970201748208",
   "metadata": {},
   "outputs": [
    {
     "data": {
      "text/plain": [
       "440-element Vector{Float64}:\n",
       " -0.003055778781202889\n",
       "  0.00509073014664603\n",
       "  0.0023815058526981403\n",
       "  0.005920563734116424\n",
       "  8.123659645194138\n",
       "  0.004001793649180211\n",
       " -0.004773985659348751\n",
       "  0.009670838508236024\n",
       " -0.782473739670987\n",
       " -0.0016039994717034023\n",
       "  0.0033638650438335693\n",
       "  0.004629741751910554\n",
       " -2.1137987713104676\n",
       "  ⋮\n",
       " -1.8262397102647148\n",
       "  0.009476262193637768\n",
       "  0.4508263572828002\n",
       "  2.9987934941910765e-5\n",
       "  4.574906303148426\n",
       "  0.008590894488270256\n",
       " -0.221187926823751\n",
       "  0.006727021033911651\n",
       "  0.8179190094713203\n",
       "  0.0005077544365202511\n",
       " -0.2317536856335225\n",
       "  0.0017787014922701072"
      ]
     },
     "execution_count": 81,
     "metadata": {},
     "output_type": "execute_result"
    }
   ],
   "source": [
    "sm.eqs[sm.nvars*0+1:sm.nvars*110]"
   ]
  },
  {
   "cell_type": "code",
   "execution_count": 82,
   "id": "b038758e-f241-4694-aa1a-3c7aab24f77d",
   "metadata": {},
   "outputs": [
    {
     "data": {
      "text/plain": [
       "4000-element Vector{Float64}:\n",
       "  0.0024333195042558673\n",
       "  0.0016299841882476632\n",
       "  0.0023815058526981403\n",
       "  0.005920563734116424\n",
       "  0.005489098285472336\n",
       " -7.560373250653712e-5\n",
       "  0.006535058426283903\n",
       "  0.009670838508236024\n",
       "  0.01365375582870368\n",
       "  0.007409595514841921\n",
       "  0.0009815510401593136\n",
       "  0.004629741751910554\n",
       "  0.004638022655345434\n",
       "  ⋮\n",
       "  0.5684529315733542\n",
       "  0.5678751578010564\n",
       "  0.004442077605074588\n",
       "  0.008806398490671885\n",
       "  0.9324591575757333\n",
       "  0.9369559163728338\n",
       "  0.008869701603580965\n",
       "  0.002268697651059526\n",
       "  0.005837624314251499\n",
       "  0.0005221860955693103\n",
       "  0.0009146740990707756\n",
       "  0.007803356965181418"
      ]
     },
     "execution_count": 82,
     "metadata": {},
     "output_type": "execute_result"
    }
   ],
   "source": [
    "(sm.jac\\sm.eqs)"
   ]
  },
  {
   "cell_type": "code",
   "execution_count": 83,
   "id": "1a34aa2c-fcda-4c94-b97a-a31eb4eaf3a6",
   "metadata": {},
   "outputs": [
    {
     "name": "stdout",
     "output_type": "stream",
     "text": [
      "maximum(corr) = 0.0012190354734534035\n",
      "maximum(corr) = 0.0005386193572717711\n",
      "maximum(corr) = 1.4195931129072827e-15\n",
      "maximum(corr) = 1.876958016896873e-15\n"
     ]
    }
   ],
   "source": [
    "for i in 1:4\n",
    "    eval_jacobian!(sm)\n",
    "    eval_eqs!(sm)\n",
    "    corr = sm.jac\\(-sm.eqs)\n",
    "    #scale correction\n",
    "    corr = corr*min(1,0.1/maximum(corr))\n",
    "    @show maximum(corr)\n",
    "    sm.ind_vars = sm.ind_vars+corr\n",
    "end"
   ]
  },
  {
   "cell_type": "code",
   "execution_count": 84,
   "id": "5f5f85c4-4406-4018-b2c9-70d571e7799c",
   "metadata": {},
   "outputs": [
    {
     "data": {
      "image/png": "[encoded data removed]"
     },
     "execution_count": 84,
     "metadata": {},
     "output_type": "execute_result"
    }
   ],
   "source": [
    "f = Figure()\n",
    "ax = Axis(f[1,1])\n",
    "xvals = collect(LinRange(0,1,1000))\n",
    "mass = xvals .* MSUN\n",
    "#lines!(ax, xvals, P_const_ρ(mass,1,MSUN))\n",
    "lines!(ax, xvals, T_const_ρ(mass,1,MSUN, 0.7,0.3,StellarChem.get_isotope_list()))\n",
    "lines!(ax, sm.m./sm.mstar, exp.([sm.ind_vars[sm.nvars*(k-1)+sm.vari[:lnT]] for k in 1:sm.nz]))\n",
    "f"
   ]
  },
  {
   "cell_type": "code",
   "execution_count": 67,
   "id": "d692ebb2-2d17-46da-a050-7c24854b9af7",
   "metadata": {},
   "outputs": [
    {
     "data": {
      "text/plain": [
       "4000-element Vector{Float64}:\n",
       "  34.36958971877807\n",
       "  15.446110073063991\n",
       " -10.0\n",
       "   1.0\n",
       "  34.36958971877807\n",
       "  15.446110073063991\n",
       "  22.77795795990407\n",
       "   1.0\n",
       "  34.356144696876925\n",
       "  15.43274490312565\n",
       "  23.00900702009072\n",
       "   1.0\n",
       "  34.35877395282239\n",
       "   ⋮\n",
       "  26.588755484841275\n",
       "   7.667309561164476\n",
       "  25.079541549891353\n",
       "   1.0\n",
       "  24.248416116775005\n",
       "   5.32697019309835\n",
       "  25.07987571867456\n",
       "   1.0\n",
       " -10.0\n",
       " -10.0\n",
       "  25.080209552786926\n",
       "   1.0"
      ]
     },
     "execution_count": 67,
     "metadata": {},
     "output_type": "execute_result"
    }
   ],
   "source": [
    "sm.ind_vars"
   ]
  },
  {
   "cell_type": "code",
   "execution_count": null,
   "id": "ae8d92f7-e135-4302-b2f3-4e8c49b062ac",
   "metadata": {},
   "outputs": [],
   "source": []
  }
 ],
 "metadata": {
  "kernelspec": {
   "display_name": "Julia 1.9.0",
   "language": "julia",
   "name": "julia-1.9"
  },
  "language_info": {
   "file_extension": ".jl",
   "mimetype": "application/julia",
   "name": "julia",
   "version": "1.9.0"
  }
 },
 "nbformat": 4,
 "nbformat_minor": 5
}
